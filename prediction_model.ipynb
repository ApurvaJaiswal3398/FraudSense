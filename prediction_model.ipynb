{
  "cells": [
    {
      "cell_type": "code",
      "execution_count": 1,
      "metadata": {
        "id": "aopHXCKMrj0n"
      },
      "outputs": [],
      "source": [
        "import tensorflow as tf\n",
        "import pandas as pd                                         # data processing, CSV file I/O (e.g. pd.read_csv)\n",
        "import numpy as np                                          # linear algebra\n",
        "from tensorflow.keras.models import Sequential              # model type\n",
        "from tensorflow.keras.layers import Dense, Dropout          # dense layer, dropout layer\n",
        "from tensorflow.keras.activations import relu, sigmoid      # activation functions\n",
        "from tensorflow.keras.optimizers import SGD                 # stochastic gradient descent\n",
        "from tensorflow.keras.losses import binary_crossentropy     # cost function"
      ]
    },
    {
      "cell_type": "code",
      "source": [
        "from google.colab import drive\n",
        "drive.mount('/content/drive')"
      ],
      "metadata": {
        "colab": {
          "base_uri": "https://localhost:8080/"
        },
        "id": "Uc7A-T1ssqcT",
        "outputId": "bdc0b7cf-be9f-4468-b009-8354e3dc63b9"
      },
      "execution_count": 2,
      "outputs": [
        {
          "output_type": "stream",
          "name": "stdout",
          "text": [
            "Mounted at /content/drive\n"
          ]
        }
      ]
    },
    {
      "cell_type": "code",
      "execution_count": 14,
      "metadata": {
        "colab": {
          "base_uri": "https://localhost:8080/",
          "height": 488
        },
        "id": "dUpSQvmrrj0w",
        "outputId": "4018d9a7-d48d-4651-eebd-ca035b9eec06"
      },
      "outputs": [
        {
          "output_type": "execute_result",
          "data": {
            "text/plain": [
              "        step      type    amount     nameOrig  oldbalanceOrg  newbalanceOrig  \\\n",
              "0          1   PAYMENT   9839.64  C1231006815      170136.00       160296.36   \n",
              "1          1   PAYMENT   1864.28  C1666544295       21249.00        19384.72   \n",
              "2          1  TRANSFER    181.00  C1305486145         181.00            0.00   \n",
              "3          1  CASH_OUT    181.00   C840083671         181.00            0.00   \n",
              "4          1   PAYMENT  11668.14  C2048537720       41554.00        29885.86   \n",
              "...      ...       ...       ...          ...            ...             ...   \n",
              "999994    45   PAYMENT   2987.49  C2072426611      579096.28       576108.80   \n",
              "999995    45   PAYMENT  10913.42  C1384914558      576108.80       565195.38   \n",
              "999996    45   PAYMENT   2014.46  C1207593845      565195.38       563180.92   \n",
              "999997    45   PAYMENT  18839.45   C260638437      563180.92       544341.47   \n",
              "999998    45   PAYMENT  17890.19   C439661237      544341.47       526451.29   \n",
              "\n",
              "           nameDest  oldbalanceDest  newbalanceDest  isFraud  isFlaggedFraud  \n",
              "0       M1979787155             0.0             0.0        0               0  \n",
              "1       M2044282225             0.0             0.0        0               0  \n",
              "2        C553264065             0.0             0.0        1               0  \n",
              "3         C38997010         21182.0             0.0        1               0  \n",
              "4       M1230701703             0.0             0.0        0               0  \n",
              "...             ...             ...             ...      ...             ...  \n",
              "999994    M58668896             0.0             0.0        0               0  \n",
              "999995   M166797080             0.0             0.0        0               0  \n",
              "999996  M1027899613             0.0             0.0        0               0  \n",
              "999997   M243388883             0.0             0.0        0               0  \n",
              "999998    M66034502             0.0             0.0        0               0  \n",
              "\n",
              "[999999 rows x 11 columns]"
            ],
            "text/html": [
              "\n",
              "  <div id=\"df-21eb760b-7261-469c-8cbc-0d3fc968fcf8\">\n",
              "    <div class=\"colab-df-container\">\n",
              "      <div>\n",
              "<style scoped>\n",
              "    .dataframe tbody tr th:only-of-type {\n",
              "        vertical-align: middle;\n",
              "    }\n",
              "\n",
              "    .dataframe tbody tr th {\n",
              "        vertical-align: top;\n",
              "    }\n",
              "\n",
              "    .dataframe thead th {\n",
              "        text-align: right;\n",
              "    }\n",
              "</style>\n",
              "<table border=\"1\" class=\"dataframe\">\n",
              "  <thead>\n",
              "    <tr style=\"text-align: right;\">\n",
              "      <th></th>\n",
              "      <th>step</th>\n",
              "      <th>type</th>\n",
              "      <th>amount</th>\n",
              "      <th>nameOrig</th>\n",
              "      <th>oldbalanceOrg</th>\n",
              "      <th>newbalanceOrig</th>\n",
              "      <th>nameDest</th>\n",
              "      <th>oldbalanceDest</th>\n",
              "      <th>newbalanceDest</th>\n",
              "      <th>isFraud</th>\n",
              "      <th>isFlaggedFraud</th>\n",
              "    </tr>\n",
              "  </thead>\n",
              "  <tbody>\n",
              "    <tr>\n",
              "      <th>0</th>\n",
              "      <td>1</td>\n",
              "      <td>PAYMENT</td>\n",
              "      <td>9839.64</td>\n",
              "      <td>C1231006815</td>\n",
              "      <td>170136.00</td>\n",
              "      <td>160296.36</td>\n",
              "      <td>M1979787155</td>\n",
              "      <td>0.0</td>\n",
              "      <td>0.0</td>\n",
              "      <td>0</td>\n",
              "      <td>0</td>\n",
              "    </tr>\n",
              "    <tr>\n",
              "      <th>1</th>\n",
              "      <td>1</td>\n",
              "      <td>PAYMENT</td>\n",
              "      <td>1864.28</td>\n",
              "      <td>C1666544295</td>\n",
              "      <td>21249.00</td>\n",
              "      <td>19384.72</td>\n",
              "      <td>M2044282225</td>\n",
              "      <td>0.0</td>\n",
              "      <td>0.0</td>\n",
              "      <td>0</td>\n",
              "      <td>0</td>\n",
              "    </tr>\n",
              "    <tr>\n",
              "      <th>2</th>\n",
              "      <td>1</td>\n",
              "      <td>TRANSFER</td>\n",
              "      <td>181.00</td>\n",
              "      <td>C1305486145</td>\n",
              "      <td>181.00</td>\n",
              "      <td>0.00</td>\n",
              "      <td>C553264065</td>\n",
              "      <td>0.0</td>\n",
              "      <td>0.0</td>\n",
              "      <td>1</td>\n",
              "      <td>0</td>\n",
              "    </tr>\n",
              "    <tr>\n",
              "      <th>3</th>\n",
              "      <td>1</td>\n",
              "      <td>CASH_OUT</td>\n",
              "      <td>181.00</td>\n",
              "      <td>C840083671</td>\n",
              "      <td>181.00</td>\n",
              "      <td>0.00</td>\n",
              "      <td>C38997010</td>\n",
              "      <td>21182.0</td>\n",
              "      <td>0.0</td>\n",
              "      <td>1</td>\n",
              "      <td>0</td>\n",
              "    </tr>\n",
              "    <tr>\n",
              "      <th>4</th>\n",
              "      <td>1</td>\n",
              "      <td>PAYMENT</td>\n",
              "      <td>11668.14</td>\n",
              "      <td>C2048537720</td>\n",
              "      <td>41554.00</td>\n",
              "      <td>29885.86</td>\n",
              "      <td>M1230701703</td>\n",
              "      <td>0.0</td>\n",
              "      <td>0.0</td>\n",
              "      <td>0</td>\n",
              "      <td>0</td>\n",
              "    </tr>\n",
              "    <tr>\n",
              "      <th>...</th>\n",
              "      <td>...</td>\n",
              "      <td>...</td>\n",
              "      <td>...</td>\n",
              "      <td>...</td>\n",
              "      <td>...</td>\n",
              "      <td>...</td>\n",
              "      <td>...</td>\n",
              "      <td>...</td>\n",
              "      <td>...</td>\n",
              "      <td>...</td>\n",
              "      <td>...</td>\n",
              "    </tr>\n",
              "    <tr>\n",
              "      <th>999994</th>\n",
              "      <td>45</td>\n",
              "      <td>PAYMENT</td>\n",
              "      <td>2987.49</td>\n",
              "      <td>C2072426611</td>\n",
              "      <td>579096.28</td>\n",
              "      <td>576108.80</td>\n",
              "      <td>M58668896</td>\n",
              "      <td>0.0</td>\n",
              "      <td>0.0</td>\n",
              "      <td>0</td>\n",
              "      <td>0</td>\n",
              "    </tr>\n",
              "    <tr>\n",
              "      <th>999995</th>\n",
              "      <td>45</td>\n",
              "      <td>PAYMENT</td>\n",
              "      <td>10913.42</td>\n",
              "      <td>C1384914558</td>\n",
              "      <td>576108.80</td>\n",
              "      <td>565195.38</td>\n",
              "      <td>M166797080</td>\n",
              "      <td>0.0</td>\n",
              "      <td>0.0</td>\n",
              "      <td>0</td>\n",
              "      <td>0</td>\n",
              "    </tr>\n",
              "    <tr>\n",
              "      <th>999996</th>\n",
              "      <td>45</td>\n",
              "      <td>PAYMENT</td>\n",
              "      <td>2014.46</td>\n",
              "      <td>C1207593845</td>\n",
              "      <td>565195.38</td>\n",
              "      <td>563180.92</td>\n",
              "      <td>M1027899613</td>\n",
              "      <td>0.0</td>\n",
              "      <td>0.0</td>\n",
              "      <td>0</td>\n",
              "      <td>0</td>\n",
              "    </tr>\n",
              "    <tr>\n",
              "      <th>999997</th>\n",
              "      <td>45</td>\n",
              "      <td>PAYMENT</td>\n",
              "      <td>18839.45</td>\n",
              "      <td>C260638437</td>\n",
              "      <td>563180.92</td>\n",
              "      <td>544341.47</td>\n",
              "      <td>M243388883</td>\n",
              "      <td>0.0</td>\n",
              "      <td>0.0</td>\n",
              "      <td>0</td>\n",
              "      <td>0</td>\n",
              "    </tr>\n",
              "    <tr>\n",
              "      <th>999998</th>\n",
              "      <td>45</td>\n",
              "      <td>PAYMENT</td>\n",
              "      <td>17890.19</td>\n",
              "      <td>C439661237</td>\n",
              "      <td>544341.47</td>\n",
              "      <td>526451.29</td>\n",
              "      <td>M66034502</td>\n",
              "      <td>0.0</td>\n",
              "      <td>0.0</td>\n",
              "      <td>0</td>\n",
              "      <td>0</td>\n",
              "    </tr>\n",
              "  </tbody>\n",
              "</table>\n",
              "<p>999999 rows × 11 columns</p>\n",
              "</div>\n",
              "      <button class=\"colab-df-convert\" onclick=\"convertToInteractive('df-21eb760b-7261-469c-8cbc-0d3fc968fcf8')\"\n",
              "              title=\"Convert this dataframe to an interactive table.\"\n",
              "              style=\"display:none;\">\n",
              "        \n",
              "  <svg xmlns=\"http://www.w3.org/2000/svg\" height=\"24px\"viewBox=\"0 0 24 24\"\n",
              "       width=\"24px\">\n",
              "    <path d=\"M0 0h24v24H0V0z\" fill=\"none\"/>\n",
              "    <path d=\"M18.56 5.44l.94 2.06.94-2.06 2.06-.94-2.06-.94-.94-2.06-.94 2.06-2.06.94zm-11 1L8.5 8.5l.94-2.06 2.06-.94-2.06-.94L8.5 2.5l-.94 2.06-2.06.94zm10 10l.94 2.06.94-2.06 2.06-.94-2.06-.94-.94-2.06-.94 2.06-2.06.94z\"/><path d=\"M17.41 7.96l-1.37-1.37c-.4-.4-.92-.59-1.43-.59-.52 0-1.04.2-1.43.59L10.3 9.45l-7.72 7.72c-.78.78-.78 2.05 0 2.83L4 21.41c.39.39.9.59 1.41.59.51 0 1.02-.2 1.41-.59l7.78-7.78 2.81-2.81c.8-.78.8-2.07 0-2.86zM5.41 20L4 18.59l7.72-7.72 1.47 1.35L5.41 20z\"/>\n",
              "  </svg>\n",
              "      </button>\n",
              "      \n",
              "  <style>\n",
              "    .colab-df-container {\n",
              "      display:flex;\n",
              "      flex-wrap:wrap;\n",
              "      gap: 12px;\n",
              "    }\n",
              "\n",
              "    .colab-df-convert {\n",
              "      background-color: #E8F0FE;\n",
              "      border: none;\n",
              "      border-radius: 50%;\n",
              "      cursor: pointer;\n",
              "      display: none;\n",
              "      fill: #1967D2;\n",
              "      height: 32px;\n",
              "      padding: 0 0 0 0;\n",
              "      width: 32px;\n",
              "    }\n",
              "\n",
              "    .colab-df-convert:hover {\n",
              "      background-color: #E2EBFA;\n",
              "      box-shadow: 0px 1px 2px rgba(60, 64, 67, 0.3), 0px 1px 3px 1px rgba(60, 64, 67, 0.15);\n",
              "      fill: #174EA6;\n",
              "    }\n",
              "\n",
              "    [theme=dark] .colab-df-convert {\n",
              "      background-color: #3B4455;\n",
              "      fill: #D2E3FC;\n",
              "    }\n",
              "\n",
              "    [theme=dark] .colab-df-convert:hover {\n",
              "      background-color: #434B5C;\n",
              "      box-shadow: 0px 1px 3px 1px rgba(0, 0, 0, 0.15);\n",
              "      filter: drop-shadow(0px 1px 2px rgba(0, 0, 0, 0.3));\n",
              "      fill: #FFFFFF;\n",
              "    }\n",
              "  </style>\n",
              "\n",
              "      <script>\n",
              "        const buttonEl =\n",
              "          document.querySelector('#df-21eb760b-7261-469c-8cbc-0d3fc968fcf8 button.colab-df-convert');\n",
              "        buttonEl.style.display =\n",
              "          google.colab.kernel.accessAllowed ? 'block' : 'none';\n",
              "\n",
              "        async function convertToInteractive(key) {\n",
              "          const element = document.querySelector('#df-21eb760b-7261-469c-8cbc-0d3fc968fcf8');\n",
              "          const dataTable =\n",
              "            await google.colab.kernel.invokeFunction('convertToInteractive',\n",
              "                                                     [key], {});\n",
              "          if (!dataTable) return;\n",
              "\n",
              "          const docLinkHtml = 'Like what you see? Visit the ' +\n",
              "            '<a target=\"_blank\" href=https://colab.research.google.com/notebooks/data_table.ipynb>data table notebook</a>'\n",
              "            + ' to learn more about interactive tables.';\n",
              "          element.innerHTML = '';\n",
              "          dataTable['output_type'] = 'display_data';\n",
              "          await google.colab.output.renderOutput(dataTable, element);\n",
              "          const docLink = document.createElement('div');\n",
              "          docLink.innerHTML = docLinkHtml;\n",
              "          element.appendChild(docLink);\n",
              "        }\n",
              "      </script>\n",
              "    </div>\n",
              "  </div>\n",
              "  "
            ]
          },
          "metadata": {},
          "execution_count": 14
        }
      ],
      "source": [
        "df = pd.read_csv('/content/drive/MyDrive/Dataset/Fraud_Detection_Dataset.csv')\n",
        "df"
      ]
    },
    {
      "cell_type": "code",
      "execution_count": 15,
      "metadata": {
        "colab": {
          "base_uri": "https://localhost:8080/"
        },
        "id": "_S8L_UsErj0y",
        "outputId": "4a78dedd-8029-42f2-8911-cf73b4fb7d4d"
      },
      "outputs": [
        {
          "output_type": "execute_result",
          "data": {
            "text/plain": [
              "step              0\n",
              "type              0\n",
              "amount            0\n",
              "nameOrig          0\n",
              "oldbalanceOrg     0\n",
              "newbalanceOrig    0\n",
              "nameDest          0\n",
              "oldbalanceDest    0\n",
              "newbalanceDest    0\n",
              "isFraud           0\n",
              "isFlaggedFraud    0\n",
              "dtype: int64"
            ]
          },
          "metadata": {},
          "execution_count": 15
        }
      ],
      "source": [
        "df.isnull().sum()"
      ]
    },
    {
      "cell_type": "code",
      "execution_count": 16,
      "metadata": {
        "colab": {
          "base_uri": "https://localhost:8080/"
        },
        "id": "4E5R9yQMrj0z",
        "outputId": "e1e2d947-1d8a-44b0-bef9-e2d41075c227"
      },
      "outputs": [
        {
          "output_type": "stream",
          "name": "stdout",
          "text": [
            "<class 'pandas.core.frame.DataFrame'>\n",
            "RangeIndex: 999999 entries, 0 to 999998\n",
            "Data columns (total 11 columns):\n",
            " #   Column          Non-Null Count   Dtype  \n",
            "---  ------          --------------   -----  \n",
            " 0   step            999999 non-null  int64  \n",
            " 1   type            999999 non-null  object \n",
            " 2   amount          999999 non-null  float64\n",
            " 3   nameOrig        999999 non-null  object \n",
            " 4   oldbalanceOrg   999999 non-null  float64\n",
            " 5   newbalanceOrig  999999 non-null  float64\n",
            " 6   nameDest        999999 non-null  object \n",
            " 7   oldbalanceDest  999999 non-null  float64\n",
            " 8   newbalanceDest  999999 non-null  float64\n",
            " 9   isFraud         999999 non-null  int64  \n",
            " 10  isFlaggedFraud  999999 non-null  int64  \n",
            "dtypes: float64(5), int64(3), object(3)\n",
            "memory usage: 83.9+ MB\n"
          ]
        }
      ],
      "source": [
        "df.info()"
      ]
    },
    {
      "cell_type": "code",
      "execution_count": 17,
      "metadata": {
        "colab": {
          "base_uri": "https://localhost:8080/",
          "height": 424
        },
        "id": "mUPopjc0rj00",
        "outputId": "effa3e5c-4c06-41b9-c306-006193c52bb8"
      },
      "outputs": [
        {
          "output_type": "execute_result",
          "data": {
            "text/plain": [
              "            type     nameOrig     nameDest\n",
              "0        PAYMENT  C1231006815  M1979787155\n",
              "1        PAYMENT  C1666544295  M2044282225\n",
              "2       TRANSFER  C1305486145   C553264065\n",
              "3       CASH_OUT   C840083671    C38997010\n",
              "4        PAYMENT  C2048537720  M1230701703\n",
              "...          ...          ...          ...\n",
              "999994   PAYMENT  C2072426611    M58668896\n",
              "999995   PAYMENT  C1384914558   M166797080\n",
              "999996   PAYMENT  C1207593845  M1027899613\n",
              "999997   PAYMENT   C260638437   M243388883\n",
              "999998   PAYMENT   C439661237    M66034502\n",
              "\n",
              "[999999 rows x 3 columns]"
            ],
            "text/html": [
              "\n",
              "  <div id=\"df-6d2ec4e4-bd8a-4a98-a63c-0d59decfc1b9\">\n",
              "    <div class=\"colab-df-container\">\n",
              "      <div>\n",
              "<style scoped>\n",
              "    .dataframe tbody tr th:only-of-type {\n",
              "        vertical-align: middle;\n",
              "    }\n",
              "\n",
              "    .dataframe tbody tr th {\n",
              "        vertical-align: top;\n",
              "    }\n",
              "\n",
              "    .dataframe thead th {\n",
              "        text-align: right;\n",
              "    }\n",
              "</style>\n",
              "<table border=\"1\" class=\"dataframe\">\n",
              "  <thead>\n",
              "    <tr style=\"text-align: right;\">\n",
              "      <th></th>\n",
              "      <th>type</th>\n",
              "      <th>nameOrig</th>\n",
              "      <th>nameDest</th>\n",
              "    </tr>\n",
              "  </thead>\n",
              "  <tbody>\n",
              "    <tr>\n",
              "      <th>0</th>\n",
              "      <td>PAYMENT</td>\n",
              "      <td>C1231006815</td>\n",
              "      <td>M1979787155</td>\n",
              "    </tr>\n",
              "    <tr>\n",
              "      <th>1</th>\n",
              "      <td>PAYMENT</td>\n",
              "      <td>C1666544295</td>\n",
              "      <td>M2044282225</td>\n",
              "    </tr>\n",
              "    <tr>\n",
              "      <th>2</th>\n",
              "      <td>TRANSFER</td>\n",
              "      <td>C1305486145</td>\n",
              "      <td>C553264065</td>\n",
              "    </tr>\n",
              "    <tr>\n",
              "      <th>3</th>\n",
              "      <td>CASH_OUT</td>\n",
              "      <td>C840083671</td>\n",
              "      <td>C38997010</td>\n",
              "    </tr>\n",
              "    <tr>\n",
              "      <th>4</th>\n",
              "      <td>PAYMENT</td>\n",
              "      <td>C2048537720</td>\n",
              "      <td>M1230701703</td>\n",
              "    </tr>\n",
              "    <tr>\n",
              "      <th>...</th>\n",
              "      <td>...</td>\n",
              "      <td>...</td>\n",
              "      <td>...</td>\n",
              "    </tr>\n",
              "    <tr>\n",
              "      <th>999994</th>\n",
              "      <td>PAYMENT</td>\n",
              "      <td>C2072426611</td>\n",
              "      <td>M58668896</td>\n",
              "    </tr>\n",
              "    <tr>\n",
              "      <th>999995</th>\n",
              "      <td>PAYMENT</td>\n",
              "      <td>C1384914558</td>\n",
              "      <td>M166797080</td>\n",
              "    </tr>\n",
              "    <tr>\n",
              "      <th>999996</th>\n",
              "      <td>PAYMENT</td>\n",
              "      <td>C1207593845</td>\n",
              "      <td>M1027899613</td>\n",
              "    </tr>\n",
              "    <tr>\n",
              "      <th>999997</th>\n",
              "      <td>PAYMENT</td>\n",
              "      <td>C260638437</td>\n",
              "      <td>M243388883</td>\n",
              "    </tr>\n",
              "    <tr>\n",
              "      <th>999998</th>\n",
              "      <td>PAYMENT</td>\n",
              "      <td>C439661237</td>\n",
              "      <td>M66034502</td>\n",
              "    </tr>\n",
              "  </tbody>\n",
              "</table>\n",
              "<p>999999 rows × 3 columns</p>\n",
              "</div>\n",
              "      <button class=\"colab-df-convert\" onclick=\"convertToInteractive('df-6d2ec4e4-bd8a-4a98-a63c-0d59decfc1b9')\"\n",
              "              title=\"Convert this dataframe to an interactive table.\"\n",
              "              style=\"display:none;\">\n",
              "        \n",
              "  <svg xmlns=\"http://www.w3.org/2000/svg\" height=\"24px\"viewBox=\"0 0 24 24\"\n",
              "       width=\"24px\">\n",
              "    <path d=\"M0 0h24v24H0V0z\" fill=\"none\"/>\n",
              "    <path d=\"M18.56 5.44l.94 2.06.94-2.06 2.06-.94-2.06-.94-.94-2.06-.94 2.06-2.06.94zm-11 1L8.5 8.5l.94-2.06 2.06-.94-2.06-.94L8.5 2.5l-.94 2.06-2.06.94zm10 10l.94 2.06.94-2.06 2.06-.94-2.06-.94-.94-2.06-.94 2.06-2.06.94z\"/><path d=\"M17.41 7.96l-1.37-1.37c-.4-.4-.92-.59-1.43-.59-.52 0-1.04.2-1.43.59L10.3 9.45l-7.72 7.72c-.78.78-.78 2.05 0 2.83L4 21.41c.39.39.9.59 1.41.59.51 0 1.02-.2 1.41-.59l7.78-7.78 2.81-2.81c.8-.78.8-2.07 0-2.86zM5.41 20L4 18.59l7.72-7.72 1.47 1.35L5.41 20z\"/>\n",
              "  </svg>\n",
              "      </button>\n",
              "      \n",
              "  <style>\n",
              "    .colab-df-container {\n",
              "      display:flex;\n",
              "      flex-wrap:wrap;\n",
              "      gap: 12px;\n",
              "    }\n",
              "\n",
              "    .colab-df-convert {\n",
              "      background-color: #E8F0FE;\n",
              "      border: none;\n",
              "      border-radius: 50%;\n",
              "      cursor: pointer;\n",
              "      display: none;\n",
              "      fill: #1967D2;\n",
              "      height: 32px;\n",
              "      padding: 0 0 0 0;\n",
              "      width: 32px;\n",
              "    }\n",
              "\n",
              "    .colab-df-convert:hover {\n",
              "      background-color: #E2EBFA;\n",
              "      box-shadow: 0px 1px 2px rgba(60, 64, 67, 0.3), 0px 1px 3px 1px rgba(60, 64, 67, 0.15);\n",
              "      fill: #174EA6;\n",
              "    }\n",
              "\n",
              "    [theme=dark] .colab-df-convert {\n",
              "      background-color: #3B4455;\n",
              "      fill: #D2E3FC;\n",
              "    }\n",
              "\n",
              "    [theme=dark] .colab-df-convert:hover {\n",
              "      background-color: #434B5C;\n",
              "      box-shadow: 0px 1px 3px 1px rgba(0, 0, 0, 0.15);\n",
              "      filter: drop-shadow(0px 1px 2px rgba(0, 0, 0, 0.3));\n",
              "      fill: #FFFFFF;\n",
              "    }\n",
              "  </style>\n",
              "\n",
              "      <script>\n",
              "        const buttonEl =\n",
              "          document.querySelector('#df-6d2ec4e4-bd8a-4a98-a63c-0d59decfc1b9 button.colab-df-convert');\n",
              "        buttonEl.style.display =\n",
              "          google.colab.kernel.accessAllowed ? 'block' : 'none';\n",
              "\n",
              "        async function convertToInteractive(key) {\n",
              "          const element = document.querySelector('#df-6d2ec4e4-bd8a-4a98-a63c-0d59decfc1b9');\n",
              "          const dataTable =\n",
              "            await google.colab.kernel.invokeFunction('convertToInteractive',\n",
              "                                                     [key], {});\n",
              "          if (!dataTable) return;\n",
              "\n",
              "          const docLinkHtml = 'Like what you see? Visit the ' +\n",
              "            '<a target=\"_blank\" href=https://colab.research.google.com/notebooks/data_table.ipynb>data table notebook</a>'\n",
              "            + ' to learn more about interactive tables.';\n",
              "          element.innerHTML = '';\n",
              "          dataTable['output_type'] = 'display_data';\n",
              "          await google.colab.output.renderOutput(dataTable, element);\n",
              "          const docLink = document.createElement('div');\n",
              "          docLink.innerHTML = docLinkHtml;\n",
              "          element.appendChild(docLink);\n",
              "        }\n",
              "      </script>\n",
              "    </div>\n",
              "  </div>\n",
              "  "
            ]
          },
          "metadata": {},
          "execution_count": 17
        }
      ],
      "source": [
        "cat_columns = df.select_dtypes(include='object').columns\n",
        "df[cat_columns]"
      ]
    },
    {
      "cell_type": "code",
      "execution_count": 18,
      "metadata": {
        "colab": {
          "base_uri": "https://localhost:8080/",
          "height": 424
        },
        "id": "4ePoxf3Wrj01",
        "outputId": "62aadf44-ce17-4e1c-d422-266494ac07ff"
      },
      "outputs": [
        {
          "output_type": "execute_result",
          "data": {
            "text/plain": [
              "        step    amount  oldbalanceOrg  newbalanceOrig  oldbalanceDest  \\\n",
              "0          1   9839.64      170136.00       160296.36             0.0   \n",
              "1          1   1864.28       21249.00        19384.72             0.0   \n",
              "2          1    181.00         181.00            0.00             0.0   \n",
              "3          1    181.00         181.00            0.00         21182.0   \n",
              "4          1  11668.14       41554.00        29885.86             0.0   \n",
              "...      ...       ...            ...             ...             ...   \n",
              "999994    45   2987.49      579096.28       576108.80             0.0   \n",
              "999995    45  10913.42      576108.80       565195.38             0.0   \n",
              "999996    45   2014.46      565195.38       563180.92             0.0   \n",
              "999997    45  18839.45      563180.92       544341.47             0.0   \n",
              "999998    45  17890.19      544341.47       526451.29             0.0   \n",
              "\n",
              "        newbalanceDest  isFraud  isFlaggedFraud  \n",
              "0                  0.0        0               0  \n",
              "1                  0.0        0               0  \n",
              "2                  0.0        1               0  \n",
              "3                  0.0        1               0  \n",
              "4                  0.0        0               0  \n",
              "...                ...      ...             ...  \n",
              "999994             0.0        0               0  \n",
              "999995             0.0        0               0  \n",
              "999996             0.0        0               0  \n",
              "999997             0.0        0               0  \n",
              "999998             0.0        0               0  \n",
              "\n",
              "[999999 rows x 8 columns]"
            ],
            "text/html": [
              "\n",
              "  <div id=\"df-533b0ae4-befd-4a78-a31f-0f7015760df9\">\n",
              "    <div class=\"colab-df-container\">\n",
              "      <div>\n",
              "<style scoped>\n",
              "    .dataframe tbody tr th:only-of-type {\n",
              "        vertical-align: middle;\n",
              "    }\n",
              "\n",
              "    .dataframe tbody tr th {\n",
              "        vertical-align: top;\n",
              "    }\n",
              "\n",
              "    .dataframe thead th {\n",
              "        text-align: right;\n",
              "    }\n",
              "</style>\n",
              "<table border=\"1\" class=\"dataframe\">\n",
              "  <thead>\n",
              "    <tr style=\"text-align: right;\">\n",
              "      <th></th>\n",
              "      <th>step</th>\n",
              "      <th>amount</th>\n",
              "      <th>oldbalanceOrg</th>\n",
              "      <th>newbalanceOrig</th>\n",
              "      <th>oldbalanceDest</th>\n",
              "      <th>newbalanceDest</th>\n",
              "      <th>isFraud</th>\n",
              "      <th>isFlaggedFraud</th>\n",
              "    </tr>\n",
              "  </thead>\n",
              "  <tbody>\n",
              "    <tr>\n",
              "      <th>0</th>\n",
              "      <td>1</td>\n",
              "      <td>9839.64</td>\n",
              "      <td>170136.00</td>\n",
              "      <td>160296.36</td>\n",
              "      <td>0.0</td>\n",
              "      <td>0.0</td>\n",
              "      <td>0</td>\n",
              "      <td>0</td>\n",
              "    </tr>\n",
              "    <tr>\n",
              "      <th>1</th>\n",
              "      <td>1</td>\n",
              "      <td>1864.28</td>\n",
              "      <td>21249.00</td>\n",
              "      <td>19384.72</td>\n",
              "      <td>0.0</td>\n",
              "      <td>0.0</td>\n",
              "      <td>0</td>\n",
              "      <td>0</td>\n",
              "    </tr>\n",
              "    <tr>\n",
              "      <th>2</th>\n",
              "      <td>1</td>\n",
              "      <td>181.00</td>\n",
              "      <td>181.00</td>\n",
              "      <td>0.00</td>\n",
              "      <td>0.0</td>\n",
              "      <td>0.0</td>\n",
              "      <td>1</td>\n",
              "      <td>0</td>\n",
              "    </tr>\n",
              "    <tr>\n",
              "      <th>3</th>\n",
              "      <td>1</td>\n",
              "      <td>181.00</td>\n",
              "      <td>181.00</td>\n",
              "      <td>0.00</td>\n",
              "      <td>21182.0</td>\n",
              "      <td>0.0</td>\n",
              "      <td>1</td>\n",
              "      <td>0</td>\n",
              "    </tr>\n",
              "    <tr>\n",
              "      <th>4</th>\n",
              "      <td>1</td>\n",
              "      <td>11668.14</td>\n",
              "      <td>41554.00</td>\n",
              "      <td>29885.86</td>\n",
              "      <td>0.0</td>\n",
              "      <td>0.0</td>\n",
              "      <td>0</td>\n",
              "      <td>0</td>\n",
              "    </tr>\n",
              "    <tr>\n",
              "      <th>...</th>\n",
              "      <td>...</td>\n",
              "      <td>...</td>\n",
              "      <td>...</td>\n",
              "      <td>...</td>\n",
              "      <td>...</td>\n",
              "      <td>...</td>\n",
              "      <td>...</td>\n",
              "      <td>...</td>\n",
              "    </tr>\n",
              "    <tr>\n",
              "      <th>999994</th>\n",
              "      <td>45</td>\n",
              "      <td>2987.49</td>\n",
              "      <td>579096.28</td>\n",
              "      <td>576108.80</td>\n",
              "      <td>0.0</td>\n",
              "      <td>0.0</td>\n",
              "      <td>0</td>\n",
              "      <td>0</td>\n",
              "    </tr>\n",
              "    <tr>\n",
              "      <th>999995</th>\n",
              "      <td>45</td>\n",
              "      <td>10913.42</td>\n",
              "      <td>576108.80</td>\n",
              "      <td>565195.38</td>\n",
              "      <td>0.0</td>\n",
              "      <td>0.0</td>\n",
              "      <td>0</td>\n",
              "      <td>0</td>\n",
              "    </tr>\n",
              "    <tr>\n",
              "      <th>999996</th>\n",
              "      <td>45</td>\n",
              "      <td>2014.46</td>\n",
              "      <td>565195.38</td>\n",
              "      <td>563180.92</td>\n",
              "      <td>0.0</td>\n",
              "      <td>0.0</td>\n",
              "      <td>0</td>\n",
              "      <td>0</td>\n",
              "    </tr>\n",
              "    <tr>\n",
              "      <th>999997</th>\n",
              "      <td>45</td>\n",
              "      <td>18839.45</td>\n",
              "      <td>563180.92</td>\n",
              "      <td>544341.47</td>\n",
              "      <td>0.0</td>\n",
              "      <td>0.0</td>\n",
              "      <td>0</td>\n",
              "      <td>0</td>\n",
              "    </tr>\n",
              "    <tr>\n",
              "      <th>999998</th>\n",
              "      <td>45</td>\n",
              "      <td>17890.19</td>\n",
              "      <td>544341.47</td>\n",
              "      <td>526451.29</td>\n",
              "      <td>0.0</td>\n",
              "      <td>0.0</td>\n",
              "      <td>0</td>\n",
              "      <td>0</td>\n",
              "    </tr>\n",
              "  </tbody>\n",
              "</table>\n",
              "<p>999999 rows × 8 columns</p>\n",
              "</div>\n",
              "      <button class=\"colab-df-convert\" onclick=\"convertToInteractive('df-533b0ae4-befd-4a78-a31f-0f7015760df9')\"\n",
              "              title=\"Convert this dataframe to an interactive table.\"\n",
              "              style=\"display:none;\">\n",
              "        \n",
              "  <svg xmlns=\"http://www.w3.org/2000/svg\" height=\"24px\"viewBox=\"0 0 24 24\"\n",
              "       width=\"24px\">\n",
              "    <path d=\"M0 0h24v24H0V0z\" fill=\"none\"/>\n",
              "    <path d=\"M18.56 5.44l.94 2.06.94-2.06 2.06-.94-2.06-.94-.94-2.06-.94 2.06-2.06.94zm-11 1L8.5 8.5l.94-2.06 2.06-.94-2.06-.94L8.5 2.5l-.94 2.06-2.06.94zm10 10l.94 2.06.94-2.06 2.06-.94-2.06-.94-.94-2.06-.94 2.06-2.06.94z\"/><path d=\"M17.41 7.96l-1.37-1.37c-.4-.4-.92-.59-1.43-.59-.52 0-1.04.2-1.43.59L10.3 9.45l-7.72 7.72c-.78.78-.78 2.05 0 2.83L4 21.41c.39.39.9.59 1.41.59.51 0 1.02-.2 1.41-.59l7.78-7.78 2.81-2.81c.8-.78.8-2.07 0-2.86zM5.41 20L4 18.59l7.72-7.72 1.47 1.35L5.41 20z\"/>\n",
              "  </svg>\n",
              "      </button>\n",
              "      \n",
              "  <style>\n",
              "    .colab-df-container {\n",
              "      display:flex;\n",
              "      flex-wrap:wrap;\n",
              "      gap: 12px;\n",
              "    }\n",
              "\n",
              "    .colab-df-convert {\n",
              "      background-color: #E8F0FE;\n",
              "      border: none;\n",
              "      border-radius: 50%;\n",
              "      cursor: pointer;\n",
              "      display: none;\n",
              "      fill: #1967D2;\n",
              "      height: 32px;\n",
              "      padding: 0 0 0 0;\n",
              "      width: 32px;\n",
              "    }\n",
              "\n",
              "    .colab-df-convert:hover {\n",
              "      background-color: #E2EBFA;\n",
              "      box-shadow: 0px 1px 2px rgba(60, 64, 67, 0.3), 0px 1px 3px 1px rgba(60, 64, 67, 0.15);\n",
              "      fill: #174EA6;\n",
              "    }\n",
              "\n",
              "    [theme=dark] .colab-df-convert {\n",
              "      background-color: #3B4455;\n",
              "      fill: #D2E3FC;\n",
              "    }\n",
              "\n",
              "    [theme=dark] .colab-df-convert:hover {\n",
              "      background-color: #434B5C;\n",
              "      box-shadow: 0px 1px 3px 1px rgba(0, 0, 0, 0.15);\n",
              "      filter: drop-shadow(0px 1px 2px rgba(0, 0, 0, 0.3));\n",
              "      fill: #FFFFFF;\n",
              "    }\n",
              "  </style>\n",
              "\n",
              "      <script>\n",
              "        const buttonEl =\n",
              "          document.querySelector('#df-533b0ae4-befd-4a78-a31f-0f7015760df9 button.colab-df-convert');\n",
              "        buttonEl.style.display =\n",
              "          google.colab.kernel.accessAllowed ? 'block' : 'none';\n",
              "\n",
              "        async function convertToInteractive(key) {\n",
              "          const element = document.querySelector('#df-533b0ae4-befd-4a78-a31f-0f7015760df9');\n",
              "          const dataTable =\n",
              "            await google.colab.kernel.invokeFunction('convertToInteractive',\n",
              "                                                     [key], {});\n",
              "          if (!dataTable) return;\n",
              "\n",
              "          const docLinkHtml = 'Like what you see? Visit the ' +\n",
              "            '<a target=\"_blank\" href=https://colab.research.google.com/notebooks/data_table.ipynb>data table notebook</a>'\n",
              "            + ' to learn more about interactive tables.';\n",
              "          element.innerHTML = '';\n",
              "          dataTable['output_type'] = 'display_data';\n",
              "          await google.colab.output.renderOutput(dataTable, element);\n",
              "          const docLink = document.createElement('div');\n",
              "          docLink.innerHTML = docLinkHtml;\n",
              "          element.appendChild(docLink);\n",
              "        }\n",
              "      </script>\n",
              "    </div>\n",
              "  </div>\n",
              "  "
            ]
          },
          "metadata": {},
          "execution_count": 18
        }
      ],
      "source": [
        "num_columns = df.select_dtypes(include=np.number).columns\n",
        "df[num_columns]"
      ]
    },
    {
      "cell_type": "code",
      "execution_count": 19,
      "metadata": {
        "id": "BLb3y76Drj02"
      },
      "outputs": [],
      "source": [
        "from sklearn.preprocessing import OneHotEncoder\n",
        "from sklearn.compose import ColumnTransformer\n",
        "from sklearn.preprocessing import StandardScaler\n",
        "from sklearn.model_selection import train_test_split\n",
        "from sklearn.metrics import confusion_matrix, classification_report\n",
        "from sklearn.pipeline import Pipeline\n",
        "from imblearn.over_sampling import SMOTE"
      ]
    },
    {
      "cell_type": "code",
      "execution_count": 20,
      "metadata": {
        "id": "XyBlXP7Prj04"
      },
      "outputs": [],
      "source": [
        "X = df.drop(columns=['isFraud', 'isFlaggedFraud'])\n",
        "y = df['isFraud']\n",
        "smote = SMOTE()"
      ]
    },
    {
      "cell_type": "code",
      "execution_count": 21,
      "metadata": {
        "id": "hV82eZl4rj05"
      },
      "outputs": [],
      "source": [
        "preprocessor = ColumnTransformer(\n",
        "    transformers=[\n",
        "        ('cat', OneHotEncoder(drop='first'), ['type']),\n",
        "        ('num', StandardScaler(), num_columns[:-2])\n",
        "    ])\n",
        "\n",
        "p = Pipeline(steps=[('preprocessor', preprocessor)])"
      ]
    },
    {
      "cell_type": "code",
      "execution_count": 22,
      "metadata": {
        "colab": {
          "base_uri": "https://localhost:8080/"
        },
        "id": "OMA42guxrj06",
        "outputId": "a79dee57-12c5-425b-81d4-524a3bd84793"
      },
      "outputs": [
        {
          "output_type": "execute_result",
          "data": {
            "text/plain": [
              "(999999, 10)"
            ]
          },
          "metadata": {},
          "execution_count": 22
        }
      ],
      "source": [
        "Xp = p.fit_transform(X)\n",
        "Xp.shape"
      ]
    },
    {
      "cell_type": "code",
      "execution_count": 23,
      "metadata": {
        "colab": {
          "base_uri": "https://localhost:8080/"
        },
        "id": "wZ60zkqurj07",
        "outputId": "b0b569f9-8d8b-4985-d54b-af950e61f659"
      },
      "outputs": [
        {
          "output_type": "execute_result",
          "data": {
            "text/plain": [
              "((1998928, 10), (1998928,))"
            ]
          },
          "metadata": {},
          "execution_count": 23
        }
      ],
      "source": [
        "Xp, y = smote.fit_resample(Xp, y)\n",
        "Xp.shape, y.shape"
      ]
    },
    {
      "cell_type": "markdown",
      "metadata": {
        "id": "r0CoQUS3rj07"
      },
      "source": [
        "#### Create a Neural Network"
      ]
    },
    {
      "cell_type": "code",
      "execution_count": 24,
      "metadata": {
        "id": "B6SLP09_rj1A"
      },
      "outputs": [],
      "source": [
        "model = Sequential()\n",
        "model.add(Dense(units=256, activation=relu, input_shape=(Xp.shape[1],)))\n",
        "model.add(Dropout(0.2))\n",
        "model.add(Dense(units=128, activation=relu))\n",
        "model.add(Dropout(0.2))\n",
        "model.add(Dense(units=64, activation=relu))\n",
        "model.add(Dropout(0.2))\n",
        "model.add(Dense(units=32, activation=relu))\n",
        "model.add(Dropout(0.2))\n",
        "model.add(Dense(units=16, activation=relu))\n",
        "model.add(Dropout(0.2))\n",
        "model.add(Dense(units=8, activation=relu))\n",
        "model.add(Dropout(0.2))\n",
        "model.add(Dense(units=1, activation=sigmoid))\n"
      ]
    },
    {
      "cell_type": "code",
      "execution_count": 25,
      "metadata": {
        "colab": {
          "base_uri": "https://localhost:8080/"
        },
        "id": "k8G1KEcyrj1C",
        "outputId": "230f3376-4dfc-4759-ce03-06d3d5ff2fa5"
      },
      "outputs": [
        {
          "output_type": "stream",
          "name": "stdout",
          "text": [
            "Model: \"sequential\"\n",
            "_________________________________________________________________\n",
            " Layer (type)                Output Shape              Param #   \n",
            "=================================================================\n",
            " dense (Dense)               (None, 256)               2816      \n",
            "                                                                 \n",
            " dropout (Dropout)           (None, 256)               0         \n",
            "                                                                 \n",
            " dense_1 (Dense)             (None, 128)               32896     \n",
            "                                                                 \n",
            " dropout_1 (Dropout)         (None, 128)               0         \n",
            "                                                                 \n",
            " dense_2 (Dense)             (None, 64)                8256      \n",
            "                                                                 \n",
            " dropout_2 (Dropout)         (None, 64)                0         \n",
            "                                                                 \n",
            " dense_3 (Dense)             (None, 32)                2080      \n",
            "                                                                 \n",
            " dropout_3 (Dropout)         (None, 32)                0         \n",
            "                                                                 \n",
            " dense_4 (Dense)             (None, 16)                528       \n",
            "                                                                 \n",
            " dropout_4 (Dropout)         (None, 16)                0         \n",
            "                                                                 \n",
            " dense_5 (Dense)             (None, 8)                 136       \n",
            "                                                                 \n",
            " dropout_5 (Dropout)         (None, 8)                 0         \n",
            "                                                                 \n",
            " dense_6 (Dense)             (None, 1)                 9         \n",
            "                                                                 \n",
            "=================================================================\n",
            "Total params: 46,721\n",
            "Trainable params: 46,721\n",
            "Non-trainable params: 0\n",
            "_________________________________________________________________\n"
          ]
        }
      ],
      "source": [
        "# optimizer is stochastic gradient descent, which is a good default optimizer, for more info see https://keras.io/api/optimizers/sgd/\n",
        "model.compile(\n",
        "    optimizer=SGD(),\n",
        "    loss=binary_crossentropy,\n",
        "    metrics=['accuracy', 'Precision', 'Recall']\n",
        ")\n",
        "\n",
        "model.summary()"
      ]
    },
    {
      "cell_type": "code",
      "execution_count": 26,
      "metadata": {
        "colab": {
          "base_uri": "https://localhost:8080/"
        },
        "id": "MzAMaDJvrj1D",
        "outputId": "623288ae-e45d-41bd-caaa-391fd9ff93fd"
      },
      "outputs": [
        {
          "output_type": "execute_result",
          "data": {
            "text/plain": [
              "((1599142, 10), (399786, 10), (1599142,), (399786,))"
            ]
          },
          "metadata": {},
          "execution_count": 26
        }
      ],
      "source": [
        "X_train, X_test, y_train, y_test = train_test_split(Xp, y, test_size=0.2, random_state=42)\n",
        "X_train.shape, X_test.shape, y_train.shape, y_test.shape"
      ]
    },
    {
      "cell_type": "code",
      "execution_count": 27,
      "metadata": {
        "colab": {
          "base_uri": "https://localhost:8080/"
        },
        "id": "wq4Fd3JJrj1E",
        "outputId": "9f72b273-829a-41fb-ac8b-f879699d7b24"
      },
      "outputs": [
        {
          "output_type": "stream",
          "name": "stdout",
          "text": [
            "Epoch 1/10\n",
            "39979/39979 [==============================] - 136s 3ms/step - loss: 0.2062 - accuracy: 0.9077 - precision: 0.9008 - recall: 0.9163 - val_loss: 0.1193 - val_accuracy: 0.9486 - val_precision: 0.9382 - val_recall: 0.9606\n",
            "Epoch 2/10\n",
            "39979/39979 [==============================] - 135s 3ms/step - loss: 0.1385 - accuracy: 0.9398 - precision: 0.9262 - recall: 0.9558 - val_loss: 0.1168 - val_accuracy: 0.9543 - val_precision: 0.9670 - val_recall: 0.9408\n",
            "Epoch 3/10\n",
            "39979/39979 [==============================] - 127s 3ms/step - loss: 0.1228 - accuracy: 0.9468 - precision: 0.9325 - recall: 0.9633 - val_loss: 0.0944 - val_accuracy: 0.9601 - val_precision: 0.9419 - val_recall: 0.9808\n",
            "Epoch 4/10\n",
            "39979/39979 [==============================] - 134s 3ms/step - loss: 0.1126 - accuracy: 0.9517 - precision: 0.9368 - recall: 0.9687 - val_loss: 0.0973 - val_accuracy: 0.9516 - val_precision: 0.9182 - val_recall: 0.9917\n",
            "Epoch 5/10\n",
            "39979/39979 [==============================] - 135s 3ms/step - loss: 0.1058 - accuracy: 0.9551 - precision: 0.9401 - recall: 0.9721 - val_loss: 0.0836 - val_accuracy: 0.9646 - val_precision: 0.9580 - val_recall: 0.9717\n",
            "Epoch 6/10\n",
            "39979/39979 [==============================] - 137s 3ms/step - loss: 0.1004 - accuracy: 0.9580 - precision: 0.9433 - recall: 0.9745 - val_loss: 0.0707 - val_accuracy: 0.9704 - val_precision: 0.9537 - val_recall: 0.9888\n",
            "Epoch 7/10\n",
            "39979/39979 [==============================] - 128s 3ms/step - loss: 0.0952 - accuracy: 0.9606 - precision: 0.9462 - recall: 0.9768 - val_loss: 0.0767 - val_accuracy: 0.9665 - val_precision: 0.9394 - val_recall: 0.9975\n",
            "Epoch 8/10\n",
            "39979/39979 [==============================] - 128s 3ms/step - loss: 0.0914 - accuracy: 0.9628 - precision: 0.9487 - recall: 0.9784 - val_loss: 0.0709 - val_accuracy: 0.9689 - val_precision: 0.9438 - val_recall: 0.9971\n",
            "Epoch 9/10\n",
            "39979/39979 [==============================] - 135s 3ms/step - loss: 0.0869 - accuracy: 0.9650 - precision: 0.9513 - recall: 0.9801 - val_loss: 0.0709 - val_accuracy: 0.9713 - val_precision: 0.9481 - val_recall: 0.9971\n",
            "Epoch 10/10\n",
            "39979/39979 [==============================] - 135s 3ms/step - loss: 0.0839 - accuracy: 0.9665 - precision: 0.9533 - recall: 0.9811 - val_loss: 0.0580 - val_accuracy: 0.9777 - val_precision: 0.9630 - val_recall: 0.9935\n"
          ]
        },
        {
          "output_type": "execute_result",
          "data": {
            "text/plain": [
              "<keras.callbacks.History at 0x7f2565e62e90>"
            ]
          },
          "metadata": {},
          "execution_count": 27
        }
      ],
      "source": [
        "model.fit(X_train, y_train, epochs=10, batch_size=32, validation_split=0.2, verbose=1, shuffle=True)"
      ]
    },
    {
      "cell_type": "code",
      "execution_count": 28,
      "metadata": {
        "colab": {
          "base_uri": "https://localhost:8080/"
        },
        "id": "nFhanOZ1rj1F",
        "outputId": "874b8301-b527-48df-d6ed-70cab08c03f1"
      },
      "outputs": [
        {
          "output_type": "stream",
          "name": "stdout",
          "text": [
            "12494/12494 [==============================] - 20s 2ms/step - loss: 0.0585 - accuracy: 0.9773 - precision: 0.9626 - recall: 0.9933\n"
          ]
        },
        {
          "output_type": "execute_result",
          "data": {
            "text/plain": [
              "[0.05854636803269386,\n",
              " 0.9773103594779968,\n",
              " 0.9625626802444458,\n",
              " 0.9932863712310791]"
            ]
          },
          "metadata": {},
          "execution_count": 28
        }
      ],
      "source": [
        "model.evaluate(X_test, y_test)"
      ]
    },
    {
      "cell_type": "code",
      "execution_count": 29,
      "metadata": {
        "colab": {
          "base_uri": "https://localhost:8080/",
          "height": 465
        },
        "id": "0jZjrA5drj1G",
        "outputId": "d6a3af17-0dba-4184-d6df-ba83f9f1878d"
      },
      "outputs": [
        {
          "output_type": "stream",
          "name": "stdout",
          "text": [
            "12494/12494 [==============================] - 17s 1ms/step\n"
          ]
        },
        {
          "output_type": "execute_result",
          "data": {
            "text/plain": [
              "<Axes: >"
            ]
          },
          "metadata": {},
          "execution_count": 29
        },
        {
          "output_type": "display_data",
          "data": {
            "text/plain": [
              "<Figure size 640x480 with 2 Axes>"
            ],
            "image/png": "[encoded data removed]"
          },
          "metadata": {}
        }
      ],
      "source": [
        "import seaborn as sns\n",
        "# heatmap\n",
        "ypred = model.predict(X_test)\n",
        "ypred = ypred > 0.5\n",
        "cm = confusion_matrix(y_test, ypred)\n",
        "sns.heatmap(cm, annot=True, fmt='d')"
      ]
    },
    {
      "cell_type": "code",
      "execution_count": 30,
      "metadata": {
        "colab": {
          "base_uri": "https://localhost:8080/"
        },
        "id": "-n36H-0Lrj1G",
        "outputId": "cb44f26c-c1dd-46f1-f19a-ace5aa44209b"
      },
      "outputs": [
        {
          "output_type": "stream",
          "name": "stdout",
          "text": [
            "              precision    recall  f1-score   support\n",
            "\n",
            "           0       0.99      0.96      0.98    199746\n",
            "           1       0.96      0.99      0.98    200040\n",
            "\n",
            "    accuracy                           0.98    399786\n",
            "   macro avg       0.98      0.98      0.98    399786\n",
            "weighted avg       0.98      0.98      0.98    399786\n",
            "\n"
          ]
        }
      ],
      "source": [
        "print(classification_report(y_test, ypred))"
      ]
    },
    {
      "cell_type": "markdown",
      "metadata": {
        "id": "pgW0NltIrj1H"
      },
      "source": [
        "#### Save the model"
      ]
    },
    {
      "cell_type": "code",
      "execution_count": 31,
      "metadata": {
        "colab": {
          "base_uri": "https://localhost:8080/"
        },
        "id": "VSnmGwBHrj1H",
        "outputId": "fc78fcd1-56a4-418b-f3ab-e65053eb37a1"
      },
      "outputs": [
        {
          "output_type": "execute_result",
          "data": {
            "text/plain": [
              "['ann_model_6_layer_preprocessor.jb']"
            ]
          },
          "metadata": {},
          "execution_count": 31
        }
      ],
      "source": [
        "from joblib import dump\n",
        "model.save('ann_model_6_layer.h5')\n",
        "dump(p, 'ann_model_6_layer_preprocessor.jb')"
      ]
    },
    {
      "cell_type": "markdown",
      "metadata": {
        "id": "mKsUG1Y8rj1I"
      },
      "source": [
        "#### Load the model and preprocessor"
      ]
    },
    {
      "cell_type": "code",
      "execution_count": 32,
      "metadata": {
        "id": "1YJY_VC4rj1I"
      },
      "outputs": [],
      "source": [
        "from joblib import load\n",
        "def load_model():\n",
        "    model = tf.keras.models.load_model('ann_model_6_layer.h5')\n",
        "    return model\n",
        "\n",
        "def load_preprocessor():\n",
        "    p = load('ann_model_6_layer_preprocessor.jb')\n",
        "    return p"
      ]
    },
    {
      "cell_type": "code",
      "execution_count": 33,
      "metadata": {
        "colab": {
          "base_uri": "https://localhost:8080/"
        },
        "id": "Es1PTeWqrj1I",
        "outputId": "c87f0ba9-8a7e-43b3-8d64-779e9be4de41"
      },
      "outputs": [
        {
          "output_type": "stream",
          "name": "stdout",
          "text": [
            "Model: \"sequential\"\n",
            "_________________________________________________________________\n",
            " Layer (type)                Output Shape              Param #   \n",
            "=================================================================\n",
            " dense (Dense)               (None, 256)               2816      \n",
            "                                                                 \n",
            " dropout (Dropout)           (None, 256)               0         \n",
            "                                                                 \n",
            " dense_1 (Dense)             (None, 128)               32896     \n",
            "                                                                 \n",
            " dropout_1 (Dropout)         (None, 128)               0         \n",
            "                                                                 \n",
            " dense_2 (Dense)             (None, 64)                8256      \n",
            "                                                                 \n",
            " dropout_2 (Dropout)         (None, 64)                0         \n",
            "                                                                 \n",
            " dense_3 (Dense)             (None, 32)                2080      \n",
            "                                                                 \n",
            " dropout_3 (Dropout)         (None, 32)                0         \n",
            "                                                                 \n",
            " dense_4 (Dense)             (None, 16)                528       \n",
            "                                                                 \n",
            " dropout_4 (Dropout)         (None, 16)                0         \n",
            "                                                                 \n",
            " dense_5 (Dense)             (None, 8)                 136       \n",
            "                                                                 \n",
            " dropout_5 (Dropout)         (None, 8)                 0         \n",
            "                                                                 \n",
            " dense_6 (Dense)             (None, 1)                 9         \n",
            "                                                                 \n",
            "=================================================================\n",
            "Total params: 46,721\n",
            "Trainable params: 46,721\n",
            "Non-trainable params: 0\n",
            "_________________________________________________________________\n"
          ]
        }
      ],
      "source": [
        "existing_model = load_model()\n",
        "p = load_preprocessor()\n",
        "existing_model.summary()"
      ]
    },
    {
      "cell_type": "code",
      "execution_count": 34,
      "metadata": {
        "id": "9ZBX0bSZrj1J"
      },
      "outputs": [],
      "source": [
        "def predict_fraud(model, data):\n",
        "    data = p.transform(data)\n",
        "    prediction = model.predict(data)\n",
        "    return prediction"
      ]
    },
    {
      "cell_type": "code",
      "execution_count": 35,
      "metadata": {
        "colab": {
          "base_uri": "https://localhost:8080/"
        },
        "id": "3oXZ_l2rrj1J",
        "outputId": "fd65e5f3-78c2-414e-f109-d5daa5b2d23f"
      },
      "outputs": [
        {
          "output_type": "stream",
          "name": "stdout",
          "text": [
            "1/1 [==============================] - 0s 98ms/step\n",
            "True\n"
          ]
        }
      ],
      "source": [
        "data = pd.DataFrame({\n",
        "    'step': [1],\n",
        "    'type': ['CASH_OUT'],\n",
        "    'amount': [1000],\n",
        "    'name_orig': ['C12345'],\n",
        "    'oldbalanceOrg': [1000],\n",
        "    'newbalanceOrig': [0],\n",
        "    'name_dest': ['M12345'],\n",
        "    'oldbalanceDest': [0],\n",
        "    'newbalanceDest': [0],\n",
        "})\n",
        "\n",
        "out = predict_fraud(existing_model, data)\n",
        "print(out[0][0] > 0.5)"
      ]
    },
    {
      "cell_type": "code",
      "execution_count": null,
      "metadata": {
        "id": "CrunPNzNrj1K",
        "outputId": "7cafc402-fa60-4f37-b022-8aeb9e72b33a"
      },
      "outputs": [
        {
          "name": "stdout",
          "output_type": "stream",
          "text": [
            "None\n",
            "True\n"
          ]
        }
      ],
      "source": [
        "n = None\n",
        "print(n)\n",
        "print(not n)"
      ]
    },
    {
      "cell_type": "code",
      "execution_count": null,
      "metadata": {
        "id": "tosZzz0Grj1K"
      },
      "outputs": [],
      "source": []
    }
  ],
  "metadata": {
    "kernelspec": {
      "display_name": "base",
      "language": "python",
      "name": "python3"
    },
    "language_info": {
      "codemirror_mode": {
        "name": "ipython",
        "version": 3
      },
      "file_extension": ".py",
      "mimetype": "text/x-python",
      "name": "python",
      "nbconvert_exporter": "python",
      "pygments_lexer": "ipython3",
      "version": "3.10.9"
    },
    "orig_nbformat": 4,
    "colab": {
      "provenance": []
    }
  },
  "nbformat": 4,
  "nbformat_minor": 0
}