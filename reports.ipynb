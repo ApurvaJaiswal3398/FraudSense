{
 "cells": [
  {
   "cell_type": "code",
   "execution_count": 1,
   "metadata": {},
   "outputs": [],
   "source": [
    "import sqlite3\n",
    "import pandas as pd\n",
    "from datetime import datetime"
   ]
  },
  {
   "attachments": {},
   "cell_type": "markdown",
   "metadata": {},
   "source": [
    "### Printing all data"
   ]
  },
  {
   "cell_type": "code",
   "execution_count": 2,
   "metadata": {},
   "outputs": [
    {
     "name": "stdout",
     "output_type": "stream",
     "text": [
      "   Id Transaction_Type  Transaction_Amount Source_Account  SA_Old_Balance   \n",
      "0   1         TRANSFER            15500.00       C3258236         75000.0  \\\n",
      "1   2         TRANSFER             1000.00    C7847298484          5600.0   \n",
      "2   3         TRANSFER             3350.00      C95836345         68370.0   \n",
      "3   4          CASH_IN           159617.93     C187438719        153708.0   \n",
      "\n",
      "   SA_New_Balance Destination_Account  DA_Old_Balance  DA_New_Balance   \n",
      "0        59500.00            M2782487        45000.00        60500.00  \\\n",
      "1         4600.00            M9867547         9400.00        10400.00   \n",
      "2        65320.00           M63798790        15450.00        18800.00   \n",
      "3       313325.93          C804731631       565467.08       405849.15   \n",
      "\n",
      "         Date      Time Prediction  \n",
      "0  11-05-2023  16:28:39      Fraud  \n",
      "1  11-05-2023  16:31:25      Fraud  \n",
      "2  11-05-2023  16:33:36      Fraud  \n",
      "3  11-05-2023  16:48:13  Not Fraud  \n"
     ]
    }
   ],
   "source": [
    "con = sqlite3.connect(\"project.sqlite\")\n",
    "df = pd.read_sql_query(\"SELECT * FROM transactions\", con)\n",
    "print(df)\n",
    "con.commit()\n",
    "con.close()"
   ]
  },
  {
   "attachments": {},
   "cell_type": "markdown",
   "metadata": {},
   "source": [
    "### FRAUD TRANSACTIONS"
   ]
  },
  {
   "cell_type": "code",
   "execution_count": 3,
   "metadata": {},
   "outputs": [
    {
     "name": "stdout",
     "output_type": "stream",
     "text": [
      "   Id Transaction_Type  Transaction_Amount Source_Account  SA_Old_Balance   \n",
      "0   1         TRANSFER             15500.0       C3258236         75000.0  \\\n",
      "1   2         TRANSFER              1000.0    C7847298484          5600.0   \n",
      "2   3         TRANSFER              3350.0      C95836345         68370.0   \n",
      "\n",
      "   SA_New_Balance Destination_Account  DA_Old_Balance  DA_New_Balance   \n",
      "0         59500.0            M2782487         45000.0         60500.0  \\\n",
      "1          4600.0            M9867547          9400.0         10400.0   \n",
      "2         65320.0           M63798790         15450.0         18800.0   \n",
      "\n",
      "         Date      Time Prediction  \n",
      "0  11-05-2023  16:28:39      Fraud  \n",
      "1  11-05-2023  16:31:25      Fraud  \n",
      "2  11-05-2023  16:33:36      Fraud  \n"
     ]
    }
   ],
   "source": [
    "con = sqlite3.connect(\"project.sqlite\")\n",
    "df= pd.read_sql(\"SELECT * FROM transactions WHERE Prediction='Fraud'\", con)\n",
    "print(df)\n",
    "con.commit()\n",
    "con.close()"
   ]
  },
  {
   "attachments": {},
   "cell_type": "markdown",
   "metadata": {},
   "source": [
    "### NOT FRAUD TRANSACTIONS"
   ]
  },
  {
   "cell_type": "code",
   "execution_count": 4,
   "metadata": {},
   "outputs": [
    {
     "name": "stdout",
     "output_type": "stream",
     "text": [
      "   Id Transaction_Type  Transaction_Amount Source_Account  SA_Old_Balance   \n",
      "0   4          CASH_IN           159617.93     C187438719        153708.0  \\\n",
      "\n",
      "   SA_New_Balance Destination_Account  DA_Old_Balance  DA_New_Balance   \n",
      "0       313325.93          C804731631       565467.08       405849.15  \\\n",
      "\n",
      "         Date      Time Prediction  \n",
      "0  11-05-2023  16:48:13  Not Fraud  \n"
     ]
    }
   ],
   "source": [
    "con = sqlite3.connect(\"project.sqlite\")\n",
    "df= pd.read_sql(\"SELECT * FROM transactions WHERE Prediction='Not Fraud'\", con)\n",
    "print(df)\n",
    "con.commit()\n",
    "con.close()"
   ]
  },
  {
   "attachments": {},
   "cell_type": "markdown",
   "metadata": {},
   "source": [
    "### TRANSACTIONS ON A GIVEN DATE"
   ]
  },
  {
   "cell_type": "code",
   "execution_count": 11,
   "metadata": {},
   "outputs": [
    {
     "name": "stdout",
     "output_type": "stream",
     "text": [
      "10-05-2023\n",
      "   Id Transaction_Type  Transaction_Amount Source_Account  SA_Old_Balance   \n",
      "0   1         TRANSFER              1000.0     C123456789         22000.0  \\\n",
      "1   2         TRANSFER              2400.0     C789654134          4900.0   \n",
      "2   3          PAYMENT              3200.0     C575753248          8400.0   \n",
      "3   4          PAYMENT             42000.0     C804519843         66000.0   \n",
      "4   5         TRANSFER              6000.0     C123498765         50000.0   \n",
      "5   6         TRANSFER              4000.0    C8765123098         38000.0   \n",
      "6   7         TRANSFER              1000.0     C654123987          5200.0   \n",
      "7   8          PAYMENT              2100.0     C654234987          4500.0   \n",
      "8   9            DEBIT               500.0     C987612365          1200.0   \n",
      "\n",
      "   SA_New_Balance Destination_Account  DA_Old_Balance  DA_New_Balance   \n",
      "0         21000.0          M987654321         20000.0         21000.0  \\\n",
      "1          2500.0          M654321867          1400.0          3800.0   \n",
      "2          5200.0          M358762135          4200.0          7400.0   \n",
      "3         24000.0          M381290342         18000.0         60000.0   \n",
      "4         44000.0          M987651234         52000.0         58000.0   \n",
      "5         34000.0          M345698709         74000.0         78000.0   \n",
      "6          4200.0          M456876345          5300.0          6300.0   \n",
      "7          2400.0          M765345619          7400.0          9500.0   \n",
      "8             0.0                   0             0.0             0.0   \n",
      "\n",
      "         Date      Time Prediction  \n",
      "0  10-05-2023  18:10:39      Fraud  \n",
      "1  10-05-2023  18:52:16      Fraud  \n",
      "2  10-05-2023  18:54:19  Not Fraud  \n",
      "3  10-05-2023  18:56:14  Not Fraud  \n",
      "4  10-05-2023  18:59:48      Fraud  \n",
      "5  10-05-2023  19:03:08      Fraud  \n",
      "6  10-05-2023  19:04:24      Fraud  \n",
      "7  10-05-2023  19:06:52  Not Fraud  \n",
      "8  10-05-2023  19:08:03  Not Fraud  \n"
     ]
    }
   ],
   "source": [
    "\n",
    "con = sqlite3.connect(\"project2.sqlite\")\n",
    "date_str = '10-05-2023'\n",
    "date = datetime.strptime(date_str, '%d-%m-%Y').date().strftime('%d-%m-%Y')\n",
    "print(date)\n",
    "df = pd.read_sql(\"SELECT * FROM transactions WHERE Date='%s'\" % date, con)\n",
    "print(df)\n",
    "con.commit()\n",
    "con.close()\n"
   ]
  },
  {
   "attachments": {},
   "cell_type": "markdown",
   "metadata": {},
   "source": [
    "### TRANSACTIONS BETWEEN 2 DATES"
   ]
  },
  {
   "cell_type": "code",
   "execution_count": 6,
   "metadata": {},
   "outputs": [
    {
     "name": "stdout",
     "output_type": "stream",
     "text": [
      "10-05-2023\n",
      "11-05-2024\n",
      "   Id Transaction_Type  Transaction_Amount Source_Account  SA_Old_Balance   \n",
      "0   1         TRANSFER            15500.00       C3258236         75000.0  \\\n",
      "1   2         TRANSFER             1000.00    C7847298484          5600.0   \n",
      "2   3         TRANSFER             3350.00      C95836345         68370.0   \n",
      "3   4          CASH_IN           159617.93     C187438719        153708.0   \n",
      "\n",
      "   SA_New_Balance Destination_Account  DA_Old_Balance  DA_New_Balance   \n",
      "0        59500.00            M2782487        45000.00        60500.00  \\\n",
      "1         4600.00            M9867547         9400.00        10400.00   \n",
      "2        65320.00           M63798790        15450.00        18800.00   \n",
      "3       313325.93          C804731631       565467.08       405849.15   \n",
      "\n",
      "         Date      Time Prediction  \n",
      "0  11-05-2023  16:28:39      Fraud  \n",
      "1  11-05-2023  16:31:25      Fraud  \n",
      "2  11-05-2023  16:33:36      Fraud  \n",
      "3  11-05-2023  16:48:13  Not Fraud  \n"
     ]
    }
   ],
   "source": [
    "con = sqlite3.connect(\"project.sqlite\")\n",
    "date1_str = '10-05-2023'\n",
    "date2_str = '11-05-2024'\n",
    "date1 = datetime.strptime(date1_str, '%d-%m-%Y').date().strftime('%d-%m-%Y')\n",
    "print(date1)\n",
    "date2 = datetime.strptime(date2_str, '%d-%m-%Y').date().strftime('%d-%m-%Y')\n",
    "print(date2)\n",
    "df = pd.read_sql(\"SELECT * FROM transactions WHERE Date BETWEEN '%s' AND '%s'\" % (date1, date2), con)\n",
    "print(df)\n",
    "con.commit()\n",
    "con.close()"
   ]
  },
  {
   "attachments": {},
   "cell_type": "markdown",
   "metadata": {},
   "source": [
    "### TRANSACTION IN GIVEN MONTH"
   ]
  },
  {
   "cell_type": "code",
   "execution_count": 7,
   "metadata": {},
   "outputs": [
    {
     "name": "stdout",
     "output_type": "stream",
     "text": [
      "05\n",
      "   Id Transaction_Type  Transaction_Amount Source_Account  SA_Old_Balance   \n",
      "0   1         TRANSFER            15500.00       C3258236         75000.0  \\\n",
      "1   2         TRANSFER             1000.00    C7847298484          5600.0   \n",
      "2   3         TRANSFER             3350.00      C95836345         68370.0   \n",
      "3   4          CASH_IN           159617.93     C187438719        153708.0   \n",
      "\n",
      "   SA_New_Balance Destination_Account  DA_Old_Balance  DA_New_Balance   \n",
      "0        59500.00            M2782487        45000.00        60500.00  \\\n",
      "1         4600.00            M9867547         9400.00        10400.00   \n",
      "2        65320.00           M63798790        15450.00        18800.00   \n",
      "3       313325.93          C804731631       565467.08       405849.15   \n",
      "\n",
      "         Date      Time Prediction  \n",
      "0  11-05-2023  16:28:39      Fraud  \n",
      "1  11-05-2023  16:31:25      Fraud  \n",
      "2  11-05-2023  16:33:36      Fraud  \n",
      "3  11-05-2023  16:48:13  Not Fraud  \n"
     ]
    }
   ],
   "source": [
    "con = sqlite3.connect(\"project.sqlite\")\n",
    "date_str = '10-05-2023'\n",
    "month = datetime.strptime(date_str, '%d-%m-%Y').date().strftime('%m')\n",
    "print(month)\n",
    "df = pd.read_sql(\"SELECT * FROM transactions WHERE SUBSTR(Date, INSTR(Date, '-') + 1, 2)='%s'\" % month, con)\n",
    "print(df)\n",
    "con.commit()\n",
    "con.close()\n"
   ]
  },
  {
   "attachments": {},
   "cell_type": "markdown",
   "metadata": {},
   "source": [
    "### TRANSACTION IN GIVEN YEAR"
   ]
  },
  {
   "cell_type": "code",
   "execution_count": 8,
   "metadata": {},
   "outputs": [
    {
     "name": "stdout",
     "output_type": "stream",
     "text": [
      "2023\n",
      "   Id Transaction_Type  Transaction_Amount Source_Account  SA_Old_Balance   \n",
      "0   1         TRANSFER            15500.00       C3258236         75000.0  \\\n",
      "1   2         TRANSFER             1000.00    C7847298484          5600.0   \n",
      "2   3         TRANSFER             3350.00      C95836345         68370.0   \n",
      "3   4          CASH_IN           159617.93     C187438719        153708.0   \n",
      "\n",
      "   SA_New_Balance Destination_Account  DA_Old_Balance  DA_New_Balance   \n",
      "0        59500.00            M2782487        45000.00        60500.00  \\\n",
      "1         4600.00            M9867547         9400.00        10400.00   \n",
      "2        65320.00           M63798790        15450.00        18800.00   \n",
      "3       313325.93          C804731631       565467.08       405849.15   \n",
      "\n",
      "         Date      Time Prediction  \n",
      "0  11-05-2023  16:28:39      Fraud  \n",
      "1  11-05-2023  16:31:25      Fraud  \n",
      "2  11-05-2023  16:33:36      Fraud  \n",
      "3  11-05-2023  16:48:13  Not Fraud  \n"
     ]
    }
   ],
   "source": [
    "con = sqlite3.connect(\"project.sqlite\")\n",
    "date_str = '10-05-2023'\n",
    "year= datetime.strptime(date_str, '%d-%m-%Y').date().strftime('%Y')\n",
    "print(year)\n",
    "df = pd.read_sql(\"SELECT * FROM transactions WHERE SUBSTR(Date, INSTR(Date, '-') + 4, 4)='%s'\" % year, con)\n",
    "print(df)\n",
    "con.commit()\n",
    "con.close()\n"
   ]
  },
  {
   "cell_type": "code",
   "execution_count": null,
   "metadata": {},
   "outputs": [],
   "source": []
  }
 ],
 "metadata": {
  "kernelspec": {
   "display_name": "Python 3",
   "language": "python",
   "name": "python3"
  },
  "language_info": {
   "codemirror_mode": {
    "name": "ipython",
    "version": 3
   },
   "file_extension": ".py",
   "mimetype": "text/x-python",
   "name": "python",
   "nbconvert_exporter": "python",
   "pygments_lexer": "ipython3",
   "version": "3.10.9"
  },
  "orig_nbformat": 4
 },
 "nbformat": 4,
 "nbformat_minor": 2
}
