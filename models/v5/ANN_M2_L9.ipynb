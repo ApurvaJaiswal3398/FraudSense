{
  "cells": [
    {
      "cell_type": "code",
      "execution_count": 39,
      "metadata": {
        "id": "cOMTBBlKelT3"
      },
      "outputs": [],
      "source": [
        "import tensorflow as tf\n",
        "import pandas as pd                                         # data processing, CSV file I/O (e.g. pd.read_csv)\n",
        "import numpy as np                                          # linear algebra\n",
        "from tensorflow.keras.models import Sequential              # model type\n",
        "from tensorflow.keras.layers import Dense, Dropout          # dense layer, dropout layer\n",
        "from tensorflow.keras.activations import relu, sigmoid      # activation functions\n",
        "from tensorflow.keras.optimizers import SGD                 # stochastic gradient descent\n",
        "from tensorflow.keras.losses import binary_crossentropy     # cost function"
      ]
    },
    {
      "cell_type": "code",
      "source": [
        "from google.colab import drive\n",
        "drive.mount('/content/drive')"
      ],
      "metadata": {
        "id": "1QDZMQ9xeoC6",
        "colab": {
          "base_uri": "https://localhost:8080/"
        },
        "outputId": "816c8a3d-42cd-4de4-ccd5-4d856c38a4e5"
      },
      "execution_count": 40,
      "outputs": [
        {
          "output_type": "stream",
          "name": "stdout",
          "text": [
            "Drive already mounted at /content/drive; to attempt to forcibly remount, call drive.mount(\"/content/drive\", force_remount=True).\n"
          ]
        }
      ]
    },
    {
      "cell_type": "code",
      "execution_count": 41,
      "metadata": {
        "id": "Am81_oKPelT8",
        "outputId": "e471dbbb-35ca-43b9-e324-1cf736fcc78e",
        "colab": {
          "base_uri": "https://localhost:8080/",
          "height": 460
        }
      },
      "outputs": [
        {
          "output_type": "stream",
          "name": "stderr",
          "text": [
            "<ipython-input-41-5b66cbb67606>:1: DtypeWarning: Columns (7) have mixed types. Specify dtype option on import or set low_memory=False.\n",
            "  df = pd.read_csv('/content/drive/MyDrive/Dataset/FRAUD_DETECTION.csv')\n"
          ]
        },
        {
          "output_type": "execute_result",
          "data": {
            "text/plain": [
              "         Unnamed: 0  step     type     amount     nameOrig  oldbalanceOrg  \\\n",
              "0               389     1  CASH_IN  143236.26  C1862994526           0.00   \n",
              "1               390     1  CASH_IN  228451.89  C1614133563      143236.26   \n",
              "2               393     1  CASH_IN   65912.95   C180316302      640544.28   \n",
              "3               397     1  CASH_IN  349640.51  C1493042329     1023111.71   \n",
              "4               398     1  CASH_IN  135324.19  C1751403001     1372752.22   \n",
              "...             ...   ...      ...        ...          ...            ...   \n",
              "1922277     6362242   718    DEBIT    2609.21  C1546763667        5070.00   \n",
              "1922278     6362247   718    DEBIT    2063.08   C397492133      328612.00   \n",
              "1922279     6362254   718    DEBIT     425.65  C1835928822        4046.00   \n",
              "1922280     6362303   718    DEBIT    2148.99  C1909103796       49632.00   \n",
              "1922281     6362323   718    DEBIT    1864.24    C49652609       20426.00   \n",
              "\n",
              "         newbalanceOrig     nameDest  oldbalanceDest  newbalanceDest  isFraud  \\\n",
              "0             143236.26            0            0.00            0.00        0   \n",
              "1             371688.15            0            0.00            0.00        0   \n",
              "2             706457.23            0            0.00            0.00        0   \n",
              "3            1372752.22            0            0.00            0.00        0   \n",
              "4            1508076.41            0            0.00            0.00        0   \n",
              "...                 ...          ...             ...             ...      ...   \n",
              "1922277         2460.79  C1242258329       144193.72       146802.93        0   \n",
              "1922278       326548.92  C1557979171      1312720.98      1314784.06        0   \n",
              "1922279         3620.35   C701975669      3009282.73      3009708.38        0   \n",
              "1922280        47483.01  C1931871221        66241.39        68390.38        0   \n",
              "1922281        18561.76  C1799009964       188746.00       190610.24        0   \n",
              "\n",
              "         isFlaggedFraud  \n",
              "0                     0  \n",
              "1                     0  \n",
              "2                     0  \n",
              "3                     0  \n",
              "4                     0  \n",
              "...                 ...  \n",
              "1922277               0  \n",
              "1922278               0  \n",
              "1922279               0  \n",
              "1922280               0  \n",
              "1922281               0  \n",
              "\n",
              "[1922282 rows x 12 columns]"
            ],
            "text/html": [
              "\n",
              "  <div id=\"df-f31c0363-6d7e-40ac-a343-24f5894be897\">\n",
              "    <div class=\"colab-df-container\">\n",
              "      <div>\n",
              "<style scoped>\n",
              "    .dataframe tbody tr th:only-of-type {\n",
              "        vertical-align: middle;\n",
              "    }\n",
              "\n",
              "    .dataframe tbody tr th {\n",
              "        vertical-align: top;\n",
              "    }\n",
              "\n",
              "    .dataframe thead th {\n",
              "        text-align: right;\n",
              "    }\n",
              "</style>\n",
              "<table border=\"1\" class=\"dataframe\">\n",
              "  <thead>\n",
              "    <tr style=\"text-align: right;\">\n",
              "      <th></th>\n",
              "      <th>Unnamed: 0</th>\n",
              "      <th>step</th>\n",
              "      <th>type</th>\n",
              "      <th>amount</th>\n",
              "      <th>nameOrig</th>\n",
              "      <th>oldbalanceOrg</th>\n",
              "      <th>newbalanceOrig</th>\n",
              "      <th>nameDest</th>\n",
              "      <th>oldbalanceDest</th>\n",
              "      <th>newbalanceDest</th>\n",
              "      <th>isFraud</th>\n",
              "      <th>isFlaggedFraud</th>\n",
              "    </tr>\n",
              "  </thead>\n",
              "  <tbody>\n",
              "    <tr>\n",
              "      <th>0</th>\n",
              "      <td>389</td>\n",
              "      <td>1</td>\n",
              "      <td>CASH_IN</td>\n",
              "      <td>143236.26</td>\n",
              "      <td>C1862994526</td>\n",
              "      <td>0.00</td>\n",
              "      <td>143236.26</td>\n",
              "      <td>0</td>\n",
              "      <td>0.00</td>\n",
              "      <td>0.00</td>\n",
              "      <td>0</td>\n",
              "      <td>0</td>\n",
              "    </tr>\n",
              "    <tr>\n",
              "      <th>1</th>\n",
              "      <td>390</td>\n",
              "      <td>1</td>\n",
              "      <td>CASH_IN</td>\n",
              "      <td>228451.89</td>\n",
              "      <td>C1614133563</td>\n",
              "      <td>143236.26</td>\n",
              "      <td>371688.15</td>\n",
              "      <td>0</td>\n",
              "      <td>0.00</td>\n",
              "      <td>0.00</td>\n",
              "      <td>0</td>\n",
              "      <td>0</td>\n",
              "    </tr>\n",
              "    <tr>\n",
              "      <th>2</th>\n",
              "      <td>393</td>\n",
              "      <td>1</td>\n",
              "      <td>CASH_IN</td>\n",
              "      <td>65912.95</td>\n",
              "      <td>C180316302</td>\n",
              "      <td>640544.28</td>\n",
              "      <td>706457.23</td>\n",
              "      <td>0</td>\n",
              "      <td>0.00</td>\n",
              "      <td>0.00</td>\n",
              "      <td>0</td>\n",
              "      <td>0</td>\n",
              "    </tr>\n",
              "    <tr>\n",
              "      <th>3</th>\n",
              "      <td>397</td>\n",
              "      <td>1</td>\n",
              "      <td>CASH_IN</td>\n",
              "      <td>349640.51</td>\n",
              "      <td>C1493042329</td>\n",
              "      <td>1023111.71</td>\n",
              "      <td>1372752.22</td>\n",
              "      <td>0</td>\n",
              "      <td>0.00</td>\n",
              "      <td>0.00</td>\n",
              "      <td>0</td>\n",
              "      <td>0</td>\n",
              "    </tr>\n",
              "    <tr>\n",
              "      <th>4</th>\n",
              "      <td>398</td>\n",
              "      <td>1</td>\n",
              "      <td>CASH_IN</td>\n",
              "      <td>135324.19</td>\n",
              "      <td>C1751403001</td>\n",
              "      <td>1372752.22</td>\n",
              "      <td>1508076.41</td>\n",
              "      <td>0</td>\n",
              "      <td>0.00</td>\n",
              "      <td>0.00</td>\n",
              "      <td>0</td>\n",
              "      <td>0</td>\n",
              "    </tr>\n",
              "    <tr>\n",
              "      <th>...</th>\n",
              "      <td>...</td>\n",
              "      <td>...</td>\n",
              "      <td>...</td>\n",
              "      <td>...</td>\n",
              "      <td>...</td>\n",
              "      <td>...</td>\n",
              "      <td>...</td>\n",
              "      <td>...</td>\n",
              "      <td>...</td>\n",
              "      <td>...</td>\n",
              "      <td>...</td>\n",
              "      <td>...</td>\n",
              "    </tr>\n",
              "    <tr>\n",
              "      <th>1922277</th>\n",
              "      <td>6362242</td>\n",
              "      <td>718</td>\n",
              "      <td>DEBIT</td>\n",
              "      <td>2609.21</td>\n",
              "      <td>C1546763667</td>\n",
              "      <td>5070.00</td>\n",
              "      <td>2460.79</td>\n",
              "      <td>C1242258329</td>\n",
              "      <td>144193.72</td>\n",
              "      <td>146802.93</td>\n",
              "      <td>0</td>\n",
              "      <td>0</td>\n",
              "    </tr>\n",
              "    <tr>\n",
              "      <th>1922278</th>\n",
              "      <td>6362247</td>\n",
              "      <td>718</td>\n",
              "      <td>DEBIT</td>\n",
              "      <td>2063.08</td>\n",
              "      <td>C397492133</td>\n",
              "      <td>328612.00</td>\n",
              "      <td>326548.92</td>\n",
              "      <td>C1557979171</td>\n",
              "      <td>1312720.98</td>\n",
              "      <td>1314784.06</td>\n",
              "      <td>0</td>\n",
              "      <td>0</td>\n",
              "    </tr>\n",
              "    <tr>\n",
              "      <th>1922279</th>\n",
              "      <td>6362254</td>\n",
              "      <td>718</td>\n",
              "      <td>DEBIT</td>\n",
              "      <td>425.65</td>\n",
              "      <td>C1835928822</td>\n",
              "      <td>4046.00</td>\n",
              "      <td>3620.35</td>\n",
              "      <td>C701975669</td>\n",
              "      <td>3009282.73</td>\n",
              "      <td>3009708.38</td>\n",
              "      <td>0</td>\n",
              "      <td>0</td>\n",
              "    </tr>\n",
              "    <tr>\n",
              "      <th>1922280</th>\n",
              "      <td>6362303</td>\n",
              "      <td>718</td>\n",
              "      <td>DEBIT</td>\n",
              "      <td>2148.99</td>\n",
              "      <td>C1909103796</td>\n",
              "      <td>49632.00</td>\n",
              "      <td>47483.01</td>\n",
              "      <td>C1931871221</td>\n",
              "      <td>66241.39</td>\n",
              "      <td>68390.38</td>\n",
              "      <td>0</td>\n",
              "      <td>0</td>\n",
              "    </tr>\n",
              "    <tr>\n",
              "      <th>1922281</th>\n",
              "      <td>6362323</td>\n",
              "      <td>718</td>\n",
              "      <td>DEBIT</td>\n",
              "      <td>1864.24</td>\n",
              "      <td>C49652609</td>\n",
              "      <td>20426.00</td>\n",
              "      <td>18561.76</td>\n",
              "      <td>C1799009964</td>\n",
              "      <td>188746.00</td>\n",
              "      <td>190610.24</td>\n",
              "      <td>0</td>\n",
              "      <td>0</td>\n",
              "    </tr>\n",
              "  </tbody>\n",
              "</table>\n",
              "<p>1922282 rows × 12 columns</p>\n",
              "</div>\n",
              "      <button class=\"colab-df-convert\" onclick=\"convertToInteractive('df-f31c0363-6d7e-40ac-a343-24f5894be897')\"\n",
              "              title=\"Convert this dataframe to an interactive table.\"\n",
              "              style=\"display:none;\">\n",
              "        \n",
              "  <svg xmlns=\"http://www.w3.org/2000/svg\" height=\"24px\"viewBox=\"0 0 24 24\"\n",
              "       width=\"24px\">\n",
              "    <path d=\"M0 0h24v24H0V0z\" fill=\"none\"/>\n",
              "    <path d=\"M18.56 5.44l.94 2.06.94-2.06 2.06-.94-2.06-.94-.94-2.06-.94 2.06-2.06.94zm-11 1L8.5 8.5l.94-2.06 2.06-.94-2.06-.94L8.5 2.5l-.94 2.06-2.06.94zm10 10l.94 2.06.94-2.06 2.06-.94-2.06-.94-.94-2.06-.94 2.06-2.06.94z\"/><path d=\"M17.41 7.96l-1.37-1.37c-.4-.4-.92-.59-1.43-.59-.52 0-1.04.2-1.43.59L10.3 9.45l-7.72 7.72c-.78.78-.78 2.05 0 2.83L4 21.41c.39.39.9.59 1.41.59.51 0 1.02-.2 1.41-.59l7.78-7.78 2.81-2.81c.8-.78.8-2.07 0-2.86zM5.41 20L4 18.59l7.72-7.72 1.47 1.35L5.41 20z\"/>\n",
              "  </svg>\n",
              "      </button>\n",
              "      \n",
              "  <style>\n",
              "    .colab-df-container {\n",
              "      display:flex;\n",
              "      flex-wrap:wrap;\n",
              "      gap: 12px;\n",
              "    }\n",
              "\n",
              "    .colab-df-convert {\n",
              "      background-color: #E8F0FE;\n",
              "      border: none;\n",
              "      border-radius: 50%;\n",
              "      cursor: pointer;\n",
              "      display: none;\n",
              "      fill: #1967D2;\n",
              "      height: 32px;\n",
              "      padding: 0 0 0 0;\n",
              "      width: 32px;\n",
              "    }\n",
              "\n",
              "    .colab-df-convert:hover {\n",
              "      background-color: #E2EBFA;\n",
              "      box-shadow: 0px 1px 2px rgba(60, 64, 67, 0.3), 0px 1px 3px 1px rgba(60, 64, 67, 0.15);\n",
              "      fill: #174EA6;\n",
              "    }\n",
              "\n",
              "    [theme=dark] .colab-df-convert {\n",
              "      background-color: #3B4455;\n",
              "      fill: #D2E3FC;\n",
              "    }\n",
              "\n",
              "    [theme=dark] .colab-df-convert:hover {\n",
              "      background-color: #434B5C;\n",
              "      box-shadow: 0px 1px 3px 1px rgba(0, 0, 0, 0.15);\n",
              "      filter: drop-shadow(0px 1px 2px rgba(0, 0, 0, 0.3));\n",
              "      fill: #FFFFFF;\n",
              "    }\n",
              "  </style>\n",
              "\n",
              "      <script>\n",
              "        const buttonEl =\n",
              "          document.querySelector('#df-f31c0363-6d7e-40ac-a343-24f5894be897 button.colab-df-convert');\n",
              "        buttonEl.style.display =\n",
              "          google.colab.kernel.accessAllowed ? 'block' : 'none';\n",
              "\n",
              "        async function convertToInteractive(key) {\n",
              "          const element = document.querySelector('#df-f31c0363-6d7e-40ac-a343-24f5894be897');\n",
              "          const dataTable =\n",
              "            await google.colab.kernel.invokeFunction('convertToInteractive',\n",
              "                                                     [key], {});\n",
              "          if (!dataTable) return;\n",
              "\n",
              "          const docLinkHtml = 'Like what you see? Visit the ' +\n",
              "            '<a target=\"_blank\" href=https://colab.research.google.com/notebooks/data_table.ipynb>data table notebook</a>'\n",
              "            + ' to learn more about interactive tables.';\n",
              "          element.innerHTML = '';\n",
              "          dataTable['output_type'] = 'display_data';\n",
              "          await google.colab.output.renderOutput(dataTable, element);\n",
              "          const docLink = document.createElement('div');\n",
              "          docLink.innerHTML = docLinkHtml;\n",
              "          element.appendChild(docLink);\n",
              "        }\n",
              "      </script>\n",
              "    </div>\n",
              "  </div>\n",
              "  "
            ]
          },
          "metadata": {},
          "execution_count": 41
        }
      ],
      "source": [
        "df = pd.read_csv('/content/drive/MyDrive/Dataset/FRAUD_DETECTION.csv')\n",
        "df"
      ]
    },
    {
      "cell_type": "code",
      "execution_count": 42,
      "metadata": {
        "id": "QkKydD0QelT_",
        "outputId": "4a904f17-990f-4404-b204-70504b8724df",
        "colab": {
          "base_uri": "https://localhost:8080/"
        }
      },
      "outputs": [
        {
          "output_type": "execute_result",
          "data": {
            "text/plain": [
              "Unnamed: 0             0\n",
              "step                   0\n",
              "type                   0\n",
              "amount                 0\n",
              "nameOrig               0\n",
              "oldbalanceOrg          0\n",
              "newbalanceOrig         0\n",
              "nameDest          158404\n",
              "oldbalanceDest         0\n",
              "newbalanceDest         0\n",
              "isFraud                0\n",
              "isFlaggedFraud         0\n",
              "dtype: int64"
            ]
          },
          "metadata": {},
          "execution_count": 42
        }
      ],
      "source": [
        "df.isnull().sum()"
      ]
    },
    {
      "cell_type": "code",
      "execution_count": 43,
      "metadata": {
        "id": "p8E-BZOjelUC",
        "outputId": "02aaab73-75c6-4bbd-dc45-4901e6d3e183",
        "colab": {
          "base_uri": "https://localhost:8080/"
        }
      },
      "outputs": [
        {
          "output_type": "stream",
          "name": "stdout",
          "text": [
            "<class 'pandas.core.frame.DataFrame'>\n",
            "RangeIndex: 1922282 entries, 0 to 1922281\n",
            "Data columns (total 12 columns):\n",
            " #   Column          Dtype  \n",
            "---  ------          -----  \n",
            " 0   Unnamed: 0      int64  \n",
            " 1   step            int64  \n",
            " 2   type            object \n",
            " 3   amount          float64\n",
            " 4   nameOrig        object \n",
            " 5   oldbalanceOrg   float64\n",
            " 6   newbalanceOrig  float64\n",
            " 7   nameDest        object \n",
            " 8   oldbalanceDest  float64\n",
            " 9   newbalanceDest  float64\n",
            " 10  isFraud         int64  \n",
            " 11  isFlaggedFraud  int64  \n",
            "dtypes: float64(5), int64(4), object(3)\n",
            "memory usage: 176.0+ MB\n"
          ]
        }
      ],
      "source": [
        "df.info()"
      ]
    },
    {
      "cell_type": "code",
      "source": [
        "df=df.drop(['Unnamed: 0'],axis=1)"
      ],
      "metadata": {
        "id": "vO2BKIMiLekY"
      },
      "execution_count": 44,
      "outputs": []
    },
    {
      "cell_type": "code",
      "source": [
        "df"
      ],
      "metadata": {
        "colab": {
          "base_uri": "https://localhost:8080/",
          "height": 424
        },
        "id": "B4_7QI0AkM4t",
        "outputId": "d04365fb-adbf-44a6-b1e0-c561ea453142"
      },
      "execution_count": 45,
      "outputs": [
        {
          "output_type": "execute_result",
          "data": {
            "text/plain": [
              "         step     type     amount     nameOrig  oldbalanceOrg  newbalanceOrig  \\\n",
              "0           1  CASH_IN  143236.26  C1862994526           0.00       143236.26   \n",
              "1           1  CASH_IN  228451.89  C1614133563      143236.26       371688.15   \n",
              "2           1  CASH_IN   65912.95   C180316302      640544.28       706457.23   \n",
              "3           1  CASH_IN  349640.51  C1493042329     1023111.71      1372752.22   \n",
              "4           1  CASH_IN  135324.19  C1751403001     1372752.22      1508076.41   \n",
              "...       ...      ...        ...          ...            ...             ...   \n",
              "1922277   718    DEBIT    2609.21  C1546763667        5070.00         2460.79   \n",
              "1922278   718    DEBIT    2063.08   C397492133      328612.00       326548.92   \n",
              "1922279   718    DEBIT     425.65  C1835928822        4046.00         3620.35   \n",
              "1922280   718    DEBIT    2148.99  C1909103796       49632.00        47483.01   \n",
              "1922281   718    DEBIT    1864.24    C49652609       20426.00        18561.76   \n",
              "\n",
              "            nameDest  oldbalanceDest  newbalanceDest  isFraud  isFlaggedFraud  \n",
              "0                  0            0.00            0.00        0               0  \n",
              "1                  0            0.00            0.00        0               0  \n",
              "2                  0            0.00            0.00        0               0  \n",
              "3                  0            0.00            0.00        0               0  \n",
              "4                  0            0.00            0.00        0               0  \n",
              "...              ...             ...             ...      ...             ...  \n",
              "1922277  C1242258329       144193.72       146802.93        0               0  \n",
              "1922278  C1557979171      1312720.98      1314784.06        0               0  \n",
              "1922279   C701975669      3009282.73      3009708.38        0               0  \n",
              "1922280  C1931871221        66241.39        68390.38        0               0  \n",
              "1922281  C1799009964       188746.00       190610.24        0               0  \n",
              "\n",
              "[1922282 rows x 11 columns]"
            ],
            "text/html": [
              "\n",
              "  <div id=\"df-a6b42703-46d0-411f-9c67-170a0cb792f0\">\n",
              "    <div class=\"colab-df-container\">\n",
              "      <div>\n",
              "<style scoped>\n",
              "    .dataframe tbody tr th:only-of-type {\n",
              "        vertical-align: middle;\n",
              "    }\n",
              "\n",
              "    .dataframe tbody tr th {\n",
              "        vertical-align: top;\n",
              "    }\n",
              "\n",
              "    .dataframe thead th {\n",
              "        text-align: right;\n",
              "    }\n",
              "</style>\n",
              "<table border=\"1\" class=\"dataframe\">\n",
              "  <thead>\n",
              "    <tr style=\"text-align: right;\">\n",
              "      <th></th>\n",
              "      <th>step</th>\n",
              "      <th>type</th>\n",
              "      <th>amount</th>\n",
              "      <th>nameOrig</th>\n",
              "      <th>oldbalanceOrg</th>\n",
              "      <th>newbalanceOrig</th>\n",
              "      <th>nameDest</th>\n",
              "      <th>oldbalanceDest</th>\n",
              "      <th>newbalanceDest</th>\n",
              "      <th>isFraud</th>\n",
              "      <th>isFlaggedFraud</th>\n",
              "    </tr>\n",
              "  </thead>\n",
              "  <tbody>\n",
              "    <tr>\n",
              "      <th>0</th>\n",
              "      <td>1</td>\n",
              "      <td>CASH_IN</td>\n",
              "      <td>143236.26</td>\n",
              "      <td>C1862994526</td>\n",
              "      <td>0.00</td>\n",
              "      <td>143236.26</td>\n",
              "      <td>0</td>\n",
              "      <td>0.00</td>\n",
              "      <td>0.00</td>\n",
              "      <td>0</td>\n",
              "      <td>0</td>\n",
              "    </tr>\n",
              "    <tr>\n",
              "      <th>1</th>\n",
              "      <td>1</td>\n",
              "      <td>CASH_IN</td>\n",
              "      <td>228451.89</td>\n",
              "      <td>C1614133563</td>\n",
              "      <td>143236.26</td>\n",
              "      <td>371688.15</td>\n",
              "      <td>0</td>\n",
              "      <td>0.00</td>\n",
              "      <td>0.00</td>\n",
              "      <td>0</td>\n",
              "      <td>0</td>\n",
              "    </tr>\n",
              "    <tr>\n",
              "      <th>2</th>\n",
              "      <td>1</td>\n",
              "      <td>CASH_IN</td>\n",
              "      <td>65912.95</td>\n",
              "      <td>C180316302</td>\n",
              "      <td>640544.28</td>\n",
              "      <td>706457.23</td>\n",
              "      <td>0</td>\n",
              "      <td>0.00</td>\n",
              "      <td>0.00</td>\n",
              "      <td>0</td>\n",
              "      <td>0</td>\n",
              "    </tr>\n",
              "    <tr>\n",
              "      <th>3</th>\n",
              "      <td>1</td>\n",
              "      <td>CASH_IN</td>\n",
              "      <td>349640.51</td>\n",
              "      <td>C1493042329</td>\n",
              "      <td>1023111.71</td>\n",
              "      <td>1372752.22</td>\n",
              "      <td>0</td>\n",
              "      <td>0.00</td>\n",
              "      <td>0.00</td>\n",
              "      <td>0</td>\n",
              "      <td>0</td>\n",
              "    </tr>\n",
              "    <tr>\n",
              "      <th>4</th>\n",
              "      <td>1</td>\n",
              "      <td>CASH_IN</td>\n",
              "      <td>135324.19</td>\n",
              "      <td>C1751403001</td>\n",
              "      <td>1372752.22</td>\n",
              "      <td>1508076.41</td>\n",
              "      <td>0</td>\n",
              "      <td>0.00</td>\n",
              "      <td>0.00</td>\n",
              "      <td>0</td>\n",
              "      <td>0</td>\n",
              "    </tr>\n",
              "    <tr>\n",
              "      <th>...</th>\n",
              "      <td>...</td>\n",
              "      <td>...</td>\n",
              "      <td>...</td>\n",
              "      <td>...</td>\n",
              "      <td>...</td>\n",
              "      <td>...</td>\n",
              "      <td>...</td>\n",
              "      <td>...</td>\n",
              "      <td>...</td>\n",
              "      <td>...</td>\n",
              "      <td>...</td>\n",
              "    </tr>\n",
              "    <tr>\n",
              "      <th>1922277</th>\n",
              "      <td>718</td>\n",
              "      <td>DEBIT</td>\n",
              "      <td>2609.21</td>\n",
              "      <td>C1546763667</td>\n",
              "      <td>5070.00</td>\n",
              "      <td>2460.79</td>\n",
              "      <td>C1242258329</td>\n",
              "      <td>144193.72</td>\n",
              "      <td>146802.93</td>\n",
              "      <td>0</td>\n",
              "      <td>0</td>\n",
              "    </tr>\n",
              "    <tr>\n",
              "      <th>1922278</th>\n",
              "      <td>718</td>\n",
              "      <td>DEBIT</td>\n",
              "      <td>2063.08</td>\n",
              "      <td>C397492133</td>\n",
              "      <td>328612.00</td>\n",
              "      <td>326548.92</td>\n",
              "      <td>C1557979171</td>\n",
              "      <td>1312720.98</td>\n",
              "      <td>1314784.06</td>\n",
              "      <td>0</td>\n",
              "      <td>0</td>\n",
              "    </tr>\n",
              "    <tr>\n",
              "      <th>1922279</th>\n",
              "      <td>718</td>\n",
              "      <td>DEBIT</td>\n",
              "      <td>425.65</td>\n",
              "      <td>C1835928822</td>\n",
              "      <td>4046.00</td>\n",
              "      <td>3620.35</td>\n",
              "      <td>C701975669</td>\n",
              "      <td>3009282.73</td>\n",
              "      <td>3009708.38</td>\n",
              "      <td>0</td>\n",
              "      <td>0</td>\n",
              "    </tr>\n",
              "    <tr>\n",
              "      <th>1922280</th>\n",
              "      <td>718</td>\n",
              "      <td>DEBIT</td>\n",
              "      <td>2148.99</td>\n",
              "      <td>C1909103796</td>\n",
              "      <td>49632.00</td>\n",
              "      <td>47483.01</td>\n",
              "      <td>C1931871221</td>\n",
              "      <td>66241.39</td>\n",
              "      <td>68390.38</td>\n",
              "      <td>0</td>\n",
              "      <td>0</td>\n",
              "    </tr>\n",
              "    <tr>\n",
              "      <th>1922281</th>\n",
              "      <td>718</td>\n",
              "      <td>DEBIT</td>\n",
              "      <td>1864.24</td>\n",
              "      <td>C49652609</td>\n",
              "      <td>20426.00</td>\n",
              "      <td>18561.76</td>\n",
              "      <td>C1799009964</td>\n",
              "      <td>188746.00</td>\n",
              "      <td>190610.24</td>\n",
              "      <td>0</td>\n",
              "      <td>0</td>\n",
              "    </tr>\n",
              "  </tbody>\n",
              "</table>\n",
              "<p>1922282 rows × 11 columns</p>\n",
              "</div>\n",
              "      <button class=\"colab-df-convert\" onclick=\"convertToInteractive('df-a6b42703-46d0-411f-9c67-170a0cb792f0')\"\n",
              "              title=\"Convert this dataframe to an interactive table.\"\n",
              "              style=\"display:none;\">\n",
              "        \n",
              "  <svg xmlns=\"http://www.w3.org/2000/svg\" height=\"24px\"viewBox=\"0 0 24 24\"\n",
              "       width=\"24px\">\n",
              "    <path d=\"M0 0h24v24H0V0z\" fill=\"none\"/>\n",
              "    <path d=\"M18.56 5.44l.94 2.06.94-2.06 2.06-.94-2.06-.94-.94-2.06-.94 2.06-2.06.94zm-11 1L8.5 8.5l.94-2.06 2.06-.94-2.06-.94L8.5 2.5l-.94 2.06-2.06.94zm10 10l.94 2.06.94-2.06 2.06-.94-2.06-.94-.94-2.06-.94 2.06-2.06.94z\"/><path d=\"M17.41 7.96l-1.37-1.37c-.4-.4-.92-.59-1.43-.59-.52 0-1.04.2-1.43.59L10.3 9.45l-7.72 7.72c-.78.78-.78 2.05 0 2.83L4 21.41c.39.39.9.59 1.41.59.51 0 1.02-.2 1.41-.59l7.78-7.78 2.81-2.81c.8-.78.8-2.07 0-2.86zM5.41 20L4 18.59l7.72-7.72 1.47 1.35L5.41 20z\"/>\n",
              "  </svg>\n",
              "      </button>\n",
              "      \n",
              "  <style>\n",
              "    .colab-df-container {\n",
              "      display:flex;\n",
              "      flex-wrap:wrap;\n",
              "      gap: 12px;\n",
              "    }\n",
              "\n",
              "    .colab-df-convert {\n",
              "      background-color: #E8F0FE;\n",
              "      border: none;\n",
              "      border-radius: 50%;\n",
              "      cursor: pointer;\n",
              "      display: none;\n",
              "      fill: #1967D2;\n",
              "      height: 32px;\n",
              "      padding: 0 0 0 0;\n",
              "      width: 32px;\n",
              "    }\n",
              "\n",
              "    .colab-df-convert:hover {\n",
              "      background-color: #E2EBFA;\n",
              "      box-shadow: 0px 1px 2px rgba(60, 64, 67, 0.3), 0px 1px 3px 1px rgba(60, 64, 67, 0.15);\n",
              "      fill: #174EA6;\n",
              "    }\n",
              "\n",
              "    [theme=dark] .colab-df-convert {\n",
              "      background-color: #3B4455;\n",
              "      fill: #D2E3FC;\n",
              "    }\n",
              "\n",
              "    [theme=dark] .colab-df-convert:hover {\n",
              "      background-color: #434B5C;\n",
              "      box-shadow: 0px 1px 3px 1px rgba(0, 0, 0, 0.15);\n",
              "      filter: drop-shadow(0px 1px 2px rgba(0, 0, 0, 0.3));\n",
              "      fill: #FFFFFF;\n",
              "    }\n",
              "  </style>\n",
              "\n",
              "      <script>\n",
              "        const buttonEl =\n",
              "          document.querySelector('#df-a6b42703-46d0-411f-9c67-170a0cb792f0 button.colab-df-convert');\n",
              "        buttonEl.style.display =\n",
              "          google.colab.kernel.accessAllowed ? 'block' : 'none';\n",
              "\n",
              "        async function convertToInteractive(key) {\n",
              "          const element = document.querySelector('#df-a6b42703-46d0-411f-9c67-170a0cb792f0');\n",
              "          const dataTable =\n",
              "            await google.colab.kernel.invokeFunction('convertToInteractive',\n",
              "                                                     [key], {});\n",
              "          if (!dataTable) return;\n",
              "\n",
              "          const docLinkHtml = 'Like what you see? Visit the ' +\n",
              "            '<a target=\"_blank\" href=https://colab.research.google.com/notebooks/data_table.ipynb>data table notebook</a>'\n",
              "            + ' to learn more about interactive tables.';\n",
              "          element.innerHTML = '';\n",
              "          dataTable['output_type'] = 'display_data';\n",
              "          await google.colab.output.renderOutput(dataTable, element);\n",
              "          const docLink = document.createElement('div');\n",
              "          docLink.innerHTML = docLinkHtml;\n",
              "          element.appendChild(docLink);\n",
              "        }\n",
              "      </script>\n",
              "    </div>\n",
              "  </div>\n",
              "  "
            ]
          },
          "metadata": {},
          "execution_count": 45
        }
      ]
    },
    {
      "cell_type": "code",
      "execution_count": 46,
      "metadata": {
        "id": "7uwqcwLHelUC",
        "outputId": "0ad0bcb0-1dc1-479a-df10-b618a1848ed8",
        "colab": {
          "base_uri": "https://localhost:8080/"
        }
      },
      "outputs": [
        {
          "output_type": "execute_result",
          "data": {
            "text/plain": [
              "Index(['type', 'nameOrig', 'nameDest'], dtype='object')"
            ]
          },
          "metadata": {},
          "execution_count": 46
        }
      ],
      "source": [
        "cat_columns = df.select_dtypes(include='object').columns\n",
        "cat_columns"
      ]
    },
    {
      "cell_type": "code",
      "execution_count": 47,
      "metadata": {
        "id": "VG_vEYJmelUD",
        "outputId": "e0766e20-b087-4c3d-bc99-de8ac51d880c",
        "colab": {
          "base_uri": "https://localhost:8080/",
          "height": 424
        }
      },
      "outputs": [
        {
          "output_type": "execute_result",
          "data": {
            "text/plain": [
              "         step     amount  oldbalanceOrg  newbalanceOrig  oldbalanceDest  \\\n",
              "0           1  143236.26           0.00       143236.26            0.00   \n",
              "1           1  228451.89      143236.26       371688.15            0.00   \n",
              "2           1   65912.95      640544.28       706457.23            0.00   \n",
              "3           1  349640.51     1023111.71      1372752.22            0.00   \n",
              "4           1  135324.19     1372752.22      1508076.41            0.00   \n",
              "...       ...        ...            ...             ...             ...   \n",
              "1922277   718    2609.21        5070.00         2460.79       144193.72   \n",
              "1922278   718    2063.08      328612.00       326548.92      1312720.98   \n",
              "1922279   718     425.65        4046.00         3620.35      3009282.73   \n",
              "1922280   718    2148.99       49632.00        47483.01        66241.39   \n",
              "1922281   718    1864.24       20426.00        18561.76       188746.00   \n",
              "\n",
              "         newbalanceDest  isFraud  isFlaggedFraud  \n",
              "0                  0.00        0               0  \n",
              "1                  0.00        0               0  \n",
              "2                  0.00        0               0  \n",
              "3                  0.00        0               0  \n",
              "4                  0.00        0               0  \n",
              "...                 ...      ...             ...  \n",
              "1922277       146802.93        0               0  \n",
              "1922278      1314784.06        0               0  \n",
              "1922279      3009708.38        0               0  \n",
              "1922280        68390.38        0               0  \n",
              "1922281       190610.24        0               0  \n",
              "\n",
              "[1922282 rows x 8 columns]"
            ],
            "text/html": [
              "\n",
              "  <div id=\"df-fb4cbab6-9bfe-4c90-927c-ee28aa239c6a\">\n",
              "    <div class=\"colab-df-container\">\n",
              "      <div>\n",
              "<style scoped>\n",
              "    .dataframe tbody tr th:only-of-type {\n",
              "        vertical-align: middle;\n",
              "    }\n",
              "\n",
              "    .dataframe tbody tr th {\n",
              "        vertical-align: top;\n",
              "    }\n",
              "\n",
              "    .dataframe thead th {\n",
              "        text-align: right;\n",
              "    }\n",
              "</style>\n",
              "<table border=\"1\" class=\"dataframe\">\n",
              "  <thead>\n",
              "    <tr style=\"text-align: right;\">\n",
              "      <th></th>\n",
              "      <th>step</th>\n",
              "      <th>amount</th>\n",
              "      <th>oldbalanceOrg</th>\n",
              "      <th>newbalanceOrig</th>\n",
              "      <th>oldbalanceDest</th>\n",
              "      <th>newbalanceDest</th>\n",
              "      <th>isFraud</th>\n",
              "      <th>isFlaggedFraud</th>\n",
              "    </tr>\n",
              "  </thead>\n",
              "  <tbody>\n",
              "    <tr>\n",
              "      <th>0</th>\n",
              "      <td>1</td>\n",
              "      <td>143236.26</td>\n",
              "      <td>0.00</td>\n",
              "      <td>143236.26</td>\n",
              "      <td>0.00</td>\n",
              "      <td>0.00</td>\n",
              "      <td>0</td>\n",
              "      <td>0</td>\n",
              "    </tr>\n",
              "    <tr>\n",
              "      <th>1</th>\n",
              "      <td>1</td>\n",
              "      <td>228451.89</td>\n",
              "      <td>143236.26</td>\n",
              "      <td>371688.15</td>\n",
              "      <td>0.00</td>\n",
              "      <td>0.00</td>\n",
              "      <td>0</td>\n",
              "      <td>0</td>\n",
              "    </tr>\n",
              "    <tr>\n",
              "      <th>2</th>\n",
              "      <td>1</td>\n",
              "      <td>65912.95</td>\n",
              "      <td>640544.28</td>\n",
              "      <td>706457.23</td>\n",
              "      <td>0.00</td>\n",
              "      <td>0.00</td>\n",
              "      <td>0</td>\n",
              "      <td>0</td>\n",
              "    </tr>\n",
              "    <tr>\n",
              "      <th>3</th>\n",
              "      <td>1</td>\n",
              "      <td>349640.51</td>\n",
              "      <td>1023111.71</td>\n",
              "      <td>1372752.22</td>\n",
              "      <td>0.00</td>\n",
              "      <td>0.00</td>\n",
              "      <td>0</td>\n",
              "      <td>0</td>\n",
              "    </tr>\n",
              "    <tr>\n",
              "      <th>4</th>\n",
              "      <td>1</td>\n",
              "      <td>135324.19</td>\n",
              "      <td>1372752.22</td>\n",
              "      <td>1508076.41</td>\n",
              "      <td>0.00</td>\n",
              "      <td>0.00</td>\n",
              "      <td>0</td>\n",
              "      <td>0</td>\n",
              "    </tr>\n",
              "    <tr>\n",
              "      <th>...</th>\n",
              "      <td>...</td>\n",
              "      <td>...</td>\n",
              "      <td>...</td>\n",
              "      <td>...</td>\n",
              "      <td>...</td>\n",
              "      <td>...</td>\n",
              "      <td>...</td>\n",
              "      <td>...</td>\n",
              "    </tr>\n",
              "    <tr>\n",
              "      <th>1922277</th>\n",
              "      <td>718</td>\n",
              "      <td>2609.21</td>\n",
              "      <td>5070.00</td>\n",
              "      <td>2460.79</td>\n",
              "      <td>144193.72</td>\n",
              "      <td>146802.93</td>\n",
              "      <td>0</td>\n",
              "      <td>0</td>\n",
              "    </tr>\n",
              "    <tr>\n",
              "      <th>1922278</th>\n",
              "      <td>718</td>\n",
              "      <td>2063.08</td>\n",
              "      <td>328612.00</td>\n",
              "      <td>326548.92</td>\n",
              "      <td>1312720.98</td>\n",
              "      <td>1314784.06</td>\n",
              "      <td>0</td>\n",
              "      <td>0</td>\n",
              "    </tr>\n",
              "    <tr>\n",
              "      <th>1922279</th>\n",
              "      <td>718</td>\n",
              "      <td>425.65</td>\n",
              "      <td>4046.00</td>\n",
              "      <td>3620.35</td>\n",
              "      <td>3009282.73</td>\n",
              "      <td>3009708.38</td>\n",
              "      <td>0</td>\n",
              "      <td>0</td>\n",
              "    </tr>\n",
              "    <tr>\n",
              "      <th>1922280</th>\n",
              "      <td>718</td>\n",
              "      <td>2148.99</td>\n",
              "      <td>49632.00</td>\n",
              "      <td>47483.01</td>\n",
              "      <td>66241.39</td>\n",
              "      <td>68390.38</td>\n",
              "      <td>0</td>\n",
              "      <td>0</td>\n",
              "    </tr>\n",
              "    <tr>\n",
              "      <th>1922281</th>\n",
              "      <td>718</td>\n",
              "      <td>1864.24</td>\n",
              "      <td>20426.00</td>\n",
              "      <td>18561.76</td>\n",
              "      <td>188746.00</td>\n",
              "      <td>190610.24</td>\n",
              "      <td>0</td>\n",
              "      <td>0</td>\n",
              "    </tr>\n",
              "  </tbody>\n",
              "</table>\n",
              "<p>1922282 rows × 8 columns</p>\n",
              "</div>\n",
              "      <button class=\"colab-df-convert\" onclick=\"convertToInteractive('df-fb4cbab6-9bfe-4c90-927c-ee28aa239c6a')\"\n",
              "              title=\"Convert this dataframe to an interactive table.\"\n",
              "              style=\"display:none;\">\n",
              "        \n",
              "  <svg xmlns=\"http://www.w3.org/2000/svg\" height=\"24px\"viewBox=\"0 0 24 24\"\n",
              "       width=\"24px\">\n",
              "    <path d=\"M0 0h24v24H0V0z\" fill=\"none\"/>\n",
              "    <path d=\"M18.56 5.44l.94 2.06.94-2.06 2.06-.94-2.06-.94-.94-2.06-.94 2.06-2.06.94zm-11 1L8.5 8.5l.94-2.06 2.06-.94-2.06-.94L8.5 2.5l-.94 2.06-2.06.94zm10 10l.94 2.06.94-2.06 2.06-.94-2.06-.94-.94-2.06-.94 2.06-2.06.94z\"/><path d=\"M17.41 7.96l-1.37-1.37c-.4-.4-.92-.59-1.43-.59-.52 0-1.04.2-1.43.59L10.3 9.45l-7.72 7.72c-.78.78-.78 2.05 0 2.83L4 21.41c.39.39.9.59 1.41.59.51 0 1.02-.2 1.41-.59l7.78-7.78 2.81-2.81c.8-.78.8-2.07 0-2.86zM5.41 20L4 18.59l7.72-7.72 1.47 1.35L5.41 20z\"/>\n",
              "  </svg>\n",
              "      </button>\n",
              "      \n",
              "  <style>\n",
              "    .colab-df-container {\n",
              "      display:flex;\n",
              "      flex-wrap:wrap;\n",
              "      gap: 12px;\n",
              "    }\n",
              "\n",
              "    .colab-df-convert {\n",
              "      background-color: #E8F0FE;\n",
              "      border: none;\n",
              "      border-radius: 50%;\n",
              "      cursor: pointer;\n",
              "      display: none;\n",
              "      fill: #1967D2;\n",
              "      height: 32px;\n",
              "      padding: 0 0 0 0;\n",
              "      width: 32px;\n",
              "    }\n",
              "\n",
              "    .colab-df-convert:hover {\n",
              "      background-color: #E2EBFA;\n",
              "      box-shadow: 0px 1px 2px rgba(60, 64, 67, 0.3), 0px 1px 3px 1px rgba(60, 64, 67, 0.15);\n",
              "      fill: #174EA6;\n",
              "    }\n",
              "\n",
              "    [theme=dark] .colab-df-convert {\n",
              "      background-color: #3B4455;\n",
              "      fill: #D2E3FC;\n",
              "    }\n",
              "\n",
              "    [theme=dark] .colab-df-convert:hover {\n",
              "      background-color: #434B5C;\n",
              "      box-shadow: 0px 1px 3px 1px rgba(0, 0, 0, 0.15);\n",
              "      filter: drop-shadow(0px 1px 2px rgba(0, 0, 0, 0.3));\n",
              "      fill: #FFFFFF;\n",
              "    }\n",
              "  </style>\n",
              "\n",
              "      <script>\n",
              "        const buttonEl =\n",
              "          document.querySelector('#df-fb4cbab6-9bfe-4c90-927c-ee28aa239c6a button.colab-df-convert');\n",
              "        buttonEl.style.display =\n",
              "          google.colab.kernel.accessAllowed ? 'block' : 'none';\n",
              "\n",
              "        async function convertToInteractive(key) {\n",
              "          const element = document.querySelector('#df-fb4cbab6-9bfe-4c90-927c-ee28aa239c6a');\n",
              "          const dataTable =\n",
              "            await google.colab.kernel.invokeFunction('convertToInteractive',\n",
              "                                                     [key], {});\n",
              "          if (!dataTable) return;\n",
              "\n",
              "          const docLinkHtml = 'Like what you see? Visit the ' +\n",
              "            '<a target=\"_blank\" href=https://colab.research.google.com/notebooks/data_table.ipynb>data table notebook</a>'\n",
              "            + ' to learn more about interactive tables.';\n",
              "          element.innerHTML = '';\n",
              "          dataTable['output_type'] = 'display_data';\n",
              "          await google.colab.output.renderOutput(dataTable, element);\n",
              "          const docLink = document.createElement('div');\n",
              "          docLink.innerHTML = docLinkHtml;\n",
              "          element.appendChild(docLink);\n",
              "        }\n",
              "      </script>\n",
              "    </div>\n",
              "  </div>\n",
              "  "
            ]
          },
          "metadata": {},
          "execution_count": 47
        }
      ],
      "source": [
        "num_columns = df.select_dtypes(include=np.number).columns\n",
        "df[num_columns]"
      ]
    },
    {
      "cell_type": "code",
      "execution_count": 48,
      "metadata": {
        "id": "hjE2aWYfelUE"
      },
      "outputs": [],
      "source": [
        "from sklearn.preprocessing import OneHotEncoder\n",
        "from sklearn.compose import ColumnTransformer\n",
        "from sklearn.preprocessing import StandardScaler\n",
        "from sklearn.model_selection import train_test_split\n",
        "from sklearn.metrics import confusion_matrix, classification_report\n",
        "from sklearn.pipeline import Pipeline\n",
        "from imblearn.over_sampling import SMOTE"
      ]
    },
    {
      "cell_type": "code",
      "execution_count": 49,
      "metadata": {
        "id": "wTiMNTEoelUF"
      },
      "outputs": [],
      "source": [
        "X = df.drop(columns=['isFraud', 'isFlaggedFraud'])\n",
        "y = df['isFraud']\n",
        "smote = SMOTE()"
      ]
    },
    {
      "cell_type": "code",
      "execution_count": 50,
      "metadata": {
        "id": "n17xPM5aelUG"
      },
      "outputs": [],
      "source": [
        "preprocessor = ColumnTransformer(\n",
        "    transformers=[\n",
        "        ('cat', OneHotEncoder(drop='first'), ['type']),\n",
        "        ('num', StandardScaler(), num_columns[:-2])\n",
        "    ])\n",
        "\n",
        "p = Pipeline(steps=[('preprocessor', preprocessor)])"
      ]
    },
    {
      "cell_type": "code",
      "execution_count": 51,
      "metadata": {
        "id": "4Pe7lQgNelUH",
        "outputId": "541cdf4c-10b5-47ea-ccc9-7c476304141a",
        "colab": {
          "base_uri": "https://localhost:8080/"
        }
      },
      "outputs": [
        {
          "output_type": "execute_result",
          "data": {
            "text/plain": [
              "(1922282, 10)"
            ]
          },
          "metadata": {},
          "execution_count": 51
        }
      ],
      "source": [
        "Xp = p.fit_transform(X)\n",
        "Xp.shape"
      ]
    },
    {
      "cell_type": "code",
      "execution_count": 52,
      "metadata": {
        "id": "9xV3np4welUI",
        "outputId": "83fe69e6-198a-4ed5-eeba-142cd0c2f396",
        "colab": {
          "base_uri": "https://localhost:8080/"
        }
      },
      "outputs": [
        {
          "output_type": "execute_result",
          "data": {
            "text/plain": [
              "((3836380, 10), (3836380,))"
            ]
          },
          "metadata": {},
          "execution_count": 52
        }
      ],
      "source": [
        "Xp, y = smote.fit_resample(Xp, y)\n",
        "Xp.shape, y.shape"
      ]
    },
    {
      "cell_type": "markdown",
      "metadata": {
        "id": "TK1UbiDXelUI"
      },
      "source": [
        "#### Create a Neural Network"
      ]
    },
    {
      "cell_type": "code",
      "execution_count": 53,
      "metadata": {
        "id": "PcXsz_JgelUM"
      },
      "outputs": [],
      "source": [
        "model= Sequential()\n",
        "model.add(Dense(units=512, activation=relu, input_shape=(Xp.shape[1],)))\n",
        "model.add(Dropout(0.2))\n",
        "model.add(Dense(units=256, activation=relu))\n",
        "model.add(Dropout(0.2))\n",
        "model.add(Dense(units=128, activation=relu))\n",
        "model.add(Dropout(0.2))\n",
        "model.add(Dense(units=64, activation=relu))\n",
        "model.add(Dropout(0.2))\n",
        "model.add(Dense(units=32, activation=relu))\n",
        "model.add(Dropout(0.2))\n",
        "model.add(Dense(units=16, activation=relu))\n",
        "model.add(Dropout(0.2))\n",
        "model.add(Dense(units=8, activation=relu))\n",
        "model.add(Dropout(0.2))\n",
        "model.add(Dense(units=4, activation=relu))\n",
        "model.add(Dropout(0.2))\n",
        "model.add(Dense(units=2, activation=relu))\n",
        "model.add(Dropout(0.2))\n",
        "model.add(Dense(units=1, activation=sigmoid))"
      ]
    },
    {
      "cell_type": "code",
      "execution_count": 54,
      "metadata": {
        "id": "YIuPZndOelUO",
        "outputId": "1d8dab3c-7468-40cb-c76a-ffc4c561c658",
        "colab": {
          "base_uri": "https://localhost:8080/"
        }
      },
      "outputs": [
        {
          "output_type": "stream",
          "name": "stdout",
          "text": [
            "Model: \"sequential_2\"\n",
            "_________________________________________________________________\n",
            " Layer (type)                Output Shape              Param #   \n",
            "=================================================================\n",
            " dense_20 (Dense)            (None, 512)               5632      \n",
            "                                                                 \n",
            " dropout_18 (Dropout)        (None, 512)               0         \n",
            "                                                                 \n",
            " dense_21 (Dense)            (None, 256)               131328    \n",
            "                                                                 \n",
            " dropout_19 (Dropout)        (None, 256)               0         \n",
            "                                                                 \n",
            " dense_22 (Dense)            (None, 128)               32896     \n",
            "                                                                 \n",
            " dropout_20 (Dropout)        (None, 128)               0         \n",
            "                                                                 \n",
            " dense_23 (Dense)            (None, 64)                8256      \n",
            "                                                                 \n",
            " dropout_21 (Dropout)        (None, 64)                0         \n",
            "                                                                 \n",
            " dense_24 (Dense)            (None, 32)                2080      \n",
            "                                                                 \n",
            " dropout_22 (Dropout)        (None, 32)                0         \n",
            "                                                                 \n",
            " dense_25 (Dense)            (None, 16)                528       \n",
            "                                                                 \n",
            " dropout_23 (Dropout)        (None, 16)                0         \n",
            "                                                                 \n",
            " dense_26 (Dense)            (None, 8)                 136       \n",
            "                                                                 \n",
            " dropout_24 (Dropout)        (None, 8)                 0         \n",
            "                                                                 \n",
            " dense_27 (Dense)            (None, 4)                 36        \n",
            "                                                                 \n",
            " dropout_25 (Dropout)        (None, 4)                 0         \n",
            "                                                                 \n",
            " dense_28 (Dense)            (None, 2)                 10        \n",
            "                                                                 \n",
            " dropout_26 (Dropout)        (None, 2)                 0         \n",
            "                                                                 \n",
            " dense_29 (Dense)            (None, 1)                 3         \n",
            "                                                                 \n",
            "=================================================================\n",
            "Total params: 180,905\n",
            "Trainable params: 180,905\n",
            "Non-trainable params: 0\n",
            "_________________________________________________________________\n"
          ]
        }
      ],
      "source": [
        "# optimizer is stochastic gradient descent, which is a good default optimizer, for more info see https://keras.io/api/optimizers/sgd/\n",
        "model.compile(\n",
        "    optimizer=SGD(),\n",
        "    loss=binary_crossentropy,\n",
        "    metrics=['accuracy', 'Precision', 'Recall']\n",
        ")\n",
        "\n",
        "model.summary()"
      ]
    },
    {
      "cell_type": "code",
      "execution_count": 55,
      "metadata": {
        "id": "JfaA_1ocelUP",
        "outputId": "b6b21ca7-f73a-4983-9300-212a5ea86372",
        "colab": {
          "base_uri": "https://localhost:8080/"
        }
      },
      "outputs": [
        {
          "output_type": "execute_result",
          "data": {
            "text/plain": [
              "((3069104, 10), (767276, 10), (3069104,), (767276,))"
            ]
          },
          "metadata": {},
          "execution_count": 55
        }
      ],
      "source": [
        "X_train, X_test, y_train, y_test = train_test_split(Xp, y, test_size=0.2, random_state=42)\n",
        "X_train.shape, X_test.shape, y_train.shape, y_test.shape"
      ]
    },
    {
      "cell_type": "code",
      "execution_count": 56,
      "metadata": {
        "id": "-54ftmx5elUQ",
        "outputId": "812415de-7842-4a58-a8a8-32d685a3bb22",
        "colab": {
          "base_uri": "https://localhost:8080/"
        }
      },
      "outputs": [
        {
          "output_type": "stream",
          "name": "stdout",
          "text": [
            "Epoch 1/10\n",
            "76728/76728 [==============================] - 478s 6ms/step - loss: 0.6930 - accuracy: 0.5001 - precision: 0.4998 - recall: 0.4567 - val_loss: 0.6932 - val_accuracy: 0.5000 - val_precision: 0.0000e+00 - val_recall: 0.0000e+00\n",
            "Epoch 2/10\n",
            "76728/76728 [==============================] - 464s 6ms/step - loss: 0.6930 - accuracy: 0.5000 - precision: 0.4997 - recall: 0.4600 - val_loss: 0.6932 - val_accuracy: 0.5000 - val_precision: 0.5000 - val_recall: 1.0000\n",
            "Epoch 3/10\n",
            "76728/76728 [==============================] - 463s 6ms/step - loss: 0.6930 - accuracy: 0.5005 - precision: 0.5002 - recall: 0.4923 - val_loss: 0.6932 - val_accuracy: 0.5000 - val_precision: 0.5000 - val_recall: 1.0000\n",
            "Epoch 4/10\n",
            "76728/76728 [==============================] - 463s 6ms/step - loss: 0.6930 - accuracy: 0.5001 - precision: 0.4998 - recall: 0.4673 - val_loss: 0.6931 - val_accuracy: 0.5000 - val_precision: 0.5000 - val_recall: 1.0000\n",
            "Epoch 5/10\n",
            "76728/76728 [==============================] - 449s 6ms/step - loss: 0.6930 - accuracy: 0.5001 - precision: 0.4998 - recall: 0.4624 - val_loss: 0.6932 - val_accuracy: 0.5000 - val_precision: 0.5000 - val_recall: 1.0000\n",
            "Epoch 6/10\n",
            "76728/76728 [==============================] - 516s 7ms/step - loss: 0.6930 - accuracy: 0.5006 - precision: 0.5003 - recall: 0.4798 - val_loss: 0.6932 - val_accuracy: 0.5000 - val_precision: 0.0000e+00 - val_recall: 0.0000e+00\n",
            "Epoch 7/10\n",
            "76728/76728 [==============================] - 469s 6ms/step - loss: 0.6930 - accuracy: 0.5003 - precision: 0.5000 - recall: 0.4724 - val_loss: 0.6931 - val_accuracy: 0.5000 - val_precision: 0.5000 - val_recall: 1.0000\n",
            "Epoch 8/10\n",
            "76728/76728 [==============================] - 462s 6ms/step - loss: 0.6930 - accuracy: 0.5003 - precision: 0.5001 - recall: 0.4345 - val_loss: 0.6932 - val_accuracy: 0.5000 - val_precision: 0.5000 - val_recall: 1.0000\n",
            "Epoch 9/10\n",
            "76728/76728 [==============================] - 473s 6ms/step - loss: 0.6930 - accuracy: 0.5000 - precision: 0.4997 - recall: 0.4598 - val_loss: 0.6932 - val_accuracy: 0.5000 - val_precision: 0.5000 - val_recall: 1.0000\n",
            "Epoch 10/10\n",
            "76728/76728 [==============================] - 502s 7ms/step - loss: 0.6930 - accuracy: 0.4997 - precision: 0.4994 - recall: 0.4573 - val_loss: 0.6932 - val_accuracy: 0.5000 - val_precision: 0.5000 - val_recall: 1.0000\n"
          ]
        },
        {
          "output_type": "execute_result",
          "data": {
            "text/plain": [
              "<keras.callbacks.History at 0x7f78478916c0>"
            ]
          },
          "metadata": {},
          "execution_count": 56
        }
      ],
      "source": [
        "model.fit(X_train, y_train, epochs=10, batch_size=32, validation_split=0.2, verbose=1, shuffle=True)"
      ]
    },
    {
      "cell_type": "code",
      "execution_count": 57,
      "metadata": {
        "id": "kmSoYgxmelUR",
        "outputId": "3d57607d-7a27-4c57-9ae3-440304cf898b",
        "colab": {
          "base_uri": "https://localhost:8080/"
        }
      },
      "outputs": [
        {
          "output_type": "stream",
          "name": "stdout",
          "text": [
            "23978/23978 [==============================] - 51s 2ms/step - loss: 0.6932 - accuracy: 0.5009 - precision: 0.5009 - recall: 1.0000\n"
          ]
        },
        {
          "output_type": "execute_result",
          "data": {
            "text/plain": [
              "[0.6932026147842407, 0.5008575916290283, 0.5008575916290283, 1.0]"
            ]
          },
          "metadata": {},
          "execution_count": 57
        }
      ],
      "source": [
        "model.evaluate(X_test, y_test)"
      ]
    },
    {
      "cell_type": "code",
      "execution_count": 58,
      "metadata": {
        "id": "sDypjJhJelUR",
        "outputId": "126ee3a2-edef-445e-a81b-a7de6efa9e8c",
        "colab": {
          "base_uri": "https://localhost:8080/",
          "height": 466
        }
      },
      "outputs": [
        {
          "output_type": "stream",
          "name": "stdout",
          "text": [
            "23978/23978 [==============================] - 41s 2ms/step\n"
          ]
        },
        {
          "output_type": "execute_result",
          "data": {
            "text/plain": [
              "<Axes: >"
            ]
          },
          "metadata": {},
          "execution_count": 58
        },
        {
          "output_type": "display_data",
          "data": {
            "text/plain": [
              "<Figure size 640x480 with 2 Axes>"
            ],
            "image/png": "[encoded data removed]"
          },
          "metadata": {}
        }
      ],
      "source": [
        "import seaborn as sns\n",
        "# heatmap\n",
        "ypred = model.predict(X_test)\n",
        "ypred = ypred > 0.5\n",
        "cm = confusion_matrix(y_test, ypred)\n",
        "sns.heatmap(cm, annot=True, fmt='d')"
      ]
    },
    {
      "cell_type": "code",
      "execution_count": 59,
      "metadata": {
        "id": "HkbycYHHelUS",
        "outputId": "04b2bb84-f294-4162-b60f-1a87588ebe59",
        "colab": {
          "base_uri": "https://localhost:8080/"
        }
      },
      "outputs": [
        {
          "output_type": "stream",
          "name": "stderr",
          "text": [
            "/usr/local/lib/python3.10/dist-packages/sklearn/metrics/_classification.py:1344: UndefinedMetricWarning: Precision and F-score are ill-defined and being set to 0.0 in labels with no predicted samples. Use `zero_division` parameter to control this behavior.\n",
            "  _warn_prf(average, modifier, msg_start, len(result))\n",
            "/usr/local/lib/python3.10/dist-packages/sklearn/metrics/_classification.py:1344: UndefinedMetricWarning: Precision and F-score are ill-defined and being set to 0.0 in labels with no predicted samples. Use `zero_division` parameter to control this behavior.\n",
            "  _warn_prf(average, modifier, msg_start, len(result))\n"
          ]
        },
        {
          "output_type": "stream",
          "name": "stdout",
          "text": [
            "              precision    recall  f1-score   support\n",
            "\n",
            "           0       0.00      0.00      0.00    382980\n",
            "           1       0.50      1.00      0.67    384296\n",
            "\n",
            "    accuracy                           0.50    767276\n",
            "   macro avg       0.25      0.50      0.33    767276\n",
            "weighted avg       0.25      0.50      0.33    767276\n",
            "\n"
          ]
        },
        {
          "output_type": "stream",
          "name": "stderr",
          "text": [
            "/usr/local/lib/python3.10/dist-packages/sklearn/metrics/_classification.py:1344: UndefinedMetricWarning: Precision and F-score are ill-defined and being set to 0.0 in labels with no predicted samples. Use `zero_division` parameter to control this behavior.\n",
            "  _warn_prf(average, modifier, msg_start, len(result))\n"
          ]
        }
      ],
      "source": [
        "print(classification_report(y_test, ypred))"
      ]
    },
    {
      "cell_type": "markdown",
      "metadata": {
        "id": "5W8Sn1OfelUT"
      },
      "source": [
        "#### Save the model"
      ]
    },
    {
      "cell_type": "code",
      "execution_count": 60,
      "metadata": {
        "id": "97fHcdgzelUU",
        "outputId": "74e7e926-9b39-41c5-f9df-e8e57a70fc02",
        "colab": {
          "base_uri": "https://localhost:8080/"
        }
      },
      "outputs": [
        {
          "output_type": "execute_result",
          "data": {
            "text/plain": [
              "['ann_fraud_detection_preprocessor.jb']"
            ]
          },
          "metadata": {},
          "execution_count": 60
        }
      ],
      "source": [
        "from joblib import dump\n",
        "model.save('ANN_M2_L9.h5')\n",
        "dump(p, 'ANN_M2_L9_PP.jb')"
      ]
    },
    {
      "cell_type": "markdown",
      "metadata": {
        "id": "Ue0dcHYpelUZ"
      },
      "source": [
        "#### Load the model and preprocessor"
      ]
    },
    {
      "cell_type": "code",
      "execution_count": 61,
      "metadata": {
        "id": "t5Dfp7N2elUa"
      },
      "outputs": [],
      "source": [
        "from joblib import load\n",
        "def load_model():\n",
        "    model = tf.keras.models.load_model('ANN_M2_L9.h5')\n",
        "    return model\n",
        "\n",
        "def load_preprocessor():\n",
        "    p = load('ANN_M2_L9_PP.jb')\n",
        "    return p"
      ]
    },
    {
      "cell_type": "code",
      "execution_count": 62,
      "metadata": {
        "id": "zrK95P8pelUb",
        "outputId": "baeacd56-3f50-40b6-d06b-0f999910473a",
        "colab": {
          "base_uri": "https://localhost:8080/"
        }
      },
      "outputs": [
        {
          "output_type": "stream",
          "name": "stdout",
          "text": [
            "Model: \"sequential_2\"\n",
            "_________________________________________________________________\n",
            " Layer (type)                Output Shape              Param #   \n",
            "=================================================================\n",
            " dense_20 (Dense)            (None, 512)               5632      \n",
            "                                                                 \n",
            " dropout_18 (Dropout)        (None, 512)               0         \n",
            "                                                                 \n",
            " dense_21 (Dense)            (None, 256)               131328    \n",
            "                                                                 \n",
            " dropout_19 (Dropout)        (None, 256)               0         \n",
            "                                                                 \n",
            " dense_22 (Dense)            (None, 128)               32896     \n",
            "                                                                 \n",
            " dropout_20 (Dropout)        (None, 128)               0         \n",
            "                                                                 \n",
            " dense_23 (Dense)            (None, 64)                8256      \n",
            "                                                                 \n",
            " dropout_21 (Dropout)        (None, 64)                0         \n",
            "                                                                 \n",
            " dense_24 (Dense)            (None, 32)                2080      \n",
            "                                                                 \n",
            " dropout_22 (Dropout)        (None, 32)                0         \n",
            "                                                                 \n",
            " dense_25 (Dense)            (None, 16)                528       \n",
            "                                                                 \n",
            " dropout_23 (Dropout)        (None, 16)                0         \n",
            "                                                                 \n",
            " dense_26 (Dense)            (None, 8)                 136       \n",
            "                                                                 \n",
            " dropout_24 (Dropout)        (None, 8)                 0         \n",
            "                                                                 \n",
            " dense_27 (Dense)            (None, 4)                 36        \n",
            "                                                                 \n",
            " dropout_25 (Dropout)        (None, 4)                 0         \n",
            "                                                                 \n",
            " dense_28 (Dense)            (None, 2)                 10        \n",
            "                                                                 \n",
            " dropout_26 (Dropout)        (None, 2)                 0         \n",
            "                                                                 \n",
            " dense_29 (Dense)            (None, 1)                 3         \n",
            "                                                                 \n",
            "=================================================================\n",
            "Total params: 180,905\n",
            "Trainable params: 180,905\n",
            "Non-trainable params: 0\n",
            "_________________________________________________________________\n"
          ]
        }
      ],
      "source": [
        "existing_model = load_model()\n",
        "p = load_preprocessor()\n",
        "existing_model.summary()"
      ]
    },
    {
      "cell_type": "code",
      "execution_count": 63,
      "metadata": {
        "id": "xW1uTHl2elUd"
      },
      "outputs": [],
      "source": [
        "def predict_fraud(model, data):\n",
        "    data = p.transform(data)\n",
        "    prediction = model.predict(data)\n",
        "    return prediction"
      ]
    },
    {
      "cell_type": "code",
      "execution_count": 64,
      "metadata": {
        "id": "3hIAFyLHelUe",
        "outputId": "f3ccddc0-8ec2-4dd8-ee0a-631625de3855",
        "colab": {
          "base_uri": "https://localhost:8080/"
        }
      },
      "outputs": [
        {
          "output_type": "stream",
          "name": "stdout",
          "text": [
            "1/1 [==============================] - 0s 118ms/step\n",
            "True\n"
          ]
        }
      ],
      "source": [
        "data = pd.DataFrame({\n",
        "    'step': [1],\n",
        "    'type': ['CASH_OUT'],\n",
        "    'amount': [1000],\n",
        "    'name_orig': ['C123450428'],\n",
        "    'oldbalanceOrg': [1000],\n",
        "    'newbalanceOrig': [0],\n",
        "    'name_dest': ['M123451249'],\n",
        "    'oldbalanceDest': [0],\n",
        "    'newbalanceDest': [0],\n",
        "})\n",
        "\n",
        "out = predict_fraud(existing_model, data)\n",
        "print(out[0][0] > 0.5)"
      ]
    },
    {
      "cell_type": "code",
      "execution_count": 64,
      "metadata": {
        "id": "XFVtD3BxelUe"
      },
      "outputs": [],
      "source": []
    }
  ],
  "metadata": {
    "kernelspec": {
      "display_name": "base",
      "language": "python",
      "name": "python3"
    },
    "language_info": {
      "codemirror_mode": {
        "name": "ipython",
        "version": 3
      },
      "file_extension": ".py",
      "mimetype": "text/x-python",
      "name": "python",
      "nbconvert_exporter": "python",
      "pygments_lexer": "ipython3",
      "version": "3.10.9"
    },
    "orig_nbformat": 4,
    "colab": {
      "provenance": []
    }
  },
  "nbformat": 4,
  "nbformat_minor": 0
}