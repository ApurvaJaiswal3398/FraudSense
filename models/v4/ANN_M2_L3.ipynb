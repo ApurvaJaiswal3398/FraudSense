{
  "cells": [
    {
      "cell_type": "code",
      "execution_count": 18,
      "metadata": {
        "id": "cOMTBBlKelT3"
      },
      "outputs": [],
      "source": [
        "import tensorflow as tf\n",
        "import pandas as pd                                         # data processing, CSV file I/O (e.g. pd.read_csv)\n",
        "import numpy as np                                          # linear algebra\n",
        "from tensorflow.keras.models import Sequential              # model type\n",
        "from tensorflow.keras.layers import Dense, Dropout          # dense layer, dropout layer\n",
        "from tensorflow.keras.activations import relu, sigmoid      # activation functions\n",
        "from tensorflow.keras.optimizers import SGD                 # stochastic gradient descent\n",
        "from tensorflow.keras.losses import binary_crossentropy     # cost function"
      ]
    },
    {
      "cell_type": "code",
      "source": [
        "from google.colab import drive\n",
        "drive.mount('/content/drive')"
      ],
      "metadata": {
        "id": "1QDZMQ9xeoC6",
        "colab": {
          "base_uri": "https://localhost:8080/"
        },
        "outputId": "1799a3f6-f129-48c0-f226-801b205b4245"
      },
      "execution_count": 19,
      "outputs": [
        {
          "output_type": "stream",
          "name": "stdout",
          "text": [
            "Drive already mounted at /content/drive; to attempt to forcibly remount, call drive.mount(\"/content/drive\", force_remount=True).\n"
          ]
        }
      ]
    },
    {
      "cell_type": "code",
      "execution_count": 20,
      "metadata": {
        "id": "Am81_oKPelT8",
        "outputId": "5bb06ca3-0da7-4c72-8d9e-175b367ad282",
        "colab": {
          "base_uri": "https://localhost:8080/",
          "height": 460
        }
      },
      "outputs": [
        {
          "output_type": "stream",
          "name": "stderr",
          "text": [
            "<ipython-input-20-5b66cbb67606>:1: DtypeWarning: Columns (7) have mixed types. Specify dtype option on import or set low_memory=False.\n",
            "  df = pd.read_csv('/content/drive/MyDrive/Dataset/FRAUD_DETECTION.csv')\n"
          ]
        },
        {
          "output_type": "execute_result",
          "data": {
            "text/plain": [
              "         Unnamed: 0  step     type     amount     nameOrig  oldbalanceOrg  \\\n",
              "0               389     1  CASH_IN  143236.26  C1862994526           0.00   \n",
              "1               390     1  CASH_IN  228451.89  C1614133563      143236.26   \n",
              "2               393     1  CASH_IN   65912.95   C180316302      640544.28   \n",
              "3               397     1  CASH_IN  349640.51  C1493042329     1023111.71   \n",
              "4               398     1  CASH_IN  135324.19  C1751403001     1372752.22   \n",
              "...             ...   ...      ...        ...          ...            ...   \n",
              "1922277     6362242   718    DEBIT    2609.21  C1546763667        5070.00   \n",
              "1922278     6362247   718    DEBIT    2063.08   C397492133      328612.00   \n",
              "1922279     6362254   718    DEBIT     425.65  C1835928822        4046.00   \n",
              "1922280     6362303   718    DEBIT    2148.99  C1909103796       49632.00   \n",
              "1922281     6362323   718    DEBIT    1864.24    C49652609       20426.00   \n",
              "\n",
              "         newbalanceOrig     nameDest  oldbalanceDest  newbalanceDest  isFraud  \\\n",
              "0             143236.26            0            0.00            0.00        0   \n",
              "1             371688.15            0            0.00            0.00        0   \n",
              "2             706457.23            0            0.00            0.00        0   \n",
              "3            1372752.22            0            0.00            0.00        0   \n",
              "4            1508076.41            0            0.00            0.00        0   \n",
              "...                 ...          ...             ...             ...      ...   \n",
              "1922277         2460.79  C1242258329       144193.72       146802.93        0   \n",
              "1922278       326548.92  C1557979171      1312720.98      1314784.06        0   \n",
              "1922279         3620.35   C701975669      3009282.73      3009708.38        0   \n",
              "1922280        47483.01  C1931871221        66241.39        68390.38        0   \n",
              "1922281        18561.76  C1799009964       188746.00       190610.24        0   \n",
              "\n",
              "         isFlaggedFraud  \n",
              "0                     0  \n",
              "1                     0  \n",
              "2                     0  \n",
              "3                     0  \n",
              "4                     0  \n",
              "...                 ...  \n",
              "1922277               0  \n",
              "1922278               0  \n",
              "1922279               0  \n",
              "1922280               0  \n",
              "1922281               0  \n",
              "\n",
              "[1922282 rows x 12 columns]"
            ],
            "text/html": [
              "\n",
              "  <div id=\"df-3fdc47c9-d6ce-4171-9377-5fe39b003779\">\n",
              "    <div class=\"colab-df-container\">\n",
              "      <div>\n",
              "<style scoped>\n",
              "    .dataframe tbody tr th:only-of-type {\n",
              "        vertical-align: middle;\n",
              "    }\n",
              "\n",
              "    .dataframe tbody tr th {\n",
              "        vertical-align: top;\n",
              "    }\n",
              "\n",
              "    .dataframe thead th {\n",
              "        text-align: right;\n",
              "    }\n",
              "</style>\n",
              "<table border=\"1\" class=\"dataframe\">\n",
              "  <thead>\n",
              "    <tr style=\"text-align: right;\">\n",
              "      <th></th>\n",
              "      <th>Unnamed: 0</th>\n",
              "      <th>step</th>\n",
              "      <th>type</th>\n",
              "      <th>amount</th>\n",
              "      <th>nameOrig</th>\n",
              "      <th>oldbalanceOrg</th>\n",
              "      <th>newbalanceOrig</th>\n",
              "      <th>nameDest</th>\n",
              "      <th>oldbalanceDest</th>\n",
              "      <th>newbalanceDest</th>\n",
              "      <th>isFraud</th>\n",
              "      <th>isFlaggedFraud</th>\n",
              "    </tr>\n",
              "  </thead>\n",
              "  <tbody>\n",
              "    <tr>\n",
              "      <th>0</th>\n",
              "      <td>389</td>\n",
              "      <td>1</td>\n",
              "      <td>CASH_IN</td>\n",
              "      <td>143236.26</td>\n",
              "      <td>C1862994526</td>\n",
              "      <td>0.00</td>\n",
              "      <td>143236.26</td>\n",
              "      <td>0</td>\n",
              "      <td>0.00</td>\n",
              "      <td>0.00</td>\n",
              "      <td>0</td>\n",
              "      <td>0</td>\n",
              "    </tr>\n",
              "    <tr>\n",
              "      <th>1</th>\n",
              "      <td>390</td>\n",
              "      <td>1</td>\n",
              "      <td>CASH_IN</td>\n",
              "      <td>228451.89</td>\n",
              "      <td>C1614133563</td>\n",
              "      <td>143236.26</td>\n",
              "      <td>371688.15</td>\n",
              "      <td>0</td>\n",
              "      <td>0.00</td>\n",
              "      <td>0.00</td>\n",
              "      <td>0</td>\n",
              "      <td>0</td>\n",
              "    </tr>\n",
              "    <tr>\n",
              "      <th>2</th>\n",
              "      <td>393</td>\n",
              "      <td>1</td>\n",
              "      <td>CASH_IN</td>\n",
              "      <td>65912.95</td>\n",
              "      <td>C180316302</td>\n",
              "      <td>640544.28</td>\n",
              "      <td>706457.23</td>\n",
              "      <td>0</td>\n",
              "      <td>0.00</td>\n",
              "      <td>0.00</td>\n",
              "      <td>0</td>\n",
              "      <td>0</td>\n",
              "    </tr>\n",
              "    <tr>\n",
              "      <th>3</th>\n",
              "      <td>397</td>\n",
              "      <td>1</td>\n",
              "      <td>CASH_IN</td>\n",
              "      <td>349640.51</td>\n",
              "      <td>C1493042329</td>\n",
              "      <td>1023111.71</td>\n",
              "      <td>1372752.22</td>\n",
              "      <td>0</td>\n",
              "      <td>0.00</td>\n",
              "      <td>0.00</td>\n",
              "      <td>0</td>\n",
              "      <td>0</td>\n",
              "    </tr>\n",
              "    <tr>\n",
              "      <th>4</th>\n",
              "      <td>398</td>\n",
              "      <td>1</td>\n",
              "      <td>CASH_IN</td>\n",
              "      <td>135324.19</td>\n",
              "      <td>C1751403001</td>\n",
              "      <td>1372752.22</td>\n",
              "      <td>1508076.41</td>\n",
              "      <td>0</td>\n",
              "      <td>0.00</td>\n",
              "      <td>0.00</td>\n",
              "      <td>0</td>\n",
              "      <td>0</td>\n",
              "    </tr>\n",
              "    <tr>\n",
              "      <th>...</th>\n",
              "      <td>...</td>\n",
              "      <td>...</td>\n",
              "      <td>...</td>\n",
              "      <td>...</td>\n",
              "      <td>...</td>\n",
              "      <td>...</td>\n",
              "      <td>...</td>\n",
              "      <td>...</td>\n",
              "      <td>...</td>\n",
              "      <td>...</td>\n",
              "      <td>...</td>\n",
              "      <td>...</td>\n",
              "    </tr>\n",
              "    <tr>\n",
              "      <th>1922277</th>\n",
              "      <td>6362242</td>\n",
              "      <td>718</td>\n",
              "      <td>DEBIT</td>\n",
              "      <td>2609.21</td>\n",
              "      <td>C1546763667</td>\n",
              "      <td>5070.00</td>\n",
              "      <td>2460.79</td>\n",
              "      <td>C1242258329</td>\n",
              "      <td>144193.72</td>\n",
              "      <td>146802.93</td>\n",
              "      <td>0</td>\n",
              "      <td>0</td>\n",
              "    </tr>\n",
              "    <tr>\n",
              "      <th>1922278</th>\n",
              "      <td>6362247</td>\n",
              "      <td>718</td>\n",
              "      <td>DEBIT</td>\n",
              "      <td>2063.08</td>\n",
              "      <td>C397492133</td>\n",
              "      <td>328612.00</td>\n",
              "      <td>326548.92</td>\n",
              "      <td>C1557979171</td>\n",
              "      <td>1312720.98</td>\n",
              "      <td>1314784.06</td>\n",
              "      <td>0</td>\n",
              "      <td>0</td>\n",
              "    </tr>\n",
              "    <tr>\n",
              "      <th>1922279</th>\n",
              "      <td>6362254</td>\n",
              "      <td>718</td>\n",
              "      <td>DEBIT</td>\n",
              "      <td>425.65</td>\n",
              "      <td>C1835928822</td>\n",
              "      <td>4046.00</td>\n",
              "      <td>3620.35</td>\n",
              "      <td>C701975669</td>\n",
              "      <td>3009282.73</td>\n",
              "      <td>3009708.38</td>\n",
              "      <td>0</td>\n",
              "      <td>0</td>\n",
              "    </tr>\n",
              "    <tr>\n",
              "      <th>1922280</th>\n",
              "      <td>6362303</td>\n",
              "      <td>718</td>\n",
              "      <td>DEBIT</td>\n",
              "      <td>2148.99</td>\n",
              "      <td>C1909103796</td>\n",
              "      <td>49632.00</td>\n",
              "      <td>47483.01</td>\n",
              "      <td>C1931871221</td>\n",
              "      <td>66241.39</td>\n",
              "      <td>68390.38</td>\n",
              "      <td>0</td>\n",
              "      <td>0</td>\n",
              "    </tr>\n",
              "    <tr>\n",
              "      <th>1922281</th>\n",
              "      <td>6362323</td>\n",
              "      <td>718</td>\n",
              "      <td>DEBIT</td>\n",
              "      <td>1864.24</td>\n",
              "      <td>C49652609</td>\n",
              "      <td>20426.00</td>\n",
              "      <td>18561.76</td>\n",
              "      <td>C1799009964</td>\n",
              "      <td>188746.00</td>\n",
              "      <td>190610.24</td>\n",
              "      <td>0</td>\n",
              "      <td>0</td>\n",
              "    </tr>\n",
              "  </tbody>\n",
              "</table>\n",
              "<p>1922282 rows × 12 columns</p>\n",
              "</div>\n",
              "      <button class=\"colab-df-convert\" onclick=\"convertToInteractive('df-3fdc47c9-d6ce-4171-9377-5fe39b003779')\"\n",
              "              title=\"Convert this dataframe to an interactive table.\"\n",
              "              style=\"display:none;\">\n",
              "        \n",
              "  <svg xmlns=\"http://www.w3.org/2000/svg\" height=\"24px\"viewBox=\"0 0 24 24\"\n",
              "       width=\"24px\">\n",
              "    <path d=\"M0 0h24v24H0V0z\" fill=\"none\"/>\n",
              "    <path d=\"M18.56 5.44l.94 2.06.94-2.06 2.06-.94-2.06-.94-.94-2.06-.94 2.06-2.06.94zm-11 1L8.5 8.5l.94-2.06 2.06-.94-2.06-.94L8.5 2.5l-.94 2.06-2.06.94zm10 10l.94 2.06.94-2.06 2.06-.94-2.06-.94-.94-2.06-.94 2.06-2.06.94z\"/><path d=\"M17.41 7.96l-1.37-1.37c-.4-.4-.92-.59-1.43-.59-.52 0-1.04.2-1.43.59L10.3 9.45l-7.72 7.72c-.78.78-.78 2.05 0 2.83L4 21.41c.39.39.9.59 1.41.59.51 0 1.02-.2 1.41-.59l7.78-7.78 2.81-2.81c.8-.78.8-2.07 0-2.86zM5.41 20L4 18.59l7.72-7.72 1.47 1.35L5.41 20z\"/>\n",
              "  </svg>\n",
              "      </button>\n",
              "      \n",
              "  <style>\n",
              "    .colab-df-container {\n",
              "      display:flex;\n",
              "      flex-wrap:wrap;\n",
              "      gap: 12px;\n",
              "    }\n",
              "\n",
              "    .colab-df-convert {\n",
              "      background-color: #E8F0FE;\n",
              "      border: none;\n",
              "      border-radius: 50%;\n",
              "      cursor: pointer;\n",
              "      display: none;\n",
              "      fill: #1967D2;\n",
              "      height: 32px;\n",
              "      padding: 0 0 0 0;\n",
              "      width: 32px;\n",
              "    }\n",
              "\n",
              "    .colab-df-convert:hover {\n",
              "      background-color: #E2EBFA;\n",
              "      box-shadow: 0px 1px 2px rgba(60, 64, 67, 0.3), 0px 1px 3px 1px rgba(60, 64, 67, 0.15);\n",
              "      fill: #174EA6;\n",
              "    }\n",
              "\n",
              "    [theme=dark] .colab-df-convert {\n",
              "      background-color: #3B4455;\n",
              "      fill: #D2E3FC;\n",
              "    }\n",
              "\n",
              "    [theme=dark] .colab-df-convert:hover {\n",
              "      background-color: #434B5C;\n",
              "      box-shadow: 0px 1px 3px 1px rgba(0, 0, 0, 0.15);\n",
              "      filter: drop-shadow(0px 1px 2px rgba(0, 0, 0, 0.3));\n",
              "      fill: #FFFFFF;\n",
              "    }\n",
              "  </style>\n",
              "\n",
              "      <script>\n",
              "        const buttonEl =\n",
              "          document.querySelector('#df-3fdc47c9-d6ce-4171-9377-5fe39b003779 button.colab-df-convert');\n",
              "        buttonEl.style.display =\n",
              "          google.colab.kernel.accessAllowed ? 'block' : 'none';\n",
              "\n",
              "        async function convertToInteractive(key) {\n",
              "          const element = document.querySelector('#df-3fdc47c9-d6ce-4171-9377-5fe39b003779');\n",
              "          const dataTable =\n",
              "            await google.colab.kernel.invokeFunction('convertToInteractive',\n",
              "                                                     [key], {});\n",
              "          if (!dataTable) return;\n",
              "\n",
              "          const docLinkHtml = 'Like what you see? Visit the ' +\n",
              "            '<a target=\"_blank\" href=https://colab.research.google.com/notebooks/data_table.ipynb>data table notebook</a>'\n",
              "            + ' to learn more about interactive tables.';\n",
              "          element.innerHTML = '';\n",
              "          dataTable['output_type'] = 'display_data';\n",
              "          await google.colab.output.renderOutput(dataTable, element);\n",
              "          const docLink = document.createElement('div');\n",
              "          docLink.innerHTML = docLinkHtml;\n",
              "          element.appendChild(docLink);\n",
              "        }\n",
              "      </script>\n",
              "    </div>\n",
              "  </div>\n",
              "  "
            ]
          },
          "metadata": {},
          "execution_count": 20
        }
      ],
      "source": [
        "df = pd.read_csv('/content/drive/MyDrive/Dataset/FRAUD_DETECTION.csv')\n",
        "df"
      ]
    },
    {
      "cell_type": "code",
      "execution_count": 21,
      "metadata": {
        "id": "QkKydD0QelT_",
        "outputId": "a9ff3a97-20fb-431f-9eee-2c2d67bff903",
        "colab": {
          "base_uri": "https://localhost:8080/"
        }
      },
      "outputs": [
        {
          "output_type": "execute_result",
          "data": {
            "text/plain": [
              "Unnamed: 0             0\n",
              "step                   0\n",
              "type                   0\n",
              "amount                 0\n",
              "nameOrig               0\n",
              "oldbalanceOrg          0\n",
              "newbalanceOrig         0\n",
              "nameDest          158404\n",
              "oldbalanceDest         0\n",
              "newbalanceDest         0\n",
              "isFraud                0\n",
              "isFlaggedFraud         0\n",
              "dtype: int64"
            ]
          },
          "metadata": {},
          "execution_count": 21
        }
      ],
      "source": [
        "df.isnull().sum()"
      ]
    },
    {
      "cell_type": "code",
      "execution_count": 22,
      "metadata": {
        "id": "p8E-BZOjelUC",
        "outputId": "87a721d9-45e9-4089-baff-69aed226305c",
        "colab": {
          "base_uri": "https://localhost:8080/"
        }
      },
      "outputs": [
        {
          "output_type": "stream",
          "name": "stdout",
          "text": [
            "<class 'pandas.core.frame.DataFrame'>\n",
            "RangeIndex: 1922282 entries, 0 to 1922281\n",
            "Data columns (total 12 columns):\n",
            " #   Column          Dtype  \n",
            "---  ------          -----  \n",
            " 0   Unnamed: 0      int64  \n",
            " 1   step            int64  \n",
            " 2   type            object \n",
            " 3   amount          float64\n",
            " 4   nameOrig        object \n",
            " 5   oldbalanceOrg   float64\n",
            " 6   newbalanceOrig  float64\n",
            " 7   nameDest        object \n",
            " 8   oldbalanceDest  float64\n",
            " 9   newbalanceDest  float64\n",
            " 10  isFraud         int64  \n",
            " 11  isFlaggedFraud  int64  \n",
            "dtypes: float64(5), int64(4), object(3)\n",
            "memory usage: 176.0+ MB\n"
          ]
        }
      ],
      "source": [
        "df.info()"
      ]
    },
    {
      "cell_type": "code",
      "source": [
        "df=df.drop(['Unnamed: 0'],axis=1)"
      ],
      "metadata": {
        "id": "vO2BKIMiLekY"
      },
      "execution_count": 23,
      "outputs": []
    },
    {
      "cell_type": "code",
      "source": [
        "df"
      ],
      "metadata": {
        "colab": {
          "base_uri": "https://localhost:8080/",
          "height": 424
        },
        "id": "4nVJQHGenIq6",
        "outputId": "9d23598c-b589-4e12-d6e2-ac9e311bc40b"
      },
      "execution_count": 24,
      "outputs": [
        {
          "output_type": "execute_result",
          "data": {
            "text/plain": [
              "         step     type     amount     nameOrig  oldbalanceOrg  newbalanceOrig  \\\n",
              "0           1  CASH_IN  143236.26  C1862994526           0.00       143236.26   \n",
              "1           1  CASH_IN  228451.89  C1614133563      143236.26       371688.15   \n",
              "2           1  CASH_IN   65912.95   C180316302      640544.28       706457.23   \n",
              "3           1  CASH_IN  349640.51  C1493042329     1023111.71      1372752.22   \n",
              "4           1  CASH_IN  135324.19  C1751403001     1372752.22      1508076.41   \n",
              "...       ...      ...        ...          ...            ...             ...   \n",
              "1922277   718    DEBIT    2609.21  C1546763667        5070.00         2460.79   \n",
              "1922278   718    DEBIT    2063.08   C397492133      328612.00       326548.92   \n",
              "1922279   718    DEBIT     425.65  C1835928822        4046.00         3620.35   \n",
              "1922280   718    DEBIT    2148.99  C1909103796       49632.00        47483.01   \n",
              "1922281   718    DEBIT    1864.24    C49652609       20426.00        18561.76   \n",
              "\n",
              "            nameDest  oldbalanceDest  newbalanceDest  isFraud  isFlaggedFraud  \n",
              "0                  0            0.00            0.00        0               0  \n",
              "1                  0            0.00            0.00        0               0  \n",
              "2                  0            0.00            0.00        0               0  \n",
              "3                  0            0.00            0.00        0               0  \n",
              "4                  0            0.00            0.00        0               0  \n",
              "...              ...             ...             ...      ...             ...  \n",
              "1922277  C1242258329       144193.72       146802.93        0               0  \n",
              "1922278  C1557979171      1312720.98      1314784.06        0               0  \n",
              "1922279   C701975669      3009282.73      3009708.38        0               0  \n",
              "1922280  C1931871221        66241.39        68390.38        0               0  \n",
              "1922281  C1799009964       188746.00       190610.24        0               0  \n",
              "\n",
              "[1922282 rows x 11 columns]"
            ],
            "text/html": [
              "\n",
              "  <div id=\"df-35b15a6b-32dc-46d6-8925-509a3970a525\">\n",
              "    <div class=\"colab-df-container\">\n",
              "      <div>\n",
              "<style scoped>\n",
              "    .dataframe tbody tr th:only-of-type {\n",
              "        vertical-align: middle;\n",
              "    }\n",
              "\n",
              "    .dataframe tbody tr th {\n",
              "        vertical-align: top;\n",
              "    }\n",
              "\n",
              "    .dataframe thead th {\n",
              "        text-align: right;\n",
              "    }\n",
              "</style>\n",
              "<table border=\"1\" class=\"dataframe\">\n",
              "  <thead>\n",
              "    <tr style=\"text-align: right;\">\n",
              "      <th></th>\n",
              "      <th>step</th>\n",
              "      <th>type</th>\n",
              "      <th>amount</th>\n",
              "      <th>nameOrig</th>\n",
              "      <th>oldbalanceOrg</th>\n",
              "      <th>newbalanceOrig</th>\n",
              "      <th>nameDest</th>\n",
              "      <th>oldbalanceDest</th>\n",
              "      <th>newbalanceDest</th>\n",
              "      <th>isFraud</th>\n",
              "      <th>isFlaggedFraud</th>\n",
              "    </tr>\n",
              "  </thead>\n",
              "  <tbody>\n",
              "    <tr>\n",
              "      <th>0</th>\n",
              "      <td>1</td>\n",
              "      <td>CASH_IN</td>\n",
              "      <td>143236.26</td>\n",
              "      <td>C1862994526</td>\n",
              "      <td>0.00</td>\n",
              "      <td>143236.26</td>\n",
              "      <td>0</td>\n",
              "      <td>0.00</td>\n",
              "      <td>0.00</td>\n",
              "      <td>0</td>\n",
              "      <td>0</td>\n",
              "    </tr>\n",
              "    <tr>\n",
              "      <th>1</th>\n",
              "      <td>1</td>\n",
              "      <td>CASH_IN</td>\n",
              "      <td>228451.89</td>\n",
              "      <td>C1614133563</td>\n",
              "      <td>143236.26</td>\n",
              "      <td>371688.15</td>\n",
              "      <td>0</td>\n",
              "      <td>0.00</td>\n",
              "      <td>0.00</td>\n",
              "      <td>0</td>\n",
              "      <td>0</td>\n",
              "    </tr>\n",
              "    <tr>\n",
              "      <th>2</th>\n",
              "      <td>1</td>\n",
              "      <td>CASH_IN</td>\n",
              "      <td>65912.95</td>\n",
              "      <td>C180316302</td>\n",
              "      <td>640544.28</td>\n",
              "      <td>706457.23</td>\n",
              "      <td>0</td>\n",
              "      <td>0.00</td>\n",
              "      <td>0.00</td>\n",
              "      <td>0</td>\n",
              "      <td>0</td>\n",
              "    </tr>\n",
              "    <tr>\n",
              "      <th>3</th>\n",
              "      <td>1</td>\n",
              "      <td>CASH_IN</td>\n",
              "      <td>349640.51</td>\n",
              "      <td>C1493042329</td>\n",
              "      <td>1023111.71</td>\n",
              "      <td>1372752.22</td>\n",
              "      <td>0</td>\n",
              "      <td>0.00</td>\n",
              "      <td>0.00</td>\n",
              "      <td>0</td>\n",
              "      <td>0</td>\n",
              "    </tr>\n",
              "    <tr>\n",
              "      <th>4</th>\n",
              "      <td>1</td>\n",
              "      <td>CASH_IN</td>\n",
              "      <td>135324.19</td>\n",
              "      <td>C1751403001</td>\n",
              "      <td>1372752.22</td>\n",
              "      <td>1508076.41</td>\n",
              "      <td>0</td>\n",
              "      <td>0.00</td>\n",
              "      <td>0.00</td>\n",
              "      <td>0</td>\n",
              "      <td>0</td>\n",
              "    </tr>\n",
              "    <tr>\n",
              "      <th>...</th>\n",
              "      <td>...</td>\n",
              "      <td>...</td>\n",
              "      <td>...</td>\n",
              "      <td>...</td>\n",
              "      <td>...</td>\n",
              "      <td>...</td>\n",
              "      <td>...</td>\n",
              "      <td>...</td>\n",
              "      <td>...</td>\n",
              "      <td>...</td>\n",
              "      <td>...</td>\n",
              "    </tr>\n",
              "    <tr>\n",
              "      <th>1922277</th>\n",
              "      <td>718</td>\n",
              "      <td>DEBIT</td>\n",
              "      <td>2609.21</td>\n",
              "      <td>C1546763667</td>\n",
              "      <td>5070.00</td>\n",
              "      <td>2460.79</td>\n",
              "      <td>C1242258329</td>\n",
              "      <td>144193.72</td>\n",
              "      <td>146802.93</td>\n",
              "      <td>0</td>\n",
              "      <td>0</td>\n",
              "    </tr>\n",
              "    <tr>\n",
              "      <th>1922278</th>\n",
              "      <td>718</td>\n",
              "      <td>DEBIT</td>\n",
              "      <td>2063.08</td>\n",
              "      <td>C397492133</td>\n",
              "      <td>328612.00</td>\n",
              "      <td>326548.92</td>\n",
              "      <td>C1557979171</td>\n",
              "      <td>1312720.98</td>\n",
              "      <td>1314784.06</td>\n",
              "      <td>0</td>\n",
              "      <td>0</td>\n",
              "    </tr>\n",
              "    <tr>\n",
              "      <th>1922279</th>\n",
              "      <td>718</td>\n",
              "      <td>DEBIT</td>\n",
              "      <td>425.65</td>\n",
              "      <td>C1835928822</td>\n",
              "      <td>4046.00</td>\n",
              "      <td>3620.35</td>\n",
              "      <td>C701975669</td>\n",
              "      <td>3009282.73</td>\n",
              "      <td>3009708.38</td>\n",
              "      <td>0</td>\n",
              "      <td>0</td>\n",
              "    </tr>\n",
              "    <tr>\n",
              "      <th>1922280</th>\n",
              "      <td>718</td>\n",
              "      <td>DEBIT</td>\n",
              "      <td>2148.99</td>\n",
              "      <td>C1909103796</td>\n",
              "      <td>49632.00</td>\n",
              "      <td>47483.01</td>\n",
              "      <td>C1931871221</td>\n",
              "      <td>66241.39</td>\n",
              "      <td>68390.38</td>\n",
              "      <td>0</td>\n",
              "      <td>0</td>\n",
              "    </tr>\n",
              "    <tr>\n",
              "      <th>1922281</th>\n",
              "      <td>718</td>\n",
              "      <td>DEBIT</td>\n",
              "      <td>1864.24</td>\n",
              "      <td>C49652609</td>\n",
              "      <td>20426.00</td>\n",
              "      <td>18561.76</td>\n",
              "      <td>C1799009964</td>\n",
              "      <td>188746.00</td>\n",
              "      <td>190610.24</td>\n",
              "      <td>0</td>\n",
              "      <td>0</td>\n",
              "    </tr>\n",
              "  </tbody>\n",
              "</table>\n",
              "<p>1922282 rows × 11 columns</p>\n",
              "</div>\n",
              "      <button class=\"colab-df-convert\" onclick=\"convertToInteractive('df-35b15a6b-32dc-46d6-8925-509a3970a525')\"\n",
              "              title=\"Convert this dataframe to an interactive table.\"\n",
              "              style=\"display:none;\">\n",
              "        \n",
              "  <svg xmlns=\"http://www.w3.org/2000/svg\" height=\"24px\"viewBox=\"0 0 24 24\"\n",
              "       width=\"24px\">\n",
              "    <path d=\"M0 0h24v24H0V0z\" fill=\"none\"/>\n",
              "    <path d=\"M18.56 5.44l.94 2.06.94-2.06 2.06-.94-2.06-.94-.94-2.06-.94 2.06-2.06.94zm-11 1L8.5 8.5l.94-2.06 2.06-.94-2.06-.94L8.5 2.5l-.94 2.06-2.06.94zm10 10l.94 2.06.94-2.06 2.06-.94-2.06-.94-.94-2.06-.94 2.06-2.06.94z\"/><path d=\"M17.41 7.96l-1.37-1.37c-.4-.4-.92-.59-1.43-.59-.52 0-1.04.2-1.43.59L10.3 9.45l-7.72 7.72c-.78.78-.78 2.05 0 2.83L4 21.41c.39.39.9.59 1.41.59.51 0 1.02-.2 1.41-.59l7.78-7.78 2.81-2.81c.8-.78.8-2.07 0-2.86zM5.41 20L4 18.59l7.72-7.72 1.47 1.35L5.41 20z\"/>\n",
              "  </svg>\n",
              "      </button>\n",
              "      \n",
              "  <style>\n",
              "    .colab-df-container {\n",
              "      display:flex;\n",
              "      flex-wrap:wrap;\n",
              "      gap: 12px;\n",
              "    }\n",
              "\n",
              "    .colab-df-convert {\n",
              "      background-color: #E8F0FE;\n",
              "      border: none;\n",
              "      border-radius: 50%;\n",
              "      cursor: pointer;\n",
              "      display: none;\n",
              "      fill: #1967D2;\n",
              "      height: 32px;\n",
              "      padding: 0 0 0 0;\n",
              "      width: 32px;\n",
              "    }\n",
              "\n",
              "    .colab-df-convert:hover {\n",
              "      background-color: #E2EBFA;\n",
              "      box-shadow: 0px 1px 2px rgba(60, 64, 67, 0.3), 0px 1px 3px 1px rgba(60, 64, 67, 0.15);\n",
              "      fill: #174EA6;\n",
              "    }\n",
              "\n",
              "    [theme=dark] .colab-df-convert {\n",
              "      background-color: #3B4455;\n",
              "      fill: #D2E3FC;\n",
              "    }\n",
              "\n",
              "    [theme=dark] .colab-df-convert:hover {\n",
              "      background-color: #434B5C;\n",
              "      box-shadow: 0px 1px 3px 1px rgba(0, 0, 0, 0.15);\n",
              "      filter: drop-shadow(0px 1px 2px rgba(0, 0, 0, 0.3));\n",
              "      fill: #FFFFFF;\n",
              "    }\n",
              "  </style>\n",
              "\n",
              "      <script>\n",
              "        const buttonEl =\n",
              "          document.querySelector('#df-35b15a6b-32dc-46d6-8925-509a3970a525 button.colab-df-convert');\n",
              "        buttonEl.style.display =\n",
              "          google.colab.kernel.accessAllowed ? 'block' : 'none';\n",
              "\n",
              "        async function convertToInteractive(key) {\n",
              "          const element = document.querySelector('#df-35b15a6b-32dc-46d6-8925-509a3970a525');\n",
              "          const dataTable =\n",
              "            await google.colab.kernel.invokeFunction('convertToInteractive',\n",
              "                                                     [key], {});\n",
              "          if (!dataTable) return;\n",
              "\n",
              "          const docLinkHtml = 'Like what you see? Visit the ' +\n",
              "            '<a target=\"_blank\" href=https://colab.research.google.com/notebooks/data_table.ipynb>data table notebook</a>'\n",
              "            + ' to learn more about interactive tables.';\n",
              "          element.innerHTML = '';\n",
              "          dataTable['output_type'] = 'display_data';\n",
              "          await google.colab.output.renderOutput(dataTable, element);\n",
              "          const docLink = document.createElement('div');\n",
              "          docLink.innerHTML = docLinkHtml;\n",
              "          element.appendChild(docLink);\n",
              "        }\n",
              "      </script>\n",
              "    </div>\n",
              "  </div>\n",
              "  "
            ]
          },
          "metadata": {},
          "execution_count": 24
        }
      ]
    },
    {
      "cell_type": "code",
      "execution_count": 25,
      "metadata": {
        "id": "7uwqcwLHelUC",
        "outputId": "d086df27-1296-4265-ec88-580e9b4f1574",
        "colab": {
          "base_uri": "https://localhost:8080/"
        }
      },
      "outputs": [
        {
          "output_type": "execute_result",
          "data": {
            "text/plain": [
              "Index(['type', 'nameOrig', 'nameDest'], dtype='object')"
            ]
          },
          "metadata": {},
          "execution_count": 25
        }
      ],
      "source": [
        "cat_columns = df.select_dtypes(include='object').columns\n",
        "cat_columns"
      ]
    },
    {
      "cell_type": "code",
      "execution_count": 26,
      "metadata": {
        "id": "VG_vEYJmelUD",
        "outputId": "7385abe3-37bf-4c40-f302-e46d213e22c5",
        "colab": {
          "base_uri": "https://localhost:8080/",
          "height": 424
        }
      },
      "outputs": [
        {
          "output_type": "execute_result",
          "data": {
            "text/plain": [
              "         step     amount  oldbalanceOrg  newbalanceOrig  oldbalanceDest  \\\n",
              "0           1  143236.26           0.00       143236.26            0.00   \n",
              "1           1  228451.89      143236.26       371688.15            0.00   \n",
              "2           1   65912.95      640544.28       706457.23            0.00   \n",
              "3           1  349640.51     1023111.71      1372752.22            0.00   \n",
              "4           1  135324.19     1372752.22      1508076.41            0.00   \n",
              "...       ...        ...            ...             ...             ...   \n",
              "1922277   718    2609.21        5070.00         2460.79       144193.72   \n",
              "1922278   718    2063.08      328612.00       326548.92      1312720.98   \n",
              "1922279   718     425.65        4046.00         3620.35      3009282.73   \n",
              "1922280   718    2148.99       49632.00        47483.01        66241.39   \n",
              "1922281   718    1864.24       20426.00        18561.76       188746.00   \n",
              "\n",
              "         newbalanceDest  isFraud  isFlaggedFraud  \n",
              "0                  0.00        0               0  \n",
              "1                  0.00        0               0  \n",
              "2                  0.00        0               0  \n",
              "3                  0.00        0               0  \n",
              "4                  0.00        0               0  \n",
              "...                 ...      ...             ...  \n",
              "1922277       146802.93        0               0  \n",
              "1922278      1314784.06        0               0  \n",
              "1922279      3009708.38        0               0  \n",
              "1922280        68390.38        0               0  \n",
              "1922281       190610.24        0               0  \n",
              "\n",
              "[1922282 rows x 8 columns]"
            ],
            "text/html": [
              "\n",
              "  <div id=\"df-dc541c06-22e5-4183-b773-28018b7b961b\">\n",
              "    <div class=\"colab-df-container\">\n",
              "      <div>\n",
              "<style scoped>\n",
              "    .dataframe tbody tr th:only-of-type {\n",
              "        vertical-align: middle;\n",
              "    }\n",
              "\n",
              "    .dataframe tbody tr th {\n",
              "        vertical-align: top;\n",
              "    }\n",
              "\n",
              "    .dataframe thead th {\n",
              "        text-align: right;\n",
              "    }\n",
              "</style>\n",
              "<table border=\"1\" class=\"dataframe\">\n",
              "  <thead>\n",
              "    <tr style=\"text-align: right;\">\n",
              "      <th></th>\n",
              "      <th>step</th>\n",
              "      <th>amount</th>\n",
              "      <th>oldbalanceOrg</th>\n",
              "      <th>newbalanceOrig</th>\n",
              "      <th>oldbalanceDest</th>\n",
              "      <th>newbalanceDest</th>\n",
              "      <th>isFraud</th>\n",
              "      <th>isFlaggedFraud</th>\n",
              "    </tr>\n",
              "  </thead>\n",
              "  <tbody>\n",
              "    <tr>\n",
              "      <th>0</th>\n",
              "      <td>1</td>\n",
              "      <td>143236.26</td>\n",
              "      <td>0.00</td>\n",
              "      <td>143236.26</td>\n",
              "      <td>0.00</td>\n",
              "      <td>0.00</td>\n",
              "      <td>0</td>\n",
              "      <td>0</td>\n",
              "    </tr>\n",
              "    <tr>\n",
              "      <th>1</th>\n",
              "      <td>1</td>\n",
              "      <td>228451.89</td>\n",
              "      <td>143236.26</td>\n",
              "      <td>371688.15</td>\n",
              "      <td>0.00</td>\n",
              "      <td>0.00</td>\n",
              "      <td>0</td>\n",
              "      <td>0</td>\n",
              "    </tr>\n",
              "    <tr>\n",
              "      <th>2</th>\n",
              "      <td>1</td>\n",
              "      <td>65912.95</td>\n",
              "      <td>640544.28</td>\n",
              "      <td>706457.23</td>\n",
              "      <td>0.00</td>\n",
              "      <td>0.00</td>\n",
              "      <td>0</td>\n",
              "      <td>0</td>\n",
              "    </tr>\n",
              "    <tr>\n",
              "      <th>3</th>\n",
              "      <td>1</td>\n",
              "      <td>349640.51</td>\n",
              "      <td>1023111.71</td>\n",
              "      <td>1372752.22</td>\n",
              "      <td>0.00</td>\n",
              "      <td>0.00</td>\n",
              "      <td>0</td>\n",
              "      <td>0</td>\n",
              "    </tr>\n",
              "    <tr>\n",
              "      <th>4</th>\n",
              "      <td>1</td>\n",
              "      <td>135324.19</td>\n",
              "      <td>1372752.22</td>\n",
              "      <td>1508076.41</td>\n",
              "      <td>0.00</td>\n",
              "      <td>0.00</td>\n",
              "      <td>0</td>\n",
              "      <td>0</td>\n",
              "    </tr>\n",
              "    <tr>\n",
              "      <th>...</th>\n",
              "      <td>...</td>\n",
              "      <td>...</td>\n",
              "      <td>...</td>\n",
              "      <td>...</td>\n",
              "      <td>...</td>\n",
              "      <td>...</td>\n",
              "      <td>...</td>\n",
              "      <td>...</td>\n",
              "    </tr>\n",
              "    <tr>\n",
              "      <th>1922277</th>\n",
              "      <td>718</td>\n",
              "      <td>2609.21</td>\n",
              "      <td>5070.00</td>\n",
              "      <td>2460.79</td>\n",
              "      <td>144193.72</td>\n",
              "      <td>146802.93</td>\n",
              "      <td>0</td>\n",
              "      <td>0</td>\n",
              "    </tr>\n",
              "    <tr>\n",
              "      <th>1922278</th>\n",
              "      <td>718</td>\n",
              "      <td>2063.08</td>\n",
              "      <td>328612.00</td>\n",
              "      <td>326548.92</td>\n",
              "      <td>1312720.98</td>\n",
              "      <td>1314784.06</td>\n",
              "      <td>0</td>\n",
              "      <td>0</td>\n",
              "    </tr>\n",
              "    <tr>\n",
              "      <th>1922279</th>\n",
              "      <td>718</td>\n",
              "      <td>425.65</td>\n",
              "      <td>4046.00</td>\n",
              "      <td>3620.35</td>\n",
              "      <td>3009282.73</td>\n",
              "      <td>3009708.38</td>\n",
              "      <td>0</td>\n",
              "      <td>0</td>\n",
              "    </tr>\n",
              "    <tr>\n",
              "      <th>1922280</th>\n",
              "      <td>718</td>\n",
              "      <td>2148.99</td>\n",
              "      <td>49632.00</td>\n",
              "      <td>47483.01</td>\n",
              "      <td>66241.39</td>\n",
              "      <td>68390.38</td>\n",
              "      <td>0</td>\n",
              "      <td>0</td>\n",
              "    </tr>\n",
              "    <tr>\n",
              "      <th>1922281</th>\n",
              "      <td>718</td>\n",
              "      <td>1864.24</td>\n",
              "      <td>20426.00</td>\n",
              "      <td>18561.76</td>\n",
              "      <td>188746.00</td>\n",
              "      <td>190610.24</td>\n",
              "      <td>0</td>\n",
              "      <td>0</td>\n",
              "    </tr>\n",
              "  </tbody>\n",
              "</table>\n",
              "<p>1922282 rows × 8 columns</p>\n",
              "</div>\n",
              "      <button class=\"colab-df-convert\" onclick=\"convertToInteractive('df-dc541c06-22e5-4183-b773-28018b7b961b')\"\n",
              "              title=\"Convert this dataframe to an interactive table.\"\n",
              "              style=\"display:none;\">\n",
              "        \n",
              "  <svg xmlns=\"http://www.w3.org/2000/svg\" height=\"24px\"viewBox=\"0 0 24 24\"\n",
              "       width=\"24px\">\n",
              "    <path d=\"M0 0h24v24H0V0z\" fill=\"none\"/>\n",
              "    <path d=\"M18.56 5.44l.94 2.06.94-2.06 2.06-.94-2.06-.94-.94-2.06-.94 2.06-2.06.94zm-11 1L8.5 8.5l.94-2.06 2.06-.94-2.06-.94L8.5 2.5l-.94 2.06-2.06.94zm10 10l.94 2.06.94-2.06 2.06-.94-2.06-.94-.94-2.06-.94 2.06-2.06.94z\"/><path d=\"M17.41 7.96l-1.37-1.37c-.4-.4-.92-.59-1.43-.59-.52 0-1.04.2-1.43.59L10.3 9.45l-7.72 7.72c-.78.78-.78 2.05 0 2.83L4 21.41c.39.39.9.59 1.41.59.51 0 1.02-.2 1.41-.59l7.78-7.78 2.81-2.81c.8-.78.8-2.07 0-2.86zM5.41 20L4 18.59l7.72-7.72 1.47 1.35L5.41 20z\"/>\n",
              "  </svg>\n",
              "      </button>\n",
              "      \n",
              "  <style>\n",
              "    .colab-df-container {\n",
              "      display:flex;\n",
              "      flex-wrap:wrap;\n",
              "      gap: 12px;\n",
              "    }\n",
              "\n",
              "    .colab-df-convert {\n",
              "      background-color: #E8F0FE;\n",
              "      border: none;\n",
              "      border-radius: 50%;\n",
              "      cursor: pointer;\n",
              "      display: none;\n",
              "      fill: #1967D2;\n",
              "      height: 32px;\n",
              "      padding: 0 0 0 0;\n",
              "      width: 32px;\n",
              "    }\n",
              "\n",
              "    .colab-df-convert:hover {\n",
              "      background-color: #E2EBFA;\n",
              "      box-shadow: 0px 1px 2px rgba(60, 64, 67, 0.3), 0px 1px 3px 1px rgba(60, 64, 67, 0.15);\n",
              "      fill: #174EA6;\n",
              "    }\n",
              "\n",
              "    [theme=dark] .colab-df-convert {\n",
              "      background-color: #3B4455;\n",
              "      fill: #D2E3FC;\n",
              "    }\n",
              "\n",
              "    [theme=dark] .colab-df-convert:hover {\n",
              "      background-color: #434B5C;\n",
              "      box-shadow: 0px 1px 3px 1px rgba(0, 0, 0, 0.15);\n",
              "      filter: drop-shadow(0px 1px 2px rgba(0, 0, 0, 0.3));\n",
              "      fill: #FFFFFF;\n",
              "    }\n",
              "  </style>\n",
              "\n",
              "      <script>\n",
              "        const buttonEl =\n",
              "          document.querySelector('#df-dc541c06-22e5-4183-b773-28018b7b961b button.colab-df-convert');\n",
              "        buttonEl.style.display =\n",
              "          google.colab.kernel.accessAllowed ? 'block' : 'none';\n",
              "\n",
              "        async function convertToInteractive(key) {\n",
              "          const element = document.querySelector('#df-dc541c06-22e5-4183-b773-28018b7b961b');\n",
              "          const dataTable =\n",
              "            await google.colab.kernel.invokeFunction('convertToInteractive',\n",
              "                                                     [key], {});\n",
              "          if (!dataTable) return;\n",
              "\n",
              "          const docLinkHtml = 'Like what you see? Visit the ' +\n",
              "            '<a target=\"_blank\" href=https://colab.research.google.com/notebooks/data_table.ipynb>data table notebook</a>'\n",
              "            + ' to learn more about interactive tables.';\n",
              "          element.innerHTML = '';\n",
              "          dataTable['output_type'] = 'display_data';\n",
              "          await google.colab.output.renderOutput(dataTable, element);\n",
              "          const docLink = document.createElement('div');\n",
              "          docLink.innerHTML = docLinkHtml;\n",
              "          element.appendChild(docLink);\n",
              "        }\n",
              "      </script>\n",
              "    </div>\n",
              "  </div>\n",
              "  "
            ]
          },
          "metadata": {},
          "execution_count": 26
        }
      ],
      "source": [
        "num_columns = df.select_dtypes(include=np.number).columns\n",
        "df[num_columns]"
      ]
    },
    {
      "cell_type": "code",
      "execution_count": 27,
      "metadata": {
        "id": "hjE2aWYfelUE"
      },
      "outputs": [],
      "source": [
        "from sklearn.preprocessing import OneHotEncoder\n",
        "from sklearn.compose import ColumnTransformer\n",
        "from sklearn.preprocessing import StandardScaler\n",
        "from sklearn.model_selection import train_test_split\n",
        "from sklearn.metrics import confusion_matrix, classification_report\n",
        "from sklearn.pipeline import Pipeline\n",
        "from imblearn.over_sampling import SMOTE"
      ]
    },
    {
      "cell_type": "code",
      "execution_count": 28,
      "metadata": {
        "id": "wTiMNTEoelUF"
      },
      "outputs": [],
      "source": [
        "X = df.drop(columns=['isFraud', 'isFlaggedFraud'])\n",
        "y = df['isFraud']\n",
        "smote = SMOTE()"
      ]
    },
    {
      "cell_type": "code",
      "execution_count": 29,
      "metadata": {
        "id": "n17xPM5aelUG"
      },
      "outputs": [],
      "source": [
        "preprocessor = ColumnTransformer(\n",
        "    transformers=[\n",
        "        ('cat', OneHotEncoder(drop='first'), ['type']),\n",
        "        ('num', StandardScaler(), num_columns[:-2])\n",
        "    ])\n",
        "\n",
        "p = Pipeline(steps=[('preprocessor', preprocessor)])"
      ]
    },
    {
      "cell_type": "code",
      "execution_count": 30,
      "metadata": {
        "id": "4Pe7lQgNelUH",
        "outputId": "86574f5b-c487-4416-fdac-796a2c4221b0",
        "colab": {
          "base_uri": "https://localhost:8080/"
        }
      },
      "outputs": [
        {
          "output_type": "execute_result",
          "data": {
            "text/plain": [
              "(1922282, 10)"
            ]
          },
          "metadata": {},
          "execution_count": 30
        }
      ],
      "source": [
        "Xp = p.fit_transform(X)\n",
        "Xp.shape"
      ]
    },
    {
      "cell_type": "code",
      "execution_count": 31,
      "metadata": {
        "id": "9xV3np4welUI",
        "outputId": "7f3ee24f-4f91-4151-ca8b-8cc87e60b946",
        "colab": {
          "base_uri": "https://localhost:8080/"
        }
      },
      "outputs": [
        {
          "output_type": "execute_result",
          "data": {
            "text/plain": [
              "((3836380, 10), (3836380,))"
            ]
          },
          "metadata": {},
          "execution_count": 31
        }
      ],
      "source": [
        "Xp, y = smote.fit_resample(Xp, y)\n",
        "Xp.shape, y.shape"
      ]
    },
    {
      "cell_type": "markdown",
      "metadata": {
        "id": "TK1UbiDXelUI"
      },
      "source": [
        "#### Create a Neural Network"
      ]
    },
    {
      "cell_type": "code",
      "execution_count": 32,
      "metadata": {
        "id": "PcXsz_JgelUM"
      },
      "outputs": [],
      "source": [
        "model= Sequential()\n",
        "model.add(Dense(units=8, activation=relu, input_shape=(Xp.shape[1],)))\n",
        "model.add(Dropout(0.2))\n",
        "model.add(Dense(units=4, activation=relu))\n",
        "model.add(Dropout(0.2))\n",
        "model.add(Dense(units=2, activation=relu))\n",
        "model.add(Dropout(0.2))\n",
        "model.add(Dense(units=1, activation=sigmoid))"
      ]
    },
    {
      "cell_type": "code",
      "execution_count": 33,
      "metadata": {
        "id": "YIuPZndOelUO",
        "outputId": "9d8ed44e-c13a-468f-c17e-b05131e29099",
        "colab": {
          "base_uri": "https://localhost:8080/"
        }
      },
      "outputs": [
        {
          "output_type": "stream",
          "name": "stdout",
          "text": [
            "Model: \"sequential_1\"\n",
            "_________________________________________________________________\n",
            " Layer (type)                Output Shape              Param #   \n",
            "=================================================================\n",
            " dense_4 (Dense)             (None, 8)                 88        \n",
            "                                                                 \n",
            " dropout_3 (Dropout)         (None, 8)                 0         \n",
            "                                                                 \n",
            " dense_5 (Dense)             (None, 4)                 36        \n",
            "                                                                 \n",
            " dropout_4 (Dropout)         (None, 4)                 0         \n",
            "                                                                 \n",
            " dense_6 (Dense)             (None, 2)                 10        \n",
            "                                                                 \n",
            " dropout_5 (Dropout)         (None, 2)                 0         \n",
            "                                                                 \n",
            " dense_7 (Dense)             (None, 1)                 3         \n",
            "                                                                 \n",
            "=================================================================\n",
            "Total params: 137\n",
            "Trainable params: 137\n",
            "Non-trainable params: 0\n",
            "_________________________________________________________________\n"
          ]
        }
      ],
      "source": [
        "# optimizer is stochastic gradient descent, which is a good default optimizer, for more info see https://keras.io/api/optimizers/sgd/\n",
        "model.compile(\n",
        "    optimizer=SGD(),\n",
        "    loss=binary_crossentropy,\n",
        "    metrics=['accuracy', 'Precision', 'Recall']\n",
        ")\n",
        "\n",
        "model.summary()"
      ]
    },
    {
      "cell_type": "code",
      "execution_count": 34,
      "metadata": {
        "id": "JfaA_1ocelUP",
        "outputId": "2f9c24cf-9086-4ca8-ca1d-c57556738516",
        "colab": {
          "base_uri": "https://localhost:8080/"
        }
      },
      "outputs": [
        {
          "output_type": "execute_result",
          "data": {
            "text/plain": [
              "((3069104, 10), (767276, 10), (3069104,), (767276,))"
            ]
          },
          "metadata": {},
          "execution_count": 34
        }
      ],
      "source": [
        "X_train, X_test, y_train, y_test = train_test_split(Xp, y, test_size=0.2, random_state=42)\n",
        "X_train.shape, X_test.shape, y_train.shape, y_test.shape"
      ]
    },
    {
      "cell_type": "code",
      "execution_count": 35,
      "metadata": {
        "id": "-54ftmx5elUQ",
        "outputId": "d9726ad5-2dae-4453-a915-07f5dc57f849",
        "colab": {
          "base_uri": "https://localhost:8080/"
        }
      },
      "outputs": [
        {
          "output_type": "stream",
          "name": "stdout",
          "text": [
            "Epoch 1/10\n",
            "76728/76728 [==============================] - 197s 3ms/step - loss: 0.3599 - accuracy: 0.8534 - precision: 0.7927 - recall: 0.9569 - val_loss: 0.1347 - val_accuracy: 0.9811 - val_precision: 0.9637 - val_recall: 0.9999\n",
            "Epoch 2/10\n",
            "76728/76728 [==============================] - 189s 2ms/step - loss: 0.3377 - accuracy: 0.8681 - precision: 0.8089 - recall: 0.9635 - val_loss: 0.1304 - val_accuracy: 0.9859 - val_precision: 0.9728 - val_recall: 0.9998\n",
            "Epoch 3/10\n",
            "76728/76728 [==============================] - 200s 3ms/step - loss: 0.3338 - accuracy: 0.8705 - precision: 0.8121 - recall: 0.9638 - val_loss: 0.1196 - val_accuracy: 0.9908 - val_precision: 0.9820 - val_recall: 0.9998\n",
            "Epoch 4/10\n",
            "76728/76728 [==============================] - 200s 3ms/step - loss: 0.3342 - accuracy: 0.8702 - precision: 0.8120 - recall: 0.9633 - val_loss: 0.1261 - val_accuracy: 0.9867 - val_precision: 0.9855 - val_recall: 0.9879\n",
            "Epoch 5/10\n",
            "76728/76728 [==============================] - 180s 2ms/step - loss: 0.3300 - accuracy: 0.8728 - precision: 0.8156 - recall: 0.9632 - val_loss: 0.1216 - val_accuracy: 0.9895 - val_precision: 0.9796 - val_recall: 0.9998\n",
            "Epoch 6/10\n",
            "76728/76728 [==============================] - 177s 2ms/step - loss: 0.3270 - accuracy: 0.8746 - precision: 0.8178 - recall: 0.9638 - val_loss: 0.1173 - val_accuracy: 0.9909 - val_precision: 0.9823 - val_recall: 0.9998\n",
            "Epoch 7/10\n",
            "76728/76728 [==============================] - 190s 2ms/step - loss: 0.3277 - accuracy: 0.8742 - precision: 0.8172 - recall: 0.9639 - val_loss: 0.1180 - val_accuracy: 0.9906 - val_precision: 0.9817 - val_recall: 0.9998\n",
            "Epoch 8/10\n",
            "76728/76728 [==============================] - 189s 2ms/step - loss: 0.3271 - accuracy: 0.8747 - precision: 0.8181 - recall: 0.9634 - val_loss: 0.1284 - val_accuracy: 0.9867 - val_precision: 0.9742 - val_recall: 0.9998\n",
            "Epoch 9/10\n",
            "76728/76728 [==============================] - 175s 2ms/step - loss: 0.3285 - accuracy: 0.8737 - precision: 0.8164 - recall: 0.9642 - val_loss: 0.1268 - val_accuracy: 0.9861 - val_precision: 0.9732 - val_recall: 0.9998\n",
            "Epoch 10/10\n",
            "76728/76728 [==============================] - 172s 2ms/step - loss: 0.3247 - accuracy: 0.8761 - precision: 0.8195 - recall: 0.9645 - val_loss: 0.1188 - val_accuracy: 0.9900 - val_precision: 0.9806 - val_recall: 0.9998\n"
          ]
        },
        {
          "output_type": "execute_result",
          "data": {
            "text/plain": [
              "<keras.callbacks.History at 0x7f367399a890>"
            ]
          },
          "metadata": {},
          "execution_count": 35
        }
      ],
      "source": [
        "model.fit(X_train, y_train, epochs=10, batch_size=32, validation_split=0.2, verbose=1, shuffle=True)"
      ]
    },
    {
      "cell_type": "code",
      "execution_count": 36,
      "metadata": {
        "id": "kmSoYgxmelUR",
        "outputId": "42c8aeb0-4ab5-4b7e-bc18-be87812ac04f",
        "colab": {
          "base_uri": "https://localhost:8080/"
        }
      },
      "outputs": [
        {
          "output_type": "stream",
          "name": "stdout",
          "text": [
            "23978/23978 [==============================] - 38s 2ms/step - loss: 0.1187 - accuracy: 0.9902 - precision: 0.9811 - recall: 0.9997\n"
          ]
        },
        {
          "output_type": "execute_result",
          "data": {
            "text/plain": [
              "[0.11874160915613174,\n",
              " 0.9901925921440125,\n",
              " 0.9810526371002197,\n",
              " 0.9997267723083496]"
            ]
          },
          "metadata": {},
          "execution_count": 36
        }
      ],
      "source": [
        "model.evaluate(X_test, y_test)"
      ]
    },
    {
      "cell_type": "code",
      "execution_count": 37,
      "metadata": {
        "id": "sDypjJhJelUR",
        "outputId": "6ce20ff5-ac0c-4267-9238-4b3d92554854",
        "colab": {
          "base_uri": "https://localhost:8080/",
          "height": 466
        }
      },
      "outputs": [
        {
          "output_type": "stream",
          "name": "stdout",
          "text": [
            "23978/23978 [==============================] - 31s 1ms/step\n"
          ]
        },
        {
          "output_type": "execute_result",
          "data": {
            "text/plain": [
              "<Axes: >"
            ]
          },
          "metadata": {},
          "execution_count": 37
        },
        {
          "output_type": "display_data",
          "data": {
            "text/plain": [
              "<Figure size 640x480 with 2 Axes>"
            ],
            "image/png": "[encoded data removed]"
          },
          "metadata": {}
        }
      ],
      "source": [
        "import seaborn as sns\n",
        "# heatmap\n",
        "ypred = model.predict(X_test)\n",
        "ypred = ypred > 0.5\n",
        "cm = confusion_matrix(y_test, ypred)\n",
        "sns.heatmap(cm, annot=True, fmt='d')"
      ]
    },
    {
      "cell_type": "code",
      "execution_count": 38,
      "metadata": {
        "id": "HkbycYHHelUS",
        "outputId": "55cf9612-ead4-4946-d949-e34d6b74fb90",
        "colab": {
          "base_uri": "https://localhost:8080/"
        }
      },
      "outputs": [
        {
          "output_type": "stream",
          "name": "stdout",
          "text": [
            "              precision    recall  f1-score   support\n",
            "\n",
            "           0       1.00      0.98      0.99    382980\n",
            "           1       0.98      1.00      0.99    384296\n",
            "\n",
            "    accuracy                           0.99    767276\n",
            "   macro avg       0.99      0.99      0.99    767276\n",
            "weighted avg       0.99      0.99      0.99    767276\n",
            "\n"
          ]
        }
      ],
      "source": [
        "print(classification_report(y_test, ypred))"
      ]
    },
    {
      "cell_type": "markdown",
      "metadata": {
        "id": "5W8Sn1OfelUT"
      },
      "source": [
        "#### Save the model"
      ]
    },
    {
      "cell_type": "code",
      "execution_count": 39,
      "metadata": {
        "id": "97fHcdgzelUU",
        "outputId": "4acef2ad-e1d9-47f6-dc4d-4663c88cb9e6",
        "colab": {
          "base_uri": "https://localhost:8080/"
        }
      },
      "outputs": [
        {
          "output_type": "execute_result",
          "data": {
            "text/plain": [
              "['ANN_M2_L3_PP.jb']"
            ]
          },
          "metadata": {},
          "execution_count": 39
        }
      ],
      "source": [
        "from joblib import dump\n",
        "model.save('ANN_M2_L3.h5')\n",
        "dump(p, 'ANN_M2_L3_PP.jb')"
      ]
    },
    {
      "cell_type": "markdown",
      "metadata": {
        "id": "Ue0dcHYpelUZ"
      },
      "source": [
        "#### Load the model and preprocessor"
      ]
    },
    {
      "cell_type": "code",
      "execution_count": 40,
      "metadata": {
        "id": "t5Dfp7N2elUa"
      },
      "outputs": [],
      "source": [
        "from joblib import load\n",
        "def load_model():\n",
        "    model = tf.keras.models.load_model('ANN_M2_L3.h5')\n",
        "    return model\n",
        "\n",
        "def load_preprocessor():\n",
        "    p = load('ANN_M2_L3_PP.jb')\n",
        "    return p"
      ]
    },
    {
      "cell_type": "code",
      "execution_count": 41,
      "metadata": {
        "id": "zrK95P8pelUb",
        "outputId": "f05a8818-db66-4f3a-80e3-66971998dca1",
        "colab": {
          "base_uri": "https://localhost:8080/"
        }
      },
      "outputs": [
        {
          "output_type": "stream",
          "name": "stdout",
          "text": [
            "Model: \"sequential_1\"\n",
            "_________________________________________________________________\n",
            " Layer (type)                Output Shape              Param #   \n",
            "=================================================================\n",
            " dense_4 (Dense)             (None, 8)                 88        \n",
            "                                                                 \n",
            " dropout_3 (Dropout)         (None, 8)                 0         \n",
            "                                                                 \n",
            " dense_5 (Dense)             (None, 4)                 36        \n",
            "                                                                 \n",
            " dropout_4 (Dropout)         (None, 4)                 0         \n",
            "                                                                 \n",
            " dense_6 (Dense)             (None, 2)                 10        \n",
            "                                                                 \n",
            " dropout_5 (Dropout)         (None, 2)                 0         \n",
            "                                                                 \n",
            " dense_7 (Dense)             (None, 1)                 3         \n",
            "                                                                 \n",
            "=================================================================\n",
            "Total params: 137\n",
            "Trainable params: 137\n",
            "Non-trainable params: 0\n",
            "_________________________________________________________________\n"
          ]
        }
      ],
      "source": [
        "existing_model = load_model()\n",
        "p = load_preprocessor()\n",
        "existing_model.summary()"
      ]
    },
    {
      "cell_type": "code",
      "execution_count": 42,
      "metadata": {
        "id": "xW1uTHl2elUd"
      },
      "outputs": [],
      "source": [
        "def predict_fraud(model, data):\n",
        "    data = p.transform(data)\n",
        "    prediction = model.predict(data)\n",
        "    return prediction"
      ]
    },
    {
      "cell_type": "code",
      "execution_count": 43,
      "metadata": {
        "id": "3hIAFyLHelUe",
        "outputId": "5a46a77d-2223-442c-84af-99d3a31c9cf1",
        "colab": {
          "base_uri": "https://localhost:8080/"
        }
      },
      "outputs": [
        {
          "output_type": "stream",
          "name": "stdout",
          "text": [
            "1/1 [==============================] - 0s 112ms/step\n",
            "True\n"
          ]
        }
      ],
      "source": [
        "data = pd.DataFrame({\n",
        "    'step': [1],\n",
        "    'type': ['CASH_OUT'],\n",
        "    'amount': [1000],\n",
        "    'name_orig': ['C123450428'],\n",
        "    'oldbalanceOrg': [1000],\n",
        "    'newbalanceOrig': [0],\n",
        "    'name_dest': ['M123451249'],\n",
        "    'oldbalanceDest': [0],\n",
        "    'newbalanceDest': [0],\n",
        "})\n",
        "\n",
        "out = predict_fraud(existing_model, data)\n",
        "print(out[0][0] > 0.5)"
      ]
    },
    {
      "cell_type": "code",
      "execution_count": null,
      "metadata": {
        "id": "XFVtD3BxelUe"
      },
      "outputs": [],
      "source": []
    }
  ],
  "metadata": {
    "kernelspec": {
      "display_name": "base",
      "language": "python",
      "name": "python3"
    },
    "language_info": {
      "codemirror_mode": {
        "name": "ipython",
        "version": 3
      },
      "file_extension": ".py",
      "mimetype": "text/x-python",
      "name": "python",
      "nbconvert_exporter": "python",
      "pygments_lexer": "ipython3",
      "version": "3.10.9"
    },
    "orig_nbformat": 4,
    "colab": {
      "provenance": []
    }
  },
  "nbformat": 4,
  "nbformat_minor": 0
}