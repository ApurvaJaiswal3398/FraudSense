{
  "cells": [
    {
      "cell_type": "code",
      "execution_count": 1,
      "metadata": {
        "id": "cOMTBBlKelT3"
      },
      "outputs": [],
      "source": [
        "import tensorflow as tf\n",
        "import pandas as pd                                         # data processing, CSV file I/O (e.g. pd.read_csv)\n",
        "import numpy as np                                          # linear algebra\n",
        "from tensorflow.keras.models import Sequential              # model type\n",
        "from tensorflow.keras.layers import Dense, Dropout          # dense layer, dropout layer\n",
        "from tensorflow.keras.activations import relu, sigmoid      # activation functions\n",
        "from tensorflow.keras.optimizers import SGD                 # stochastic gradient descent\n",
        "from tensorflow.keras.losses import binary_crossentropy     # cost function"
      ]
    },
    {
      "cell_type": "code",
      "execution_count": 3,
      "metadata": {
        "colab": {
          "base_uri": "https://localhost:8080/",
          "height": 541
        },
        "id": "Am81_oKPelT8",
        "outputId": "5187c271-2c48-4466-dab0-98a85860dd95"
      },
      "outputs": [
        {
          "name": "stderr",
          "output_type": "stream",
          "text": [
            "<ipython-input-3-5b66cbb67606>:1: DtypeWarning: Columns (7) have mixed types. Specify dtype option on import or set low_memory=False.\n",
            "  df = pd.read_csv('/content/drive/MyDrive/Dataset/FRAUD_DETECTION.csv')\n"
          ]
        },
        {
          "data": {
            "text/html": [
              "\n",
              "  <div id=\"df-d65c43d0-9068-4cf3-9803-de91f3b7332e\">\n",
              "    <div class=\"colab-df-container\">\n",
              "      <div>\n",
              "<style scoped>\n",
              "    .dataframe tbody tr th:only-of-type {\n",
              "        vertical-align: middle;\n",
              "    }\n",
              "\n",
              "    .dataframe tbody tr th {\n",
              "        vertical-align: top;\n",
              "    }\n",
              "\n",
              "    .dataframe thead th {\n",
              "        text-align: right;\n",
              "    }\n",
              "</style>\n",
              "<table border=\"1\" class=\"dataframe\">\n",
              "  <thead>\n",
              "    <tr style=\"text-align: right;\">\n",
              "      <th></th>\n",
              "      <th>Unnamed: 0</th>\n",
              "      <th>step</th>\n",
              "      <th>type</th>\n",
              "      <th>amount</th>\n",
              "      <th>nameOrig</th>\n",
              "      <th>oldbalanceOrg</th>\n",
              "      <th>newbalanceOrig</th>\n",
              "      <th>nameDest</th>\n",
              "      <th>oldbalanceDest</th>\n",
              "      <th>newbalanceDest</th>\n",
              "      <th>isFraud</th>\n",
              "      <th>isFlaggedFraud</th>\n",
              "    </tr>\n",
              "  </thead>\n",
              "  <tbody>\n",
              "    <tr>\n",
              "      <th>0</th>\n",
              "      <td>389</td>\n",
              "      <td>1</td>\n",
              "      <td>CASH_IN</td>\n",
              "      <td>143236.26</td>\n",
              "      <td>C1862994526</td>\n",
              "      <td>0.00</td>\n",
              "      <td>143236.26</td>\n",
              "      <td>0</td>\n",
              "      <td>0.00</td>\n",
              "      <td>0.00</td>\n",
              "      <td>0</td>\n",
              "      <td>0</td>\n",
              "    </tr>\n",
              "    <tr>\n",
              "      <th>1</th>\n",
              "      <td>390</td>\n",
              "      <td>1</td>\n",
              "      <td>CASH_IN</td>\n",
              "      <td>228451.89</td>\n",
              "      <td>C1614133563</td>\n",
              "      <td>143236.26</td>\n",
              "      <td>371688.15</td>\n",
              "      <td>0</td>\n",
              "      <td>0.00</td>\n",
              "      <td>0.00</td>\n",
              "      <td>0</td>\n",
              "      <td>0</td>\n",
              "    </tr>\n",
              "    <tr>\n",
              "      <th>2</th>\n",
              "      <td>393</td>\n",
              "      <td>1</td>\n",
              "      <td>CASH_IN</td>\n",
              "      <td>65912.95</td>\n",
              "      <td>C180316302</td>\n",
              "      <td>640544.28</td>\n",
              "      <td>706457.23</td>\n",
              "      <td>0</td>\n",
              "      <td>0.00</td>\n",
              "      <td>0.00</td>\n",
              "      <td>0</td>\n",
              "      <td>0</td>\n",
              "    </tr>\n",
              "    <tr>\n",
              "      <th>3</th>\n",
              "      <td>397</td>\n",
              "      <td>1</td>\n",
              "      <td>CASH_IN</td>\n",
              "      <td>349640.51</td>\n",
              "      <td>C1493042329</td>\n",
              "      <td>1023111.71</td>\n",
              "      <td>1372752.22</td>\n",
              "      <td>0</td>\n",
              "      <td>0.00</td>\n",
              "      <td>0.00</td>\n",
              "      <td>0</td>\n",
              "      <td>0</td>\n",
              "    </tr>\n",
              "    <tr>\n",
              "      <th>4</th>\n",
              "      <td>398</td>\n",
              "      <td>1</td>\n",
              "      <td>CASH_IN</td>\n",
              "      <td>135324.19</td>\n",
              "      <td>C1751403001</td>\n",
              "      <td>1372752.22</td>\n",
              "      <td>1508076.41</td>\n",
              "      <td>0</td>\n",
              "      <td>0.00</td>\n",
              "      <td>0.00</td>\n",
              "      <td>0</td>\n",
              "      <td>0</td>\n",
              "    </tr>\n",
              "    <tr>\n",
              "      <th>...</th>\n",
              "      <td>...</td>\n",
              "      <td>...</td>\n",
              "      <td>...</td>\n",
              "      <td>...</td>\n",
              "      <td>...</td>\n",
              "      <td>...</td>\n",
              "      <td>...</td>\n",
              "      <td>...</td>\n",
              "      <td>...</td>\n",
              "      <td>...</td>\n",
              "      <td>...</td>\n",
              "      <td>...</td>\n",
              "    </tr>\n",
              "    <tr>\n",
              "      <th>1922277</th>\n",
              "      <td>6362242</td>\n",
              "      <td>718</td>\n",
              "      <td>DEBIT</td>\n",
              "      <td>2609.21</td>\n",
              "      <td>C1546763667</td>\n",
              "      <td>5070.00</td>\n",
              "      <td>2460.79</td>\n",
              "      <td>C1242258329</td>\n",
              "      <td>144193.72</td>\n",
              "      <td>146802.93</td>\n",
              "      <td>0</td>\n",
              "      <td>0</td>\n",
              "    </tr>\n",
              "    <tr>\n",
              "      <th>1922278</th>\n",
              "      <td>6362247</td>\n",
              "      <td>718</td>\n",
              "      <td>DEBIT</td>\n",
              "      <td>2063.08</td>\n",
              "      <td>C397492133</td>\n",
              "      <td>328612.00</td>\n",
              "      <td>326548.92</td>\n",
              "      <td>C1557979171</td>\n",
              "      <td>1312720.98</td>\n",
              "      <td>1314784.06</td>\n",
              "      <td>0</td>\n",
              "      <td>0</td>\n",
              "    </tr>\n",
              "    <tr>\n",
              "      <th>1922279</th>\n",
              "      <td>6362254</td>\n",
              "      <td>718</td>\n",
              "      <td>DEBIT</td>\n",
              "      <td>425.65</td>\n",
              "      <td>C1835928822</td>\n",
              "      <td>4046.00</td>\n",
              "      <td>3620.35</td>\n",
              "      <td>C701975669</td>\n",
              "      <td>3009282.73</td>\n",
              "      <td>3009708.38</td>\n",
              "      <td>0</td>\n",
              "      <td>0</td>\n",
              "    </tr>\n",
              "    <tr>\n",
              "      <th>1922280</th>\n",
              "      <td>6362303</td>\n",
              "      <td>718</td>\n",
              "      <td>DEBIT</td>\n",
              "      <td>2148.99</td>\n",
              "      <td>C1909103796</td>\n",
              "      <td>49632.00</td>\n",
              "      <td>47483.01</td>\n",
              "      <td>C1931871221</td>\n",
              "      <td>66241.39</td>\n",
              "      <td>68390.38</td>\n",
              "      <td>0</td>\n",
              "      <td>0</td>\n",
              "    </tr>\n",
              "    <tr>\n",
              "      <th>1922281</th>\n",
              "      <td>6362323</td>\n",
              "      <td>718</td>\n",
              "      <td>DEBIT</td>\n",
              "      <td>1864.24</td>\n",
              "      <td>C49652609</td>\n",
              "      <td>20426.00</td>\n",
              "      <td>18561.76</td>\n",
              "      <td>C1799009964</td>\n",
              "      <td>188746.00</td>\n",
              "      <td>190610.24</td>\n",
              "      <td>0</td>\n",
              "      <td>0</td>\n",
              "    </tr>\n",
              "  </tbody>\n",
              "</table>\n",
              "<p>1922282 rows × 12 columns</p>\n",
              "</div>\n",
              "      <button class=\"colab-df-convert\" onclick=\"convertToInteractive('df-d65c43d0-9068-4cf3-9803-de91f3b7332e')\"\n",
              "              title=\"Convert this dataframe to an interactive table.\"\n",
              "              style=\"display:none;\">\n",
              "        \n",
              "  <svg xmlns=\"http://www.w3.org/2000/svg\" height=\"24px\"viewBox=\"0 0 24 24\"\n",
              "       width=\"24px\">\n",
              "    <path d=\"M0 0h24v24H0V0z\" fill=\"none\"/>\n",
              "    <path d=\"M18.56 5.44l.94 2.06.94-2.06 2.06-.94-2.06-.94-.94-2.06-.94 2.06-2.06.94zm-11 1L8.5 8.5l.94-2.06 2.06-.94-2.06-.94L8.5 2.5l-.94 2.06-2.06.94zm10 10l.94 2.06.94-2.06 2.06-.94-2.06-.94-.94-2.06-.94 2.06-2.06.94z\"/><path d=\"M17.41 7.96l-1.37-1.37c-.4-.4-.92-.59-1.43-.59-.52 0-1.04.2-1.43.59L10.3 9.45l-7.72 7.72c-.78.78-.78 2.05 0 2.83L4 21.41c.39.39.9.59 1.41.59.51 0 1.02-.2 1.41-.59l7.78-7.78 2.81-2.81c.8-.78.8-2.07 0-2.86zM5.41 20L4 18.59l7.72-7.72 1.47 1.35L5.41 20z\"/>\n",
              "  </svg>\n",
              "      </button>\n",
              "      \n",
              "  <style>\n",
              "    .colab-df-container {\n",
              "      display:flex;\n",
              "      flex-wrap:wrap;\n",
              "      gap: 12px;\n",
              "    }\n",
              "\n",
              "    .colab-df-convert {\n",
              "      background-color: #E8F0FE;\n",
              "      border: none;\n",
              "      border-radius: 50%;\n",
              "      cursor: pointer;\n",
              "      display: none;\n",
              "      fill: #1967D2;\n",
              "      height: 32px;\n",
              "      padding: 0 0 0 0;\n",
              "      width: 32px;\n",
              "    }\n",
              "\n",
              "    .colab-df-convert:hover {\n",
              "      background-color: #E2EBFA;\n",
              "      box-shadow: 0px 1px 2px rgba(60, 64, 67, 0.3), 0px 1px 3px 1px rgba(60, 64, 67, 0.15);\n",
              "      fill: #174EA6;\n",
              "    }\n",
              "\n",
              "    [theme=dark] .colab-df-convert {\n",
              "      background-color: #3B4455;\n",
              "      fill: #D2E3FC;\n",
              "    }\n",
              "\n",
              "    [theme=dark] .colab-df-convert:hover {\n",
              "      background-color: #434B5C;\n",
              "      box-shadow: 0px 1px 3px 1px rgba(0, 0, 0, 0.15);\n",
              "      filter: drop-shadow(0px 1px 2px rgba(0, 0, 0, 0.3));\n",
              "      fill: #FFFFFF;\n",
              "    }\n",
              "  </style>\n",
              "\n",
              "      <script>\n",
              "        const buttonEl =\n",
              "          document.querySelector('#df-d65c43d0-9068-4cf3-9803-de91f3b7332e button.colab-df-convert');\n",
              "        buttonEl.style.display =\n",
              "          google.colab.kernel.accessAllowed ? 'block' : 'none';\n",
              "\n",
              "        async function convertToInteractive(key) {\n",
              "          const element = document.querySelector('#df-d65c43d0-9068-4cf3-9803-de91f3b7332e');\n",
              "          const dataTable =\n",
              "            await google.colab.kernel.invokeFunction('convertToInteractive',\n",
              "                                                     [key], {});\n",
              "          if (!dataTable) return;\n",
              "\n",
              "          const docLinkHtml = 'Like what you see? Visit the ' +\n",
              "            '<a target=\"_blank\" href=https://colab.research.google.com/notebooks/data_table.ipynb>data table notebook</a>'\n",
              "            + ' to learn more about interactive tables.';\n",
              "          element.innerHTML = '';\n",
              "          dataTable['output_type'] = 'display_data';\n",
              "          await google.colab.output.renderOutput(dataTable, element);\n",
              "          const docLink = document.createElement('div');\n",
              "          docLink.innerHTML = docLinkHtml;\n",
              "          element.appendChild(docLink);\n",
              "        }\n",
              "      </script>\n",
              "    </div>\n",
              "  </div>\n",
              "  "
            ],
            "text/plain": [
              "         Unnamed: 0  step     type     amount     nameOrig  oldbalanceOrg  \\\n",
              "0               389     1  CASH_IN  143236.26  C1862994526           0.00   \n",
              "1               390     1  CASH_IN  228451.89  C1614133563      143236.26   \n",
              "2               393     1  CASH_IN   65912.95   C180316302      640544.28   \n",
              "3               397     1  CASH_IN  349640.51  C1493042329     1023111.71   \n",
              "4               398     1  CASH_IN  135324.19  C1751403001     1372752.22   \n",
              "...             ...   ...      ...        ...          ...            ...   \n",
              "1922277     6362242   718    DEBIT    2609.21  C1546763667        5070.00   \n",
              "1922278     6362247   718    DEBIT    2063.08   C397492133      328612.00   \n",
              "1922279     6362254   718    DEBIT     425.65  C1835928822        4046.00   \n",
              "1922280     6362303   718    DEBIT    2148.99  C1909103796       49632.00   \n",
              "1922281     6362323   718    DEBIT    1864.24    C49652609       20426.00   \n",
              "\n",
              "         newbalanceOrig     nameDest  oldbalanceDest  newbalanceDest  isFraud  \\\n",
              "0             143236.26            0            0.00            0.00        0   \n",
              "1             371688.15            0            0.00            0.00        0   \n",
              "2             706457.23            0            0.00            0.00        0   \n",
              "3            1372752.22            0            0.00            0.00        0   \n",
              "4            1508076.41            0            0.00            0.00        0   \n",
              "...                 ...          ...             ...             ...      ...   \n",
              "1922277         2460.79  C1242258329       144193.72       146802.93        0   \n",
              "1922278       326548.92  C1557979171      1312720.98      1314784.06        0   \n",
              "1922279         3620.35   C701975669      3009282.73      3009708.38        0   \n",
              "1922280        47483.01  C1931871221        66241.39        68390.38        0   \n",
              "1922281        18561.76  C1799009964       188746.00       190610.24        0   \n",
              "\n",
              "         isFlaggedFraud  \n",
              "0                     0  \n",
              "1                     0  \n",
              "2                     0  \n",
              "3                     0  \n",
              "4                     0  \n",
              "...                 ...  \n",
              "1922277               0  \n",
              "1922278               0  \n",
              "1922279               0  \n",
              "1922280               0  \n",
              "1922281               0  \n",
              "\n",
              "[1922282 rows x 12 columns]"
            ]
          },
          "execution_count": 3,
          "metadata": {},
          "output_type": "execute_result"
        }
      ],
      "source": [
        "df = pd.read_csv(r'dataset/Fraud_Detection_Dataset.csv')\n",
        "df"
      ]
    },
    {
      "cell_type": "code",
      "execution_count": 4,
      "metadata": {
        "colab": {
          "base_uri": "https://localhost:8080/"
        },
        "id": "QkKydD0QelT_",
        "outputId": "d5a7941d-544c-4053-beed-62f04c41c366"
      },
      "outputs": [
        {
          "data": {
            "text/plain": [
              "Unnamed: 0             0\n",
              "step                   0\n",
              "type                   0\n",
              "amount                 0\n",
              "nameOrig               0\n",
              "oldbalanceOrg          0\n",
              "newbalanceOrig         0\n",
              "nameDest          158404\n",
              "oldbalanceDest         0\n",
              "newbalanceDest         0\n",
              "isFraud                0\n",
              "isFlaggedFraud         0\n",
              "dtype: int64"
            ]
          },
          "execution_count": 4,
          "metadata": {},
          "output_type": "execute_result"
        }
      ],
      "source": [
        "df.isnull().sum()"
      ]
    },
    {
      "cell_type": "code",
      "execution_count": 5,
      "metadata": {
        "colab": {
          "base_uri": "https://localhost:8080/"
        },
        "id": "p8E-BZOjelUC",
        "outputId": "1e6fb3d1-82d6-4cc9-8b4a-1015817a042d"
      },
      "outputs": [
        {
          "name": "stdout",
          "output_type": "stream",
          "text": [
            "<class 'pandas.core.frame.DataFrame'>\n",
            "RangeIndex: 1922282 entries, 0 to 1922281\n",
            "Data columns (total 12 columns):\n",
            " #   Column          Dtype  \n",
            "---  ------          -----  \n",
            " 0   Unnamed: 0      int64  \n",
            " 1   step            int64  \n",
            " 2   type            object \n",
            " 3   amount          float64\n",
            " 4   nameOrig        object \n",
            " 5   oldbalanceOrg   float64\n",
            " 6   newbalanceOrig  float64\n",
            " 7   nameDest        object \n",
            " 8   oldbalanceDest  float64\n",
            " 9   newbalanceDest  float64\n",
            " 10  isFraud         int64  \n",
            " 11  isFlaggedFraud  int64  \n",
            "dtypes: float64(5), int64(4), object(3)\n",
            "memory usage: 176.0+ MB\n"
          ]
        }
      ],
      "source": [
        "df.info()"
      ]
    },
    {
      "cell_type": "code",
      "execution_count": 7,
      "metadata": {
        "colab": {
          "base_uri": "https://localhost:8080/"
        },
        "id": "7uwqcwLHelUC",
        "outputId": "21e1fe89-0ffc-480c-b0b5-c64926118dee"
      },
      "outputs": [
        {
          "data": {
            "text/plain": [
              "Index(['type', 'nameOrig', 'nameDest'], dtype='object')"
            ]
          },
          "execution_count": 7,
          "metadata": {},
          "output_type": "execute_result"
        }
      ],
      "source": [
        "cat_columns = df.select_dtypes(include='object').columns\n",
        "cat_columns"
      ]
    },
    {
      "cell_type": "code",
      "execution_count": 8,
      "metadata": {
        "colab": {
          "base_uri": "https://localhost:8080/",
          "height": 424
        },
        "id": "VG_vEYJmelUD",
        "outputId": "2c87c47f-8cac-437f-96b1-9698d7db99c8"
      },
      "outputs": [
        {
          "data": {
            "text/html": [
              "\n",
              "  <div id=\"df-57e78e00-1161-4eb5-9c38-fd6b89205099\">\n",
              "    <div class=\"colab-df-container\">\n",
              "      <div>\n",
              "<style scoped>\n",
              "    .dataframe tbody tr th:only-of-type {\n",
              "        vertical-align: middle;\n",
              "    }\n",
              "\n",
              "    .dataframe tbody tr th {\n",
              "        vertical-align: top;\n",
              "    }\n",
              "\n",
              "    .dataframe thead th {\n",
              "        text-align: right;\n",
              "    }\n",
              "</style>\n",
              "<table border=\"1\" class=\"dataframe\">\n",
              "  <thead>\n",
              "    <tr style=\"text-align: right;\">\n",
              "      <th></th>\n",
              "      <th>step</th>\n",
              "      <th>amount</th>\n",
              "      <th>oldbalanceOrg</th>\n",
              "      <th>newbalanceOrig</th>\n",
              "      <th>oldbalanceDest</th>\n",
              "      <th>newbalanceDest</th>\n",
              "      <th>isFraud</th>\n",
              "      <th>isFlaggedFraud</th>\n",
              "    </tr>\n",
              "  </thead>\n",
              "  <tbody>\n",
              "    <tr>\n",
              "      <th>0</th>\n",
              "      <td>1</td>\n",
              "      <td>143236.26</td>\n",
              "      <td>0.00</td>\n",
              "      <td>143236.26</td>\n",
              "      <td>0.00</td>\n",
              "      <td>0.00</td>\n",
              "      <td>0</td>\n",
              "      <td>0</td>\n",
              "    </tr>\n",
              "    <tr>\n",
              "      <th>1</th>\n",
              "      <td>1</td>\n",
              "      <td>228451.89</td>\n",
              "      <td>143236.26</td>\n",
              "      <td>371688.15</td>\n",
              "      <td>0.00</td>\n",
              "      <td>0.00</td>\n",
              "      <td>0</td>\n",
              "      <td>0</td>\n",
              "    </tr>\n",
              "    <tr>\n",
              "      <th>2</th>\n",
              "      <td>1</td>\n",
              "      <td>65912.95</td>\n",
              "      <td>640544.28</td>\n",
              "      <td>706457.23</td>\n",
              "      <td>0.00</td>\n",
              "      <td>0.00</td>\n",
              "      <td>0</td>\n",
              "      <td>0</td>\n",
              "    </tr>\n",
              "    <tr>\n",
              "      <th>3</th>\n",
              "      <td>1</td>\n",
              "      <td>349640.51</td>\n",
              "      <td>1023111.71</td>\n",
              "      <td>1372752.22</td>\n",
              "      <td>0.00</td>\n",
              "      <td>0.00</td>\n",
              "      <td>0</td>\n",
              "      <td>0</td>\n",
              "    </tr>\n",
              "    <tr>\n",
              "      <th>4</th>\n",
              "      <td>1</td>\n",
              "      <td>135324.19</td>\n",
              "      <td>1372752.22</td>\n",
              "      <td>1508076.41</td>\n",
              "      <td>0.00</td>\n",
              "      <td>0.00</td>\n",
              "      <td>0</td>\n",
              "      <td>0</td>\n",
              "    </tr>\n",
              "    <tr>\n",
              "      <th>...</th>\n",
              "      <td>...</td>\n",
              "      <td>...</td>\n",
              "      <td>...</td>\n",
              "      <td>...</td>\n",
              "      <td>...</td>\n",
              "      <td>...</td>\n",
              "      <td>...</td>\n",
              "      <td>...</td>\n",
              "    </tr>\n",
              "    <tr>\n",
              "      <th>1922277</th>\n",
              "      <td>718</td>\n",
              "      <td>2609.21</td>\n",
              "      <td>5070.00</td>\n",
              "      <td>2460.79</td>\n",
              "      <td>144193.72</td>\n",
              "      <td>146802.93</td>\n",
              "      <td>0</td>\n",
              "      <td>0</td>\n",
              "    </tr>\n",
              "    <tr>\n",
              "      <th>1922278</th>\n",
              "      <td>718</td>\n",
              "      <td>2063.08</td>\n",
              "      <td>328612.00</td>\n",
              "      <td>326548.92</td>\n",
              "      <td>1312720.98</td>\n",
              "      <td>1314784.06</td>\n",
              "      <td>0</td>\n",
              "      <td>0</td>\n",
              "    </tr>\n",
              "    <tr>\n",
              "      <th>1922279</th>\n",
              "      <td>718</td>\n",
              "      <td>425.65</td>\n",
              "      <td>4046.00</td>\n",
              "      <td>3620.35</td>\n",
              "      <td>3009282.73</td>\n",
              "      <td>3009708.38</td>\n",
              "      <td>0</td>\n",
              "      <td>0</td>\n",
              "    </tr>\n",
              "    <tr>\n",
              "      <th>1922280</th>\n",
              "      <td>718</td>\n",
              "      <td>2148.99</td>\n",
              "      <td>49632.00</td>\n",
              "      <td>47483.01</td>\n",
              "      <td>66241.39</td>\n",
              "      <td>68390.38</td>\n",
              "      <td>0</td>\n",
              "      <td>0</td>\n",
              "    </tr>\n",
              "    <tr>\n",
              "      <th>1922281</th>\n",
              "      <td>718</td>\n",
              "      <td>1864.24</td>\n",
              "      <td>20426.00</td>\n",
              "      <td>18561.76</td>\n",
              "      <td>188746.00</td>\n",
              "      <td>190610.24</td>\n",
              "      <td>0</td>\n",
              "      <td>0</td>\n",
              "    </tr>\n",
              "  </tbody>\n",
              "</table>\n",
              "<p>1922282 rows × 8 columns</p>\n",
              "</div>\n",
              "      <button class=\"colab-df-convert\" onclick=\"convertToInteractive('df-57e78e00-1161-4eb5-9c38-fd6b89205099')\"\n",
              "              title=\"Convert this dataframe to an interactive table.\"\n",
              "              style=\"display:none;\">\n",
              "        \n",
              "  <svg xmlns=\"http://www.w3.org/2000/svg\" height=\"24px\"viewBox=\"0 0 24 24\"\n",
              "       width=\"24px\">\n",
              "    <path d=\"M0 0h24v24H0V0z\" fill=\"none\"/>\n",
              "    <path d=\"M18.56 5.44l.94 2.06.94-2.06 2.06-.94-2.06-.94-.94-2.06-.94 2.06-2.06.94zm-11 1L8.5 8.5l.94-2.06 2.06-.94-2.06-.94L8.5 2.5l-.94 2.06-2.06.94zm10 10l.94 2.06.94-2.06 2.06-.94-2.06-.94-.94-2.06-.94 2.06-2.06.94z\"/><path d=\"M17.41 7.96l-1.37-1.37c-.4-.4-.92-.59-1.43-.59-.52 0-1.04.2-1.43.59L10.3 9.45l-7.72 7.72c-.78.78-.78 2.05 0 2.83L4 21.41c.39.39.9.59 1.41.59.51 0 1.02-.2 1.41-.59l7.78-7.78 2.81-2.81c.8-.78.8-2.07 0-2.86zM5.41 20L4 18.59l7.72-7.72 1.47 1.35L5.41 20z\"/>\n",
              "  </svg>\n",
              "      </button>\n",
              "      \n",
              "  <style>\n",
              "    .colab-df-container {\n",
              "      display:flex;\n",
              "      flex-wrap:wrap;\n",
              "      gap: 12px;\n",
              "    }\n",
              "\n",
              "    .colab-df-convert {\n",
              "      background-color: #E8F0FE;\n",
              "      border: none;\n",
              "      border-radius: 50%;\n",
              "      cursor: pointer;\n",
              "      display: none;\n",
              "      fill: #1967D2;\n",
              "      height: 32px;\n",
              "      padding: 0 0 0 0;\n",
              "      width: 32px;\n",
              "    }\n",
              "\n",
              "    .colab-df-convert:hover {\n",
              "      background-color: #E2EBFA;\n",
              "      box-shadow: 0px 1px 2px rgba(60, 64, 67, 0.3), 0px 1px 3px 1px rgba(60, 64, 67, 0.15);\n",
              "      fill: #174EA6;\n",
              "    }\n",
              "\n",
              "    [theme=dark] .colab-df-convert {\n",
              "      background-color: #3B4455;\n",
              "      fill: #D2E3FC;\n",
              "    }\n",
              "\n",
              "    [theme=dark] .colab-df-convert:hover {\n",
              "      background-color: #434B5C;\n",
              "      box-shadow: 0px 1px 3px 1px rgba(0, 0, 0, 0.15);\n",
              "      filter: drop-shadow(0px 1px 2px rgba(0, 0, 0, 0.3));\n",
              "      fill: #FFFFFF;\n",
              "    }\n",
              "  </style>\n",
              "\n",
              "      <script>\n",
              "        const buttonEl =\n",
              "          document.querySelector('#df-57e78e00-1161-4eb5-9c38-fd6b89205099 button.colab-df-convert');\n",
              "        buttonEl.style.display =\n",
              "          google.colab.kernel.accessAllowed ? 'block' : 'none';\n",
              "\n",
              "        async function convertToInteractive(key) {\n",
              "          const element = document.querySelector('#df-57e78e00-1161-4eb5-9c38-fd6b89205099');\n",
              "          const dataTable =\n",
              "            await google.colab.kernel.invokeFunction('convertToInteractive',\n",
              "                                                     [key], {});\n",
              "          if (!dataTable) return;\n",
              "\n",
              "          const docLinkHtml = 'Like what you see? Visit the ' +\n",
              "            '<a target=\"_blank\" href=https://colab.research.google.com/notebooks/data_table.ipynb>data table notebook</a>'\n",
              "            + ' to learn more about interactive tables.';\n",
              "          element.innerHTML = '';\n",
              "          dataTable['output_type'] = 'display_data';\n",
              "          await google.colab.output.renderOutput(dataTable, element);\n",
              "          const docLink = document.createElement('div');\n",
              "          docLink.innerHTML = docLinkHtml;\n",
              "          element.appendChild(docLink);\n",
              "        }\n",
              "      </script>\n",
              "    </div>\n",
              "  </div>\n",
              "  "
            ],
            "text/plain": [
              "         step     amount  oldbalanceOrg  newbalanceOrig  oldbalanceDest  \\\n",
              "0           1  143236.26           0.00       143236.26            0.00   \n",
              "1           1  228451.89      143236.26       371688.15            0.00   \n",
              "2           1   65912.95      640544.28       706457.23            0.00   \n",
              "3           1  349640.51     1023111.71      1372752.22            0.00   \n",
              "4           1  135324.19     1372752.22      1508076.41            0.00   \n",
              "...       ...        ...            ...             ...             ...   \n",
              "1922277   718    2609.21        5070.00         2460.79       144193.72   \n",
              "1922278   718    2063.08      328612.00       326548.92      1312720.98   \n",
              "1922279   718     425.65        4046.00         3620.35      3009282.73   \n",
              "1922280   718    2148.99       49632.00        47483.01        66241.39   \n",
              "1922281   718    1864.24       20426.00        18561.76       188746.00   \n",
              "\n",
              "         newbalanceDest  isFraud  isFlaggedFraud  \n",
              "0                  0.00        0               0  \n",
              "1                  0.00        0               0  \n",
              "2                  0.00        0               0  \n",
              "3                  0.00        0               0  \n",
              "4                  0.00        0               0  \n",
              "...                 ...      ...             ...  \n",
              "1922277       146802.93        0               0  \n",
              "1922278      1314784.06        0               0  \n",
              "1922279      3009708.38        0               0  \n",
              "1922280        68390.38        0               0  \n",
              "1922281       190610.24        0               0  \n",
              "\n",
              "[1922282 rows x 8 columns]"
            ]
          },
          "execution_count": 8,
          "metadata": {},
          "output_type": "execute_result"
        }
      ],
      "source": [
        "num_columns = df.select_dtypes(include=np.number).columns\n",
        "df[num_columns]"
      ]
    },
    {
      "cell_type": "code",
      "execution_count": 9,
      "metadata": {
        "id": "hjE2aWYfelUE"
      },
      "outputs": [],
      "source": [
        "from sklearn.preprocessing import OneHotEncoder\n",
        "from sklearn.compose import ColumnTransformer\n",
        "from sklearn.preprocessing import StandardScaler\n",
        "from sklearn.model_selection import train_test_split\n",
        "from sklearn.metrics import confusion_matrix, classification_report\n",
        "from sklearn.pipeline import Pipeline\n",
        "from imblearn.over_sampling import SMOTE"
      ]
    },
    {
      "cell_type": "code",
      "execution_count": 10,
      "metadata": {
        "id": "wTiMNTEoelUF"
      },
      "outputs": [],
      "source": [
        "X = df.drop(columns=['isFraud', 'isFlaggedFraud'])\n",
        "y = df['isFraud']\n",
        "smote = SMOTE()"
      ]
    },
    {
      "cell_type": "code",
      "execution_count": 11,
      "metadata": {
        "id": "n17xPM5aelUG"
      },
      "outputs": [],
      "source": [
        "preprocessor = ColumnTransformer(\n",
        "    transformers=[\n",
        "        ('cat', OneHotEncoder(drop='first'), ['type']),\n",
        "        ('num', StandardScaler(), num_columns[:-2])\n",
        "    ])\n",
        "\n",
        "p = Pipeline(steps=[('preprocessor', preprocessor)])"
      ]
    },
    {
      "cell_type": "code",
      "execution_count": 12,
      "metadata": {
        "colab": {
          "base_uri": "https://localhost:8080/"
        },
        "id": "4Pe7lQgNelUH",
        "outputId": "c2b086a4-7b92-4b5a-aca0-1d5285eaca82"
      },
      "outputs": [
        {
          "data": {
            "text/plain": [
              "(1922282, 10)"
            ]
          },
          "execution_count": 12,
          "metadata": {},
          "output_type": "execute_result"
        }
      ],
      "source": [
        "Xp = p.fit_transform(X)\n",
        "Xp.shape"
      ]
    },
    {
      "cell_type": "code",
      "execution_count": 13,
      "metadata": {
        "colab": {
          "base_uri": "https://localhost:8080/"
        },
        "id": "9xV3np4welUI",
        "outputId": "337a641c-12af-485a-a871-663005578a22"
      },
      "outputs": [
        {
          "data": {
            "text/plain": [
              "((3836380, 10), (3836380,))"
            ]
          },
          "execution_count": 13,
          "metadata": {},
          "output_type": "execute_result"
        }
      ],
      "source": [
        "Xp, y = smote.fit_resample(Xp, y)\n",
        "Xp.shape, y.shape"
      ]
    },
    {
      "attachments": {},
      "cell_type": "markdown",
      "metadata": {
        "id": "TK1UbiDXelUI"
      },
      "source": [
        "#### Create a Neural Network"
      ]
    },
    {
      "cell_type": "code",
      "execution_count": 14,
      "metadata": {
        "id": "PcXsz_JgelUM"
      },
      "outputs": [],
      "source": [
        "model= Sequential()\n",
        "model.add(Dense(units=64, activation=relu, input_shape=(Xp.shape[1],)))\n",
        "model.add(Dropout(0.2))\n",
        "model.add(Dense(units=32, activation=relu))\n",
        "model.add(Dropout(0.2))\n",
        "model.add(Dense(units=16, activation=relu))\n",
        "model.add(Dropout(0.2))\n",
        "model.add(Dense(units=1, activation=sigmoid))"
      ]
    },
    {
      "cell_type": "code",
      "execution_count": 15,
      "metadata": {
        "colab": {
          "base_uri": "https://localhost:8080/"
        },
        "id": "YIuPZndOelUO",
        "outputId": "715bb6aa-0bf0-4aed-8318-837ed5e682b1"
      },
      "outputs": [
        {
          "name": "stdout",
          "output_type": "stream",
          "text": [
            "Model: \"sequential\"\n",
            "_________________________________________________________________\n",
            " Layer (type)                Output Shape              Param #   \n",
            "=================================================================\n",
            " dense (Dense)               (None, 64)                704       \n",
            "                                                                 \n",
            " dropout (Dropout)           (None, 64)                0         \n",
            "                                                                 \n",
            " dense_1 (Dense)             (None, 32)                2080      \n",
            "                                                                 \n",
            " dropout_1 (Dropout)         (None, 32)                0         \n",
            "                                                                 \n",
            " dense_2 (Dense)             (None, 16)                528       \n",
            "                                                                 \n",
            " dropout_2 (Dropout)         (None, 16)                0         \n",
            "                                                                 \n",
            " dense_3 (Dense)             (None, 1)                 17        \n",
            "                                                                 \n",
            "=================================================================\n",
            "Total params: 3,329\n",
            "Trainable params: 3,329\n",
            "Non-trainable params: 0\n",
            "_________________________________________________________________\n"
          ]
        }
      ],
      "source": [
        "# optimizer is stochastic gradient descent, which is a good default optimizer, for more info see https://keras.io/api/optimizers/sgd/\n",
        "model.compile(\n",
        "    optimizer=SGD(),\n",
        "    loss=binary_crossentropy,\n",
        "    metrics=['accuracy', 'Precision', 'Recall']\n",
        ")\n",
        "\n",
        "model.summary()"
      ]
    },
    {
      "cell_type": "code",
      "execution_count": 17,
      "metadata": {
        "colab": {
          "base_uri": "https://localhost:8080/"
        },
        "id": "JfaA_1ocelUP",
        "outputId": "afb7ae25-1e9b-4169-a37c-bd25b19911d2"
      },
      "outputs": [
        {
          "data": {
            "text/plain": [
              "((3069104, 10), (767276, 10), (3069104,), (767276,))"
            ]
          },
          "execution_count": 17,
          "metadata": {},
          "output_type": "execute_result"
        }
      ],
      "source": [
        "X_train, X_test, y_train, y_test = train_test_split(Xp, y, test_size=0.2, random_state=42)\n",
        "X_train.shape, X_test.shape, y_train.shape, y_test.shape"
      ]
    },
    {
      "cell_type": "code",
      "execution_count": 18,
      "metadata": {
        "colab": {
          "base_uri": "https://localhost:8080/"
        },
        "id": "-54ftmx5elUQ",
        "outputId": "b5e097f3-624c-49d6-8fc0-fe2251801a52"
      },
      "outputs": [
        {
          "name": "stdout",
          "output_type": "stream",
          "text": [
            "Epoch 1/10\n",
            "76728/76728 [==============================] - 223s 3ms/step - loss: 0.0685 - accuracy: 0.9746 - precision: 0.9618 - recall: 0.9885 - val_loss: 0.0335 - val_accuracy: 0.9881 - val_precision: 0.9769 - val_recall: 0.9998\n",
            "Epoch 2/10\n",
            "76728/76728 [==============================] - 223s 3ms/step - loss: 0.0327 - accuracy: 0.9889 - precision: 0.9837 - recall: 0.9943 - val_loss: 0.0282 - val_accuracy: 0.9901 - val_precision: 0.9808 - val_recall: 0.9998\n",
            "Epoch 3/10\n",
            "76728/76728 [==============================] - 209s 3ms/step - loss: 0.0279 - accuracy: 0.9909 - precision: 0.9866 - recall: 0.9953 - val_loss: 0.0181 - val_accuracy: 0.9938 - val_precision: 0.9880 - val_recall: 0.9998\n",
            "Epoch 4/10\n",
            "76728/76728 [==============================] - 214s 3ms/step - loss: 0.0249 - accuracy: 0.9918 - precision: 0.9882 - recall: 0.9956 - val_loss: 0.0148 - val_accuracy: 0.9954 - val_precision: 0.9911 - val_recall: 0.9998\n",
            "Epoch 5/10\n",
            "76728/76728 [==============================] - 234s 3ms/step - loss: 0.0227 - accuracy: 0.9926 - precision: 0.9894 - recall: 0.9959 - val_loss: 0.0153 - val_accuracy: 0.9946 - val_precision: 0.9896 - val_recall: 0.9998\n",
            "Epoch 6/10\n",
            "76728/76728 [==============================] - 214s 3ms/step - loss: 0.0209 - accuracy: 0.9933 - precision: 0.9905 - recall: 0.9962 - val_loss: 0.0145 - val_accuracy: 0.9964 - val_precision: 0.9930 - val_recall: 0.9998\n",
            "Epoch 7/10\n",
            "76728/76728 [==============================] - 204s 3ms/step - loss: 0.0201 - accuracy: 0.9935 - precision: 0.9909 - recall: 0.9963 - val_loss: 0.0165 - val_accuracy: 0.9944 - val_precision: 0.9892 - val_recall: 0.9998\n",
            "Epoch 8/10\n",
            "76728/76728 [==============================] - 206s 3ms/step - loss: 0.0184 - accuracy: 0.9941 - precision: 0.9918 - recall: 0.9966 - val_loss: 0.0131 - val_accuracy: 0.9966 - val_precision: 0.9935 - val_recall: 0.9998\n",
            "Epoch 9/10\n",
            "76728/76728 [==============================] - 200s 3ms/step - loss: 0.0177 - accuracy: 0.9944 - precision: 0.9922 - recall: 0.9967 - val_loss: 0.0163 - val_accuracy: 0.9947 - val_precision: 0.9898 - val_recall: 0.9998\n",
            "Epoch 10/10\n",
            "76728/76728 [==============================] - 205s 3ms/step - loss: 0.0174 - accuracy: 0.9946 - precision: 0.9924 - recall: 0.9968 - val_loss: 0.0147 - val_accuracy: 0.9951 - val_precision: 0.9906 - val_recall: 0.9998\n"
          ]
        },
        {
          "data": {
            "text/plain": [
              "<keras.callbacks.History at 0x7f9023517fd0>"
            ]
          },
          "execution_count": 18,
          "metadata": {},
          "output_type": "execute_result"
        }
      ],
      "source": [
        "model.fit(X_train, y_train, epochs=10, batch_size=32, validation_split=0.2, verbose=1, shuffle=True)"
      ]
    },
    {
      "cell_type": "code",
      "execution_count": 19,
      "metadata": {
        "colab": {
          "base_uri": "https://localhost:8080/"
        },
        "id": "kmSoYgxmelUR",
        "outputId": "8d3a4b1c-a301-4c9e-f13f-a4dbd844ebb1"
      },
      "outputs": [
        {
          "name": "stdout",
          "output_type": "stream",
          "text": [
            "23978/23978 [==============================] - 43s 2ms/step - loss: 0.0148 - accuracy: 0.9951 - precision: 0.9906 - recall: 0.9998\n"
          ]
        },
        {
          "data": {
            "text/plain": [
              "[0.014771105721592903,\n",
              " 0.9951386451721191,\n",
              " 0.9905996322631836,\n",
              " 0.9997814297676086]"
            ]
          },
          "execution_count": 19,
          "metadata": {},
          "output_type": "execute_result"
        }
      ],
      "source": [
        "model.evaluate(X_test, y_test)"
      ]
    },
    {
      "cell_type": "code",
      "execution_count": 20,
      "metadata": {
        "colab": {
          "base_uri": "https://localhost:8080/",
          "height": 466
        },
        "id": "sDypjJhJelUR",
        "outputId": "048d8b59-f88e-42c8-89b4-04b3b2602e72"
      },
      "outputs": [
        {
          "name": "stdout",
          "output_type": "stream",
          "text": [
            "23978/23978 [==============================] - 35s 1ms/step\n"
          ]
        },
        {
          "data": {
            "text/plain": [
              "<Axes: >"
            ]
          },
          "execution_count": 20,
          "metadata": {},
          "output_type": "execute_result"
        },
        {
          "data": {
            "image/png": "[encoded data removed]",
            "text/plain": [
              "<Figure size 640x480 with 2 Axes>"
            ]
          },
          "metadata": {},
          "output_type": "display_data"
        }
      ],
      "source": [
        "import seaborn as sns\n",
        "# heatmap\n",
        "ypred = model.predict(X_test)\n",
        "ypred = ypred > 0.5\n",
        "cm = confusion_matrix(y_test, ypred)\n",
        "sns.heatmap(cm, annot=True, fmt='d')"
      ]
    },
    {
      "cell_type": "code",
      "execution_count": 21,
      "metadata": {
        "colab": {
          "base_uri": "https://localhost:8080/"
        },
        "id": "HkbycYHHelUS",
        "outputId": "9fef05d3-7a8b-49e2-ab18-3b3a67ba114a"
      },
      "outputs": [
        {
          "name": "stdout",
          "output_type": "stream",
          "text": [
            "              precision    recall  f1-score   support\n",
            "\n",
            "           0       1.00      0.99      1.00    382980\n",
            "           1       0.99      1.00      1.00    384296\n",
            "\n",
            "    accuracy                           1.00    767276\n",
            "   macro avg       1.00      1.00      1.00    767276\n",
            "weighted avg       1.00      1.00      1.00    767276\n",
            "\n"
          ]
        }
      ],
      "source": [
        "print(classification_report(y_test, ypred))"
      ]
    },
    {
      "attachments": {},
      "cell_type": "markdown",
      "metadata": {
        "id": "5W8Sn1OfelUT"
      },
      "source": [
        "#### Save the model"
      ]
    },
    {
      "cell_type": "code",
      "execution_count": 22,
      "metadata": {
        "colab": {
          "base_uri": "https://localhost:8080/"
        },
        "id": "97fHcdgzelUU",
        "outputId": "9e07e39b-dd4e-49d2-ad5c-2a7de95c514a"
      },
      "outputs": [
        {
          "data": {
            "text/plain": [
              "['ANN_M2_L3B_PP.jb']"
            ]
          },
          "execution_count": 22,
          "metadata": {},
          "output_type": "execute_result"
        }
      ],
      "source": [
        "from joblib import dump\n",
        "model.save(r'models\\v1\\ann_fraud_detection.h5')\n",
        "dump(p, r'models\\v1\\ann_fraud_detection_preprocessor.jb')"
      ]
    },
    {
      "attachments": {},
      "cell_type": "markdown",
      "metadata": {
        "id": "Ue0dcHYpelUZ"
      },
      "source": [
        "#### Load the model and preprocessor"
      ]
    },
    {
      "cell_type": "code",
      "execution_count": 23,
      "metadata": {
        "id": "t5Dfp7N2elUa"
      },
      "outputs": [],
      "source": [
        "from joblib import load\n",
        "def load_model():\n",
        "    model = tf.keras.models.load_model(r'models\\v1\\ann_fraud_detection.h5')\n",
        "    return model\n",
        "\n",
        "def load_preprocessor():\n",
        "    p = load(r'models\\v1\\ann_fraud_detection_preprocessor.jb')\n",
        "    return p"
      ]
    },
    {
      "cell_type": "code",
      "execution_count": 24,
      "metadata": {
        "colab": {
          "base_uri": "https://localhost:8080/"
        },
        "id": "zrK95P8pelUb",
        "outputId": "8ea2257f-21a4-4251-8608-612377feec6f"
      },
      "outputs": [
        {
          "name": "stdout",
          "output_type": "stream",
          "text": [
            "Model: \"sequential\"\n",
            "_________________________________________________________________\n",
            " Layer (type)                Output Shape              Param #   \n",
            "=================================================================\n",
            " dense (Dense)               (None, 64)                704       \n",
            "                                                                 \n",
            " dropout (Dropout)           (None, 64)                0         \n",
            "                                                                 \n",
            " dense_1 (Dense)             (None, 32)                2080      \n",
            "                                                                 \n",
            " dropout_1 (Dropout)         (None, 32)                0         \n",
            "                                                                 \n",
            " dense_2 (Dense)             (None, 16)                528       \n",
            "                                                                 \n",
            " dropout_2 (Dropout)         (None, 16)                0         \n",
            "                                                                 \n",
            " dense_3 (Dense)             (None, 1)                 17        \n",
            "                                                                 \n",
            "=================================================================\n",
            "Total params: 3,329\n",
            "Trainable params: 3,329\n",
            "Non-trainable params: 0\n",
            "_________________________________________________________________\n"
          ]
        }
      ],
      "source": [
        "existing_model = load_model()\n",
        "p = load_preprocessor()\n",
        "existing_model.summary()"
      ]
    },
    {
      "cell_type": "code",
      "execution_count": 25,
      "metadata": {
        "id": "xW1uTHl2elUd"
      },
      "outputs": [],
      "source": [
        "def predict_fraud(model, data):\n",
        "    data = p.transform(data)\n",
        "    prediction = model.predict(data)\n",
        "    return prediction"
      ]
    },
    {
      "cell_type": "code",
      "execution_count": 26,
      "metadata": {
        "colab": {
          "base_uri": "https://localhost:8080/"
        },
        "id": "3hIAFyLHelUe",
        "outputId": "bf3b4786-d7e4-4dab-b313-a68a7a0b1b12"
      },
      "outputs": [
        {
          "name": "stdout",
          "output_type": "stream",
          "text": [
            "1/1 [==============================] - 0s 93ms/step\n",
            "True\n"
          ]
        }
      ],
      "source": [
        "data = pd.DataFrame({\n",
        "    'step': [1],\n",
        "    'type': ['CASH_OUT'],\n",
        "    'amount': [1000],\n",
        "    'name_orig': ['C123450428'],\n",
        "    'oldbalanceOrg': [1000],\n",
        "    'newbalanceOrig': [0],\n",
        "    'name_dest': ['M123451249'],\n",
        "    'oldbalanceDest': [0],\n",
        "    'newbalanceDest': [0],\n",
        "})\n",
        "\n",
        "out = predict_fraud(existing_model, data)\n",
        "print(out[0][0] > 0.5)"
      ]
    },
    {
      "cell_type": "code",
      "execution_count": null,
      "metadata": {
        "id": "XFVtD3BxelUe"
      },
      "outputs": [],
      "source": []
    }
  ],
  "metadata": {
    "colab": {
      "provenance": []
    },
    "kernelspec": {
      "display_name": "base",
      "language": "python",
      "name": "python3"
    },
    "language_info": {
      "codemirror_mode": {
        "name": "ipython",
        "version": 3
      },
      "file_extension": ".py",
      "mimetype": "text/x-python",
      "name": "python",
      "nbconvert_exporter": "python",
      "pygments_lexer": "ipython3",
      "version": "3.10.9"
    },
    "orig_nbformat": 4
  },
  "nbformat": 4,
  "nbformat_minor": 0
}
